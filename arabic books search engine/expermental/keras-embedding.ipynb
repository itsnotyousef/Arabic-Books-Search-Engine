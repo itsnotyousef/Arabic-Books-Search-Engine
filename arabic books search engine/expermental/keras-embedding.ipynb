{
  "nbformat": 4,
  "nbformat_minor": 0,
  "metadata": {
    "colab": {
      "provenance": [],
      "gpuType": "V28",
      "include_colab_link": true
    },
    "kernelspec": {
      "name": "python3",
      "display_name": "Python 3"
    },
    "language_info": {
      "name": "python"
    },
    "accelerator": "TPU"
  },
  "cells": [
    {
      "cell_type": "markdown",
      "metadata": {
        "id": "view-in-github",
        "colab_type": "text"
      },
      "source": [
        "<a href=\"https://colab.research.google.com/github/itsnotyousef/NeuralSearchEngine/blob/Keras-Embedding/NeuralSearchEngineDemo.ipynb\" target=\"_parent\"><img src=\"https://colab.research.google.com/assets/colab-badge.svg\" alt=\"Open In Colab\"/></a>"
      ]
    },
    {
      "cell_type": "code",
      "execution_count": 1,
      "metadata": {
        "id": "Iu8Y4N4pV5gr"
      },
      "outputs": [],
      "source": [
        "#!pip install sentence-transformers\n"
      ]
    },
    {
      "cell_type": "code",
      "source": [
        "from google.colab import drive\n",
        "drive.mount('/content/drive')\n"
      ],
      "metadata": {
        "id": "ITudFZTYzhqC",
        "outputId": "64e48715-2099-4e34-91d3-cfe8c3540bcc",
        "colab": {
          "base_uri": "https://localhost:8080/"
        }
      },
      "execution_count": 2,
      "outputs": [
        {
          "output_type": "stream",
          "name": "stdout",
          "text": [
            "Mounted at /content/drive\n"
          ]
        }
      ]
    },
    {
      "cell_type": "code",
      "source": [
        "import pandas as pd\n",
        "import numpy as np\n",
        "# from sentence_transformers import SentenceTransformer\n",
        "# from sklearn.metrics.pairwise import cosine_similarity"
      ],
      "metadata": {
        "id": "CjSJpUfvW_A0"
      },
      "execution_count": 3,
      "outputs": []
    },
    {
      "cell_type": "code",
      "source": [
        "!pip install openpyxl"
      ],
      "metadata": {
        "id": "VOUTngxcQpy4",
        "outputId": "79ac38b8-fbca-4961-93a1-cdfecfe1cd98",
        "colab": {
          "base_uri": "https://localhost:8080/"
        }
      },
      "execution_count": 4,
      "outputs": [
        {
          "output_type": "stream",
          "name": "stdout",
          "text": [
            "Requirement already satisfied: openpyxl in /usr/local/lib/python3.11/dist-packages (3.1.5)\n",
            "Requirement already satisfied: et-xmlfile in /usr/local/lib/python3.11/dist-packages (from openpyxl) (2.0.0)\n"
          ]
        }
      ]
    },
    {
      "cell_type": "code",
      "source": [
        "df = pd.read_excel(\"/content/drive/MyDrive/GP/dataset/Prepared_Dataset.xlsx\")"
      ],
      "metadata": {
        "id": "Cota8wPoW-70"
      },
      "execution_count": 5,
      "outputs": []
    },
    {
      "cell_type": "code",
      "source": [
        "pd.set_option('display.max_colwidth', None)  # Show full content in each column\n",
        "pd.set_option('display.width', 1000)  # Increase table width\n",
        "\n",
        "\n",
        "df.head(2)"
      ],
      "metadata": {
        "colab": {
          "base_uri": "https://localhost:8080/",
          "height": 1000
        },
        "id": "cFx2mj8OW-5k",
        "outputId": "311fdf36-58b9-4f41-f1fe-5fb40fdba9cc"
      },
      "execution_count": 6,
      "outputs": [
        {
          "output_type": "execute_result",
          "data": {
            "text/plain": [
              "   Column1            ISBN          Title                    Author  Authors_Number  \\\n",
              "0        0      9774416333  استمتع بحياتك   محمد عبد الرحمن العريفي             1.0   \n",
              "1        1   9789777195522     عبقرية عمر         عباس محمود العقاد             1.0   \n",
              "\n",
              "                                                                                                                                                                                                                                                                                                                                                                                                                                                                                                                                                                                                                                                                                                                                                                                                                                                                                                                                                                                                                                                                                                                                                                                                                                                                                                                                                                                                                                                                                                                                                                                                                                                                                                                                                                                                                                                                                                                                                                                                                                                                                                                                                                                                                                                                                                                                                                                                                                                                                                                                                                             Description  \\\n",
              "0  لما كنت فى السادسة عشرة من عمري وقع فى يدي كتاب \"فن التعامل مع الناس\" لمؤلفه \"دايل كارنيجي\" كان كتابا رائعا قرأته عدة مرات.. كان كاتبه اقترح أن يعيد الشخص قراءته كل شهر.. ففعلت ذلك.. جعلت أطبق قواعده عند تعاملى مع الناس فرأيت لذلك نتائج عجيبة.. كان كارنيجي يسوق القاعدة \\t\\t\\tدكتور في العقيدة وأستاذ مساعد في كلية المعلمين بجامعة الملك سعود وهو أيضا داعية إسلامي سعودي معروف . نشأ في مدينة الدمام كما درس بها المراحل الدراسية الأولى، وقد كان ينوي دراسة الطب لحظة تخرجه، ثم تراجع والتحق بكلية الشريعة، وبعد ذلك تقدم للدراسات العليا في جامعة الإمام محمد بن ويذكر تحتها أمثلة ووقائع لرجال تميزوا من قومه.. روزفلت.. لنكولن.. جوزف.. مايك.. فتأملت فوجدت أن الرجل يؤلف ويوجه لأجل سعادة الدنيا فماذا لو عرف الإسلام وأخلاقه.. فحصل سعادة الدارين!.. ماذا لو جعل مهارات التعامل عبادة يتقرب بها العبد إلى ربه.. ثم اكتشفت أن كارنيجي مات منتحرا فأيقنت أن كتابه على حسنه وروعته.. لم ينفعه.. فبحثت فى تاريخنا فرأيت أن فى سيرة رسول الله (صلى الله عليه وسلم) وأصحابه ومواقف المتميزين من رجال أمتنا ما يغنينا.. فبدأت من ذلك الحين أؤلف هذا الكتاب فى فن التعامل مع الناس.. فهذا الكتاب الذى بين يديك ليس وليد شهر أو سنة.. بل هو نتيجة دراسات قمت بها لمدة عشرين عاما.. ومع أن الله تعالى قد من علي بتأليف قرابة العشرين عنوانا إلى الآن.. تجاوزت طبعات بعضها المليونى نسخة.. إلا أنى أجد أن أحب كتبى إلي وأغلاها إلى قلبي.. وأكثرها فائدة عملية- فيما أظن- هو هذا الكتاب الذى كتبت كلماته بمداد خلطته بدمي.. سكبت روحي بين أسطره.. عصرت ذكرياتى فيه.. جعلتها كلمات من القلب إلى القلب.. وأقسم أنها خرجت من قلبى مشتاقة أن يكون مستقرها قلبك.. فرحماك بها.. ما أعظم سروري لو علمت أن قارئا أو قارئة لهذه الورقات طبق ما فيه.. فشعر وشعر غيره بتطور مهاراته.. وازدادت متعته فى حياته.. فسطر بيمينه الطاهرة- مشكورا- رسالة عبر فيها عن رأيه.. وصور مشاعره بصدق وصراحة.. ثم أرسلها عبر بريد أو رسالة جوال sms إلى كاتب هذه السطور.. لأكون للطفه شاكرا.. وبظهر الغيب له داعيا..\\t سعود الإسلامية. بلغت أكثر من عشرين عنواناً، وهي نوعان :كتبالكافية الشافية في الانتصار للفرقة الناجية، لابن القيم، تحقيق ودراسة، وهي نونية ابن القيم، في مجلدين، وهي رسالة الماجستير.\" موقف ابن تيمية من الصوفية \" في مجلدين، وهي رسالة الدكتوراه.المفيد في تقريب أحكام المسافر (طبع ثلاث طبعات).المفيد في تقريب أحكام الأذان (طبع طبعتان).الدرر البهية في الألغاز الفقهية (طبع طبعتان).هل تبحث عن وظيفة (في الدعوة إلى الله).اركب معنا (في أهمية التوحيد).إنها ملكة.في بطن الحوت.إلا ليعبدون (شرح مصور للعبادات : الصلاة والزكاة والصوم والحج، طبع منه مليون نسخة)رحلة إلى السماء.عاشق في غرفة العمليات (توجيهات للأطباء والمرضى).صرخة في مطعم الجامعة (رواية حول الحجاب وأدلته).استمتع   \n",
              "1                                                                                                                                                                                                                                                                                                                                                                                                                                                                                                                                                                                                                                                                                                                                                                                                                                                                                                                                                                                                                                       يزخر التاريخ الإسلامي برجال عِظام سطروا حوادثه الكبرى بحروف من نور يشع من صلاحهم ونفعهم للناس، فحُقَّ لهم خلود الذكر. من هؤلاء «عُمر بن الخطاب» أحد كبار صحابة النبي، والخليفة الراشد العادل، كان دخولُ عُمرَ الإسلامَ نقطةَ تحوُّلٍ كبرى في حياته؛ حيث ظهر كرجل قوي الشخصية حاسم الرأي طالب للحق، \\t\\t\\tولد العقاد في أسوان في 28 يونيو 1889, وحصل على الشهادة الإبتدائية  في الرابعة عشر من عمره, و لم يكمل تعليمه بعدها. وحدث أن زار المدرسة الإمام الشيخ محمد عبده وعرض عليه مدرس اللغة العربية الشيخ فخر الدين كراسة التلميذ عباس العقاد، فتصفحها باسماً وناقش العقاد في موضوعاتها ثم أعز الله به الإسلام فكان ظهيرًا لإخوانه المسلمين ضد ظلم الجاهلية، فيصاحب النبي ويخدم دعوة الإسلام بكل طاقته، ثم يصبح خليفة المسلمين بعد وفاة الخليفة الأول «أبي بكر»، فيوطِّد أركان الدولة الوليدة ويوسِّع من رقعتها، كما يرعى مصالح أبنائها في عدل لا يخلو من الرحمة. وهذا الكتاب هو دراسةٌ لجوانب شخصية عُمر وطِباعه النفسية وتعرُّفٌ على مفاتيح شخصيته، لنفهم هذه الشخصية العبقرية أكثر.\\t التفت إلى المدرِّس وقال: \" ما أجدر هـذا الفتى أن يكون كاتباً بعد\". و اشتغل  بوظائف كثيرة في المديريات ومصلحة التلغراف و مصلحة سكة الحديد و ديوان الأوقاف و استقال منها واحدة بعد واحدة , و كان يقول في الوظائف الحكومية : \"إن نفوري من الوظيفة الحكومية في مثل ذلك العهد الذي يقدسها كان من السوابق التي أغتبط بها وأحمد الله عليها, فلا أنسى حتى اليوم أنني تلقيت خبر قبولي في الوظيفة الأولى التي أكرهتني الظروف على طلبها كأنني أتلقى خبر الحكم بالسجن أو الأسر والعبودية, إذ كنت أؤمن كل الإيمان بأن الموظف رقيق القرن العشرين\".كانت حياته سلسلة من   \n",
              "\n",
              "                      Genres  Average_Ratings  Reviews_Number  Quotes_Number  Community_Size  Pages_Number  Editions  Publication_Year Publisher                                                                                                                      URL                                                                                    Cover_URL  \n",
              "0         علوم إسلامية رقائق              4.0            97.0           39.0          7945.0           344         4            2009.0       NaN  https://www.abjjad.com/book/15445916/%D8%A7%D8%B3%D8%AA%D9%85%D8%AA%D8%B9-%D8%A8%D8%AD%D9%8A%D8%A7%D8%AA%D9%83/24748615  https://abjjadst.blob.core.windows.net/pub/2f26aab3-f689-49bc-9e31-76151c3208a7-192X290.jpg  \n",
              "1  علوم إسلامية سيرة الصحابة              4.1            64.0          114.0          7337.0           497         3            2014.0       NaN                  https://www.abjjad.com/book/15445340/%D8%B9%D8%A8%D9%82%D8%B1%D9%8A%D8%A9-%D8%B9%D9%85%D8%B1/2608758792  https://abjjadst.blob.core.windows.net/pub/e5faa178-abc6-46b4-8a94-9e8dc0a0b23d-192X290.png  "
            ],
            "text/html": [
              "\n",
              "  <div id=\"df-8031ddd9-a262-4b0f-8052-380304fafd10\" class=\"colab-df-container\">\n",
              "    <div>\n",
              "<style scoped>\n",
              "    .dataframe tbody tr th:only-of-type {\n",
              "        vertical-align: middle;\n",
              "    }\n",
              "\n",
              "    .dataframe tbody tr th {\n",
              "        vertical-align: top;\n",
              "    }\n",
              "\n",
              "    .dataframe thead th {\n",
              "        text-align: right;\n",
              "    }\n",
              "</style>\n",
              "<table border=\"1\" class=\"dataframe\">\n",
              "  <thead>\n",
              "    <tr style=\"text-align: right;\">\n",
              "      <th></th>\n",
              "      <th>Column1</th>\n",
              "      <th>ISBN</th>\n",
              "      <th>Title</th>\n",
              "      <th>Author</th>\n",
              "      <th>Authors_Number</th>\n",
              "      <th>Description</th>\n",
              "      <th>Genres</th>\n",
              "      <th>Average_Ratings</th>\n",
              "      <th>Reviews_Number</th>\n",
              "      <th>Quotes_Number</th>\n",
              "      <th>Community_Size</th>\n",
              "      <th>Pages_Number</th>\n",
              "      <th>Editions</th>\n",
              "      <th>Publication_Year</th>\n",
              "      <th>Publisher</th>\n",
              "      <th>URL</th>\n",
              "      <th>Cover_URL</th>\n",
              "    </tr>\n",
              "  </thead>\n",
              "  <tbody>\n",
              "    <tr>\n",
              "      <th>0</th>\n",
              "      <td>0</td>\n",
              "      <td>9774416333</td>\n",
              "      <td>استمتع بحياتك</td>\n",
              "      <td>محمد عبد الرحمن العريفي</td>\n",
              "      <td>1.0</td>\n",
              "      <td>لما كنت فى السادسة عشرة من عمري وقع فى يدي كتاب \"فن التعامل مع الناس\" لمؤلفه \"دايل كارنيجي\" كان كتابا رائعا قرأته عدة مرات.. كان كاتبه اقترح أن يعيد الشخص قراءته كل شهر.. ففعلت ذلك.. جعلت أطبق قواعده عند تعاملى مع الناس فرأيت لذلك نتائج عجيبة.. كان كارنيجي يسوق القاعدة \\t\\t\\tدكتور في العقيدة وأستاذ مساعد في كلية المعلمين بجامعة الملك سعود وهو أيضا داعية إسلامي سعودي معروف . نشأ في مدينة الدمام كما درس بها المراحل الدراسية الأولى، وقد كان ينوي دراسة الطب لحظة تخرجه، ثم تراجع والتحق بكلية الشريعة، وبعد ذلك تقدم للدراسات العليا في جامعة الإمام محمد بن ويذكر تحتها أمثلة ووقائع لرجال تميزوا من قومه.. روزفلت.. لنكولن.. جوزف.. مايك.. فتأملت فوجدت أن الرجل يؤلف ويوجه لأجل سعادة الدنيا فماذا لو عرف الإسلام وأخلاقه.. فحصل سعادة الدارين!.. ماذا لو جعل مهارات التعامل عبادة يتقرب بها العبد إلى ربه.. ثم اكتشفت أن كارنيجي مات منتحرا فأيقنت أن كتابه على حسنه وروعته.. لم ينفعه.. فبحثت فى تاريخنا فرأيت أن فى سيرة رسول الله (صلى الله عليه وسلم) وأصحابه ومواقف المتميزين من رجال أمتنا ما يغنينا.. فبدأت من ذلك الحين أؤلف هذا الكتاب فى فن التعامل مع الناس.. فهذا الكتاب الذى بين يديك ليس وليد شهر أو سنة.. بل هو نتيجة دراسات قمت بها لمدة عشرين عاما.. ومع أن الله تعالى قد من علي بتأليف قرابة العشرين عنوانا إلى الآن.. تجاوزت طبعات بعضها المليونى نسخة.. إلا أنى أجد أن أحب كتبى إلي وأغلاها إلى قلبي.. وأكثرها فائدة عملية- فيما أظن- هو هذا الكتاب الذى كتبت كلماته بمداد خلطته بدمي.. سكبت روحي بين أسطره.. عصرت ذكرياتى فيه.. جعلتها كلمات من القلب إلى القلب.. وأقسم أنها خرجت من قلبى مشتاقة أن يكون مستقرها قلبك.. فرحماك بها.. ما أعظم سروري لو علمت أن قارئا أو قارئة لهذه الورقات طبق ما فيه.. فشعر وشعر غيره بتطور مهاراته.. وازدادت متعته فى حياته.. فسطر بيمينه الطاهرة- مشكورا- رسالة عبر فيها عن رأيه.. وصور مشاعره بصدق وصراحة.. ثم أرسلها عبر بريد أو رسالة جوال sms إلى كاتب هذه السطور.. لأكون للطفه شاكرا.. وبظهر الغيب له داعيا..\\t سعود الإسلامية. بلغت أكثر من عشرين عنواناً، وهي نوعان :كتبالكافية الشافية في الانتصار للفرقة الناجية، لابن القيم، تحقيق ودراسة، وهي نونية ابن القيم، في مجلدين، وهي رسالة الماجستير.\" موقف ابن تيمية من الصوفية \" في مجلدين، وهي رسالة الدكتوراه.المفيد في تقريب أحكام المسافر (طبع ثلاث طبعات).المفيد في تقريب أحكام الأذان (طبع طبعتان).الدرر البهية في الألغاز الفقهية (طبع طبعتان).هل تبحث عن وظيفة (في الدعوة إلى الله).اركب معنا (في أهمية التوحيد).إنها ملكة.في بطن الحوت.إلا ليعبدون (شرح مصور للعبادات : الصلاة والزكاة والصوم والحج، طبع منه مليون نسخة)رحلة إلى السماء.عاشق في غرفة العمليات (توجيهات للأطباء والمرضى).صرخة في مطعم الجامعة (رواية حول الحجاب وأدلته).استمتع</td>\n",
              "      <td>علوم إسلامية رقائق</td>\n",
              "      <td>4.0</td>\n",
              "      <td>97.0</td>\n",
              "      <td>39.0</td>\n",
              "      <td>7945.0</td>\n",
              "      <td>344</td>\n",
              "      <td>4</td>\n",
              "      <td>2009.0</td>\n",
              "      <td>NaN</td>\n",
              "      <td>https://www.abjjad.com/book/15445916/%D8%A7%D8%B3%D8%AA%D9%85%D8%AA%D8%B9-%D8%A8%D8%AD%D9%8A%D8%A7%D8%AA%D9%83/24748615</td>\n",
              "      <td>https://abjjadst.blob.core.windows.net/pub/2f26aab3-f689-49bc-9e31-76151c3208a7-192X290.jpg</td>\n",
              "    </tr>\n",
              "    <tr>\n",
              "      <th>1</th>\n",
              "      <td>1</td>\n",
              "      <td>9789777195522</td>\n",
              "      <td>عبقرية عمر</td>\n",
              "      <td>عباس محمود العقاد</td>\n",
              "      <td>1.0</td>\n",
              "      <td>يزخر التاريخ الإسلامي برجال عِظام سطروا حوادثه الكبرى بحروف من نور يشع من صلاحهم ونفعهم للناس، فحُقَّ لهم خلود الذكر. من هؤلاء «عُمر بن الخطاب» أحد كبار صحابة النبي، والخليفة الراشد العادل، كان دخولُ عُمرَ الإسلامَ نقطةَ تحوُّلٍ كبرى في حياته؛ حيث ظهر كرجل قوي الشخصية حاسم الرأي طالب للحق، \\t\\t\\tولد العقاد في أسوان في 28 يونيو 1889, وحصل على الشهادة الإبتدائية  في الرابعة عشر من عمره, و لم يكمل تعليمه بعدها. وحدث أن زار المدرسة الإمام الشيخ محمد عبده وعرض عليه مدرس اللغة العربية الشيخ فخر الدين كراسة التلميذ عباس العقاد، فتصفحها باسماً وناقش العقاد في موضوعاتها ثم أعز الله به الإسلام فكان ظهيرًا لإخوانه المسلمين ضد ظلم الجاهلية، فيصاحب النبي ويخدم دعوة الإسلام بكل طاقته، ثم يصبح خليفة المسلمين بعد وفاة الخليفة الأول «أبي بكر»، فيوطِّد أركان الدولة الوليدة ويوسِّع من رقعتها، كما يرعى مصالح أبنائها في عدل لا يخلو من الرحمة. وهذا الكتاب هو دراسةٌ لجوانب شخصية عُمر وطِباعه النفسية وتعرُّفٌ على مفاتيح شخصيته، لنفهم هذه الشخصية العبقرية أكثر.\\t التفت إلى المدرِّس وقال: \" ما أجدر هـذا الفتى أن يكون كاتباً بعد\". و اشتغل  بوظائف كثيرة في المديريات ومصلحة التلغراف و مصلحة سكة الحديد و ديوان الأوقاف و استقال منها واحدة بعد واحدة , و كان يقول في الوظائف الحكومية : \"إن نفوري من الوظيفة الحكومية في مثل ذلك العهد الذي يقدسها كان من السوابق التي أغتبط بها وأحمد الله عليها, فلا أنسى حتى اليوم أنني تلقيت خبر قبولي في الوظيفة الأولى التي أكرهتني الظروف على طلبها كأنني أتلقى خبر الحكم بالسجن أو الأسر والعبودية, إذ كنت أؤمن كل الإيمان بأن الموظف رقيق القرن العشرين\".كانت حياته سلسلة من</td>\n",
              "      <td>علوم إسلامية سيرة الصحابة</td>\n",
              "      <td>4.1</td>\n",
              "      <td>64.0</td>\n",
              "      <td>114.0</td>\n",
              "      <td>7337.0</td>\n",
              "      <td>497</td>\n",
              "      <td>3</td>\n",
              "      <td>2014.0</td>\n",
              "      <td>NaN</td>\n",
              "      <td>https://www.abjjad.com/book/15445340/%D8%B9%D8%A8%D9%82%D8%B1%D9%8A%D8%A9-%D8%B9%D9%85%D8%B1/2608758792</td>\n",
              "      <td>https://abjjadst.blob.core.windows.net/pub/e5faa178-abc6-46b4-8a94-9e8dc0a0b23d-192X290.png</td>\n",
              "    </tr>\n",
              "  </tbody>\n",
              "</table>\n",
              "</div>\n",
              "    <div class=\"colab-df-buttons\">\n",
              "\n",
              "  <div class=\"colab-df-container\">\n",
              "    <button class=\"colab-df-convert\" onclick=\"convertToInteractive('df-8031ddd9-a262-4b0f-8052-380304fafd10')\"\n",
              "            title=\"Convert this dataframe to an interactive table.\"\n",
              "            style=\"display:none;\">\n",
              "\n",
              "  <svg xmlns=\"http://www.w3.org/2000/svg\" height=\"24px\" viewBox=\"0 -960 960 960\">\n",
              "    <path d=\"M120-120v-720h720v720H120Zm60-500h600v-160H180v160Zm220 220h160v-160H400v160Zm0 220h160v-160H400v160ZM180-400h160v-160H180v160Zm440 0h160v-160H620v160ZM180-180h160v-160H180v160Zm440 0h160v-160H620v160Z\"/>\n",
              "  </svg>\n",
              "    </button>\n",
              "\n",
              "  <style>\n",
              "    .colab-df-container {\n",
              "      display:flex;\n",
              "      gap: 12px;\n",
              "    }\n",
              "\n",
              "    .colab-df-convert {\n",
              "      background-color: #E8F0FE;\n",
              "      border: none;\n",
              "      border-radius: 50%;\n",
              "      cursor: pointer;\n",
              "      display: none;\n",
              "      fill: #1967D2;\n",
              "      height: 32px;\n",
              "      padding: 0 0 0 0;\n",
              "      width: 32px;\n",
              "    }\n",
              "\n",
              "    .colab-df-convert:hover {\n",
              "      background-color: #E2EBFA;\n",
              "      box-shadow: 0px 1px 2px rgba(60, 64, 67, 0.3), 0px 1px 3px 1px rgba(60, 64, 67, 0.15);\n",
              "      fill: #174EA6;\n",
              "    }\n",
              "\n",
              "    .colab-df-buttons div {\n",
              "      margin-bottom: 4px;\n",
              "    }\n",
              "\n",
              "    [theme=dark] .colab-df-convert {\n",
              "      background-color: #3B4455;\n",
              "      fill: #D2E3FC;\n",
              "    }\n",
              "\n",
              "    [theme=dark] .colab-df-convert:hover {\n",
              "      background-color: #434B5C;\n",
              "      box-shadow: 0px 1px 3px 1px rgba(0, 0, 0, 0.15);\n",
              "      filter: drop-shadow(0px 1px 2px rgba(0, 0, 0, 0.3));\n",
              "      fill: #FFFFFF;\n",
              "    }\n",
              "  </style>\n",
              "\n",
              "    <script>\n",
              "      const buttonEl =\n",
              "        document.querySelector('#df-8031ddd9-a262-4b0f-8052-380304fafd10 button.colab-df-convert');\n",
              "      buttonEl.style.display =\n",
              "        google.colab.kernel.accessAllowed ? 'block' : 'none';\n",
              "\n",
              "      async function convertToInteractive(key) {\n",
              "        const element = document.querySelector('#df-8031ddd9-a262-4b0f-8052-380304fafd10');\n",
              "        const dataTable =\n",
              "          await google.colab.kernel.invokeFunction('convertToInteractive',\n",
              "                                                    [key], {});\n",
              "        if (!dataTable) return;\n",
              "\n",
              "        const docLinkHtml = 'Like what you see? Visit the ' +\n",
              "          '<a target=\"_blank\" href=https://colab.research.google.com/notebooks/data_table.ipynb>data table notebook</a>'\n",
              "          + ' to learn more about interactive tables.';\n",
              "        element.innerHTML = '';\n",
              "        dataTable['output_type'] = 'display_data';\n",
              "        await google.colab.output.renderOutput(dataTable, element);\n",
              "        const docLink = document.createElement('div');\n",
              "        docLink.innerHTML = docLinkHtml;\n",
              "        element.appendChild(docLink);\n",
              "      }\n",
              "    </script>\n",
              "  </div>\n",
              "\n",
              "\n",
              "<div id=\"df-264bdc46-7026-44e0-804a-a1edb6936492\">\n",
              "  <button class=\"colab-df-quickchart\" onclick=\"quickchart('df-264bdc46-7026-44e0-804a-a1edb6936492')\"\n",
              "            title=\"Suggest charts\"\n",
              "            style=\"display:none;\">\n",
              "\n",
              "<svg xmlns=\"http://www.w3.org/2000/svg\" height=\"24px\"viewBox=\"0 0 24 24\"\n",
              "     width=\"24px\">\n",
              "    <g>\n",
              "        <path d=\"M19 3H5c-1.1 0-2 .9-2 2v14c0 1.1.9 2 2 2h14c1.1 0 2-.9 2-2V5c0-1.1-.9-2-2-2zM9 17H7v-7h2v7zm4 0h-2V7h2v10zm4 0h-2v-4h2v4z\"/>\n",
              "    </g>\n",
              "</svg>\n",
              "  </button>\n",
              "\n",
              "<style>\n",
              "  .colab-df-quickchart {\n",
              "      --bg-color: #E8F0FE;\n",
              "      --fill-color: #1967D2;\n",
              "      --hover-bg-color: #E2EBFA;\n",
              "      --hover-fill-color: #174EA6;\n",
              "      --disabled-fill-color: #AAA;\n",
              "      --disabled-bg-color: #DDD;\n",
              "  }\n",
              "\n",
              "  [theme=dark] .colab-df-quickchart {\n",
              "      --bg-color: #3B4455;\n",
              "      --fill-color: #D2E3FC;\n",
              "      --hover-bg-color: #434B5C;\n",
              "      --hover-fill-color: #FFFFFF;\n",
              "      --disabled-bg-color: #3B4455;\n",
              "      --disabled-fill-color: #666;\n",
              "  }\n",
              "\n",
              "  .colab-df-quickchart {\n",
              "    background-color: var(--bg-color);\n",
              "    border: none;\n",
              "    border-radius: 50%;\n",
              "    cursor: pointer;\n",
              "    display: none;\n",
              "    fill: var(--fill-color);\n",
              "    height: 32px;\n",
              "    padding: 0;\n",
              "    width: 32px;\n",
              "  }\n",
              "\n",
              "  .colab-df-quickchart:hover {\n",
              "    background-color: var(--hover-bg-color);\n",
              "    box-shadow: 0 1px 2px rgba(60, 64, 67, 0.3), 0 1px 3px 1px rgba(60, 64, 67, 0.15);\n",
              "    fill: var(--button-hover-fill-color);\n",
              "  }\n",
              "\n",
              "  .colab-df-quickchart-complete:disabled,\n",
              "  .colab-df-quickchart-complete:disabled:hover {\n",
              "    background-color: var(--disabled-bg-color);\n",
              "    fill: var(--disabled-fill-color);\n",
              "    box-shadow: none;\n",
              "  }\n",
              "\n",
              "  .colab-df-spinner {\n",
              "    border: 2px solid var(--fill-color);\n",
              "    border-color: transparent;\n",
              "    border-bottom-color: var(--fill-color);\n",
              "    animation:\n",
              "      spin 1s steps(1) infinite;\n",
              "  }\n",
              "\n",
              "  @keyframes spin {\n",
              "    0% {\n",
              "      border-color: transparent;\n",
              "      border-bottom-color: var(--fill-color);\n",
              "      border-left-color: var(--fill-color);\n",
              "    }\n",
              "    20% {\n",
              "      border-color: transparent;\n",
              "      border-left-color: var(--fill-color);\n",
              "      border-top-color: var(--fill-color);\n",
              "    }\n",
              "    30% {\n",
              "      border-color: transparent;\n",
              "      border-left-color: var(--fill-color);\n",
              "      border-top-color: var(--fill-color);\n",
              "      border-right-color: var(--fill-color);\n",
              "    }\n",
              "    40% {\n",
              "      border-color: transparent;\n",
              "      border-right-color: var(--fill-color);\n",
              "      border-top-color: var(--fill-color);\n",
              "    }\n",
              "    60% {\n",
              "      border-color: transparent;\n",
              "      border-right-color: var(--fill-color);\n",
              "    }\n",
              "    80% {\n",
              "      border-color: transparent;\n",
              "      border-right-color: var(--fill-color);\n",
              "      border-bottom-color: var(--fill-color);\n",
              "    }\n",
              "    90% {\n",
              "      border-color: transparent;\n",
              "      border-bottom-color: var(--fill-color);\n",
              "    }\n",
              "  }\n",
              "</style>\n",
              "\n",
              "  <script>\n",
              "    async function quickchart(key) {\n",
              "      const quickchartButtonEl =\n",
              "        document.querySelector('#' + key + ' button');\n",
              "      quickchartButtonEl.disabled = true;  // To prevent multiple clicks.\n",
              "      quickchartButtonEl.classList.add('colab-df-spinner');\n",
              "      try {\n",
              "        const charts = await google.colab.kernel.invokeFunction(\n",
              "            'suggestCharts', [key], {});\n",
              "      } catch (error) {\n",
              "        console.error('Error during call to suggestCharts:', error);\n",
              "      }\n",
              "      quickchartButtonEl.classList.remove('colab-df-spinner');\n",
              "      quickchartButtonEl.classList.add('colab-df-quickchart-complete');\n",
              "    }\n",
              "    (() => {\n",
              "      let quickchartButtonEl =\n",
              "        document.querySelector('#df-264bdc46-7026-44e0-804a-a1edb6936492 button');\n",
              "      quickchartButtonEl.style.display =\n",
              "        google.colab.kernel.accessAllowed ? 'block' : 'none';\n",
              "    })();\n",
              "  </script>\n",
              "</div>\n",
              "\n",
              "    </div>\n",
              "  </div>\n"
            ],
            "application/vnd.google.colaboratory.intrinsic+json": {
              "type": "dataframe",
              "variable_name": "df",
              "summary": "{\n  \"name\": \"df\",\n  \"rows\": 16558,\n  \"fields\": [\n    {\n      \"column\": \"Column1\",\n      \"properties\": {\n        \"dtype\": \"number\",\n        \"std\": 5059,\n        \"min\": 0,\n        \"max\": 17868,\n        \"num_unique_values\": 16558,\n        \"samples\": [\n          3209,\n          4311,\n          4180\n        ],\n        \"semantic_type\": \"\",\n        \"description\": \"\"\n      }\n    },\n    {\n      \"column\": \"ISBN\",\n      \"properties\": {\n        \"dtype\": \"string\",\n        \"num_unique_values\": 8364,\n        \"samples\": [\n          \" 9789953630496\",\n          \" 9786140321090\",\n          \" 9789777194280\"\n        ],\n        \"semantic_type\": \"\",\n        \"description\": \"\"\n      }\n    },\n    {\n      \"column\": \"Title\",\n      \"properties\": {\n        \"dtype\": \"string\",\n        \"num_unique_values\": 16052,\n        \"samples\": [\n          \"\\u0623\\u0633\\u0627\\u0633\\u064a\\u0627\\u062a \\u0627\\u0644\\u0643\\u064a\\u0645\\u064a\\u0627\\u0621 \\u0627\\u0644\\u062d\\u064a\\u0648\\u064a\\u0629\",\n          \"\\u0627\\u0644\\u0645\\u062f\\u062e\\u0644 \\u0625\\u0644\\u0649 \\u0627\\u0644\\u0639\\u0644\\u0648\\u0645 \\u0627\\u0644\\u0633\\u064a\\u0627\\u0633\\u064a\\u0629\",\n          \"\\u0627\\u0644\\u0641\\u0643\\u0631 \\u0627\\u0644\\u062c\\u0630\\u0631\\u064a \\u0623\\u0637\\u0631\\u0648\\u062d\\u0629 \\u0645\\u0648\\u062a \\u0627\\u0644\\u0648\\u0627\\u0642\\u0639\"\n        ],\n        \"semantic_type\": \"\",\n        \"description\": \"\"\n      }\n    },\n    {\n      \"column\": \"Author\",\n      \"properties\": {\n        \"dtype\": \"string\",\n        \"num_unique_values\": 8662,\n        \"samples\": [\n          \" DORLING KINDERSLY\",\n          \" \\u0637\\u0631\\u064a\\u0641 \\u0627\\u0644\\u062e\\u0627\\u0644\\u062f\\u064a\",\n          \" \\u0645\\u0634\\u0639\\u0644 \\u062e\\u0627\\u0644\\u062f \\u0627\\u0644\\u0642\\u062d\\u0635\"\n        ],\n        \"semantic_type\": \"\",\n        \"description\": \"\"\n      }\n    },\n    {\n      \"column\": \"Authors_Number\",\n      \"properties\": {\n        \"dtype\": \"number\",\n        \"std\": 0.6140692937278918,\n        \"min\": 1.0,\n        \"max\": 11.0,\n        \"num_unique_values\": 10,\n        \"samples\": [\n          11.0,\n          2.0,\n          5.0\n        ],\n        \"semantic_type\": \"\",\n        \"description\": \"\"\n      }\n    },\n    {\n      \"column\": \"Description\",\n      \"properties\": {\n        \"dtype\": \"string\",\n        \"num_unique_values\": 13522,\n        \"samples\": [\n          \"\\u064a\\u0646\\u062a\\u0645\\u064a \\u0647\\u0630\\u0627 \\u0627\\u0644\\u0643\\u062a\\u0627\\u0628 \\u2013 \\u0645\\u0646 \\u062d\\u064a\\u062b \\u0627\\u0644\\u062a\\u0635\\u0646\\u064a\\u0641 \\u0627\\u0644\\u0623\\u062f\\u0628\\u064a \\u2013 \\u0625\\u0644\\u0649 \\u0623\\u062f\\u0628 \\u0627\\u0644\\u0631\\u062d\\u0644\\u0627\\u062a\\u060c \\u0648\\u0644\\u0643\\u0646 \\u0627\\u0644\\u0643\\u0627\\u062a\\u0628 \\u0627\\u0644\\u0643\\u0628\\u064a\\u0631 \\u062c\\u0645\\u0627\\u0644 \\u0627\\u0644\\u063a\\u064a\\u0637\\u0627\\u0646\\u064a \\u064a\\u0642\\u062f\\u0645 \\u0647\\u0630\\u0627 \\u0627\\u0644\\u0641\\u0646 \\u0627\\u0644\\u0623\\u062f\\u0628\\u064a \\u0628\\u0623\\u0633\\u0644\\u0648\\u0628 \\u0645\\u062a\\u0645\\u064a\\u0632 \\u064a\\u062c\\u0639\\u0644\\u0647 \\u0645\\u062a\\u0641\\u0631\\u062f\\u064b\\u0627 \\u0628\\u064a\\u0646 \\u0643\\u062b\\u064a\\u0631 \\u0645\\u0645\\u0646 \\u064a\\u0643\\u062a\\u0628\\u0648\\u0646 \\u0641\\u064a \\u0647\\u0630\\u0627 \\u0627\\u0644\\u0641\\u0646. \\u0641\\u0628\\u064a\\u0646 \\u0642\\u062f\\u0631\\u0629 \\u0641\\u0627\\u0626\\u0642\\u0629 \\u0639\\u0644\\u0649 \\u0627\\u0644\\u062d\\u0643\\u064a \\u0648\\u0644\\u063a\\u0629 \\u062c\\u0645\\u0627\\u0644\\u064a\\u0629 \\u0645\\u062a\\u0645\\u064a\\u0632\\u0629 \\u064a\\u0623\\u062a\\u064a \\u0647\\u0630\\u0627 \\u0627\\u0644\\u0643\\u062a\\u0627\\u0628 \\u0644\\u064a\\u0642\\u062f\\u0645 \\u0644\\u0646\\u0627 \\u0642\\u0637\\u0639\\u0629 \\u0623\\u062f\\u0628\\u064a\\u0629 \\u0631\\u0627\\u0642\\u064a\\u0629 \\u062f\\u0648\\u0646 \\u0623\\u0646 \\t\\t\\t\\u0631\\u0648\\u0627\\u0626\\u064a \\u0648\\u0635\\u062d\\u0641\\u064a \\u0645\\u0635\\u0631\\u064a \\u0648\\u0631\\u0626\\u064a\\u0633 \\u062a\\u062d\\u0631\\u064a\\u0631 \\u0635\\u062d\\u064a\\u0641\\u0629 \\u0623\\u062e\\u0628\\u0627\\u0631 \\u0627\\u0644\\u0623\\u062f\\u0628 \\u0627\\u0644\\u0645\\u0635\\u0631\\u064a\\u0629. \\u0635\\u0627\\u062d\\u0628 \\u0645\\u0634\\u0631\\u0648\\u0639 \\u0631\\u0648\\u0627\\u0626\\u064a \\u0641\\u0631\\u064a\\u062f \\u0627\\u0633\\u062a\\u0644\\u0647\\u0645 \\u0641\\u064a\\u0647 \\u0627\\u0644\\u062a\\u0631\\u0627\\u062b \\u0627\\u0644\\u0645\\u0635\\u0631\\u064a \\u0627\\u0644\\u0639\\u0631\\u0628\\u064a \\u0644\\u064a\\u062e\\u0644\\u0642 \\u0639\\u0627\\u0644\\u0645\\u0627 \\u0631\\u0648\\u0627\\u0626\\u064a\\u0627 \\u0639\\u062c\\u064a\\u0628\\u0627 \\u064a\\u0639\\u062f \\u0627\\u0644\\u064a\\u0648\\u0645 \\u0645\\u0646 \\u0623\\u0643\\u062b\\u0631 \\u0627\\u0644\\u062a\\u062c\\u0627\\u0631\\u0628 \\u0627\\u0644\\u0631\\u0648\\u0627\\u0626\\u064a\\u0629 \\u0646\\u0636\\u062c\\u0627 \\u0648\\u0642\\u062f \\u0644\\u0639\\u0628 \\u062a\\u0623\\u062b\\u0631\\u0647 \\u0628\\u0635\\u062f\\u064a\\u0642\\u0647 \\u0648\\u0623\\u0633\\u062a\\u0627\\u0630\\u0647 \\u0627\\u0644\\u0643\\u0627\\u062a\\u0628 \\u0646\\u062c\\u064a\\u0628 \\u0645\\u062d\\u0641\\u0648\\u0638 \\u062f\\u0648\\u0631\\u0627 \\u0623\\u0633\\u0627\\u0633\\u064a\\u0627 \\u0644\\u0628\\u0644\\u0648\\u063a\\u0647 \\u0647\\u0630\\u0647 \\u0627\\u0644\\u0645\\u0631\\u062d\\u0644\\u0629 \\u0645\\u0639 \\u0627\\u0637\\u0644\\u0627\\u0639\\u0647 \\u0627\\u0644\\u0645\\u0648\\u0633\\u0648\\u0639\\u064a \\u0639\\u0644\\u0649 \\u0627\\u0644\\u0623\\u062f\\u0628 \\u0627\\u0644\\u0642\\u062f\\u064a\\u0645 \\u0648\\u0633\\u0627\\u0647\\u0645 \\u0641\\u064a \\u062a\\u063a\\u0641\\u0644 \\u0627\\u0644\\u0627\\u0647\\u062a\\u0645\\u0627\\u0645 \\u0628\\u0627\\u0644\\u0645\\u0636\\u0645\\u0648\\u0646\\u061b \\u0625\\u0630 \\u064a\\u0642\\u0627\\u0628\\u0644\\u0646\\u0627 \\u0647\\u0646\\u0627 \\u0631\\u0624\\u064a\\u0629 \\u0639\\u0645\\u064a\\u0642\\u0629 \\u0644\\u0644\\u0648\\u0644\\u0627\\u064a\\u0627\\u062a \\u0627\\u0644\\u0645\\u062a\\u062d\\u062f\\u0629 \\u0627\\u0644\\u0623\\u0645\\u0631\\u064a\\u0643\\u064a\\u0629 \\u0639\\u0644\\u0649 \\u0627\\u0644\\u0645\\u0633\\u062a\\u0648\\u064a\\u0627\\u062a \\u0627\\u0644\\u0633\\u064a\\u0627\\u0633\\u064a\\u0629 \\u0648\\u0627\\u0644\\u0627\\u062c\\u062a\\u0645\\u0627\\u0639\\u064a\\u0629 \\u0648\\u0627\\u0644\\u062b\\u0642\\u0627\\u0641\\u064a\\u0629\\u060c \\u0648\\u0630\\u0644\\u0643 \\u0645\\u0646 \\u062e\\u0644\\u0627\\u0644 \\u0645\\u062c\\u0645\\u0648\\u0639\\u0629 \\u0643\\u0628\\u064a\\u0631\\u0629 \\u0645\\u0646 \\u0627\\u0644\\u0645\\u0648\\u0627\\u0642\\u0641 \\u0627\\u0644\\u064a\\u0648\\u0645\\u064a\\u0629 \\u0648\\u0627\\u0644\\u0645\\u0634\\u0627\\u0647\\u062f\\u0627\\u062a \\u0627\\u0644\\u0634\\u062e\\u0635\\u064a\\u0629 \\u0627\\u0644\\u062a\\u064a \\u062a\\u0642\\u0631\\u0628 \\u0627\\u0644\\u0642\\u0627\\u0631\\u0626 \\u0645\\u0646 \\u0627\\u0644\\u0645\\u0636\\u0645\\u0648\\u0646 \\u062f\\u0648\\u0646 \\u0623\\u064a \\u0625\\u062d\\u0633\\u0627\\u0633 \\u0628\\u0627\\u0644\\u0645\\u0644\\u0644 \\u0623\\u0648 \\u0627\\u0644\\u0632\\u0647\\u0642.\\u0645\\u0627\\u0628\\u064a\\u0646 \\u0627\\u0644\\u062e\\u0627\\u0635 \\u0648\\u0627\\u0644\\u0639\\u0627\\u0645 \\u064a\\u0631\\u0648\\u064a \\u0627\\u0644\\u063a\\u064a\\u0637\\u0627\\u0646\\u064a \\u064a\\u0648\\u0645\\u064a\\u0627\\u062a \\u0631\\u062d\\u0644\\u062a\\u0647 \\u0625\\u0644\\u064a \\u0627\\u0628\\u0646\\u0647 \\u0627\\u0644\\u0633\\u0627\\u0643\\u0646 \\u0641\\u064a \\u0645\\u062f\\u064a\\u0646\\u0629 \\u0646\\u064a\\u0648\\u064a\\u0648\\u0631\\u0643 \\u0639\\u0644\\u064a \\u0645\\u062a\\u0646 \\u0637\\u0627\\u0626\\u0631\\u0629 \\u0645\\u0635\\u0631 \\u0644\\u0644\\u0637\\u064a\\u0631\\u0627\\u0646 \\u0646\\u062c\\u0648\\u0628 \\u0645\\u0639\\u0647 \\u0623\\u062c\\u0648\\u0627\\u0621 \\u0645\\u0646 \\u062d\\u064a\\u0627\\u062a\\u0647 \\u0627\\u0644\\u062e\\u0627\\u0635\\u0629 \\u0648\\u0645\\u062e\\u0627\\u0648\\u0641\\u0647 \\u0648\\u0627\\u0646\\u062a\\u0642\\u0627\\u0644\\u0627\\u062a\\u0647 \\u0628\\u064a\\u0646 \\u0645\\u062f\\u0646 \\u0648\\u0623\\u0645\\u0627\\u0643\\u0646 \\u0623\\u062e\\u0631\\u064a? ?\\u0645\\u0627\\u0628\\u064a\\u0646 \\u0627\\u0644\\u0645\\u0627\\u0636\\u064a \\u0648\\u0627\\u0644\\u062d\\u0627\\u0636\\u0631 \\u062a\\u062a\\u0634\\u0627\\u0628\\u0643 \\u0627\\u0644\\u0623\\u062d\\u062f\\u0627\\u062b \\u0644\\u062a\\u0623\\u062a\\u064a \\u062a\\u0627\\u0631\\u0629 \\u0639\\u0644\\u064a \\u0634\\u0643\\u0644 \\u0623\\u062f\\u0628 \\u0631\\u062d\\u0644\\u0627\\u062a \\u0645\\u0646 \\u0637\\u0631\\u0627\\u0632 \\u0623\\u062f\\u0628\\u064a \\u0631\\u0641\\u064a\\u0639 \\u0627\\u0644\\u0644\\u063a\\u0629 \\u0627\\u0644\\u0645\\u062d\\u0645\\u0644\\u0629 \\u0628\\u0627\\u0644\\u0645\\u0634\\u0627\\u0639\\u0631 \\u0627\\u0644\\u0625\\u0646\\u0633\\u0627\\u0646\\u064a\\u0629 \\u0627\\u0644\\u0628\\u0633\\u064a\\u0637\\u0629 \\u0627\\u0644\\u062a\\u064a \\u062a\\u0642\\u0631\\u0628\\u0643 \\u0645\\u0646 \\u0643\\u0627\\u062a\\u0628\\u0647\\u0627 \\u0648\\u0643\\u0623\\u0646\\u0647 \\u064a\\u062d\\u0627\\u062f\\u062b\\u0643 \\u0648\\u062d\\u062f\\u0643 \\u0623\\u0648 \\u064a\\u0634\\u0639\\u0631\\u0643 \\u0623\\u062d\\u064a\\u0627\\u0646\\u0627 \\u0628\\u0623\\u0646\\u0643? ?\\u062c\\u0627\\u0644\\u0633 \\u0625\\u0644\\u064a \\u062c\\u0648\\u0627\\u0631\\u0647 \\u0639\\u0644\\u064a \\u0645\\u062a\\u0646 \\u0627\\u0644\\u0637\\u0627\\u0626\\u0631\\u0629 \\u0627\\u0644\\u0645\\u062a\\u062c\\u0647\\u0629 \\u0627\\u0644\\u064a \\u0646\\u064a\\u0648\\u064a\\u0648\\u0631\\u0643? .?\\u0648\\u0641\\u064a \\u0633\\u0637\\u0648\\u0631 \\u0627\\u0644\\u0643\\u062a\\u0627\\u0628 \\u0627\\u0644\\u0634\\u064a\\u0642 \\u064a\\u0631\\u0648\\u064a \\u0627\\u0644\\u063a\\u064a\\u0637\\u0627\\u0646\\u064a \\u064a\\u0648\\u0645\\u064a\\u0627\\u062a \\u0643\\u0627\\u062a\\u0628 \\u0641\\u064a \\u0645\\u062f\\u064a\\u0646\\u0629 \\u0627\\u0644\\u063a\\u0631\\u0628\\u0627\\u0621 \\u0645\\u0644\\u062e\\u0635\\u0627 \\u0641\\u0644\\u0633\\u0641\\u062a\\u0647 \\u0641\\u064a \\u0627\\u0644\\u062d\\u064a\\u0627\\u0629 \\u062d\\u064a\\u0646 \\u064a\\u0642\\u0648\\u0644? : ?\\u0627\\u0645\\u0634\\u064a \\u0623\\u0645\\u0634\\u064a \\u062a\\u0639\\u0644\\u0645\\u062a \\u0623\\u0646 \\u0623\\u0641\\u0636\\u0644 \\u0637\\u0631\\u064a\\u0642\\u0629 \\u0644\\u0627\\u0643\\u062a\\u0634\\u0627\\u0641 \\u0645\\u062f\\u064a\\u0646\\u0629 \\u0623\\u0646 \\u0627\\u0642\\u0637\\u0639\\u0647\\u0627 \\u0633\\u064a\\u0631\\u0627?.?\\u0648\\u0641\\u064a \\u0627\\u0644\\u062d\\u0646\\u064a\\u0646 \\u0644\\u0644\\u0648\\u0637\\u0646 \\u064a\\u0642\\u0648\\u0644? : ?\\u0639\\u0646\\u062f\\u0645\\u0627 \\u0646\\u0635\\u063a\\u064a \\u0644\\u0645\\u0648\\u0633\\u064a\\u0642\\u0627\\u0646\\u0627 \\u0628\\u0639\\u064a\\u062f\\u0627 \\u0639\\u0646 \\u0627\\u0644\\u0648\\u0637\\u0646 \\u062a\\u0643\\u0648\\u0646 \\u0627\\u0644\\u0645\\u0648\\u0633\\u064a\\u0642\\u064a \\u0645\\u0646 \\u0627\\u0644\\u0645\\u062d\\u0641\\u0632\\u0627\\u062a \\u0627\\u0644\\u0645\\u0633\\u062a\\u062d\\u0636\\u0631\\u0629 \\u0644\\u0644\\u0648\\u0637\\u0646 \\u0646\\u0641\\u0633\\u0647?.?\\u0648\\u064a\\u0642\\u0648\\u0644? : ?\\u0641\\u064a \\u0627\\u0644\\u0628\\u0639\\u062f \\u064a\\u0643\\u0648\\u0646 \\u062a\\u0623\\u062b\\u064a\\u0631 \\u0627\\u0644\\u0623\\u062d\\u062f\\u0627\\u062b \\u0623\\u0634\\u0642 \\u0648\\u0623\\u0648\\u0639\\u0631\\u060c? ?\\u0647\\u0630\\u0627 \\u062d\\u0627\\u0644 \\u0623\\u0639\\u0631\\u0641\\u0647 \\u0645\\u0646\\u0630 \\u0641\\u062a\\u0631\\u0629 \\u062d\\u0631\\u0628 \\u0627\\u0644\\u0627\\u0633\\u062a\\u0646\\u0632\\u0627\\u0641 \\u0641\\u0639\\u0646\\u062f\\u0645\\u0627 \\u0643\\u0646\\u062a \\u0623\\u062a\\u0648\\u0627\\u062c\\u062f \\u0641\\u064a \\u0627\\u0644\\u062c\\u0628\\u0647\\u0629 \\u0623\\u0635\\u0628\\u062d \\u0623\\u0643\\u062b\\u0631 \\u0647\\u062f\\u0648\\u0621\\u0627 \\u0645\\u0645\\u0627 \\u0623\\u0646\\u0627 \\u0639\\u0644\\u064a\\u0647 \\u0641\\u064a \\u0627\\u0644\\u0642\\u0627\\u0647\\u0631\\u0629 \\u0623\\u0648 \\u0641\\u064a \\u0623\\u064a \\u0645\\u0643\\u0627\\u0646 \\u0622\\u062e\\u0631? .?\\u0648\\u064a\\u062a\\u0646\\u0642\\u0644 \\u0628\\u0646\\u0627 \\u0627\\u0644\\u063a\\u064a\\u0637\\u0627\\u0646\\u064a \\u0628\\u064a\\u0646 \\u0634\\u0648\\u0627\\u0631\\u0639 \\u0648\\u0645\\u064a\\u0627\\u062f\\u064a\\u0646 \\u0646\\u064a\\u0648\\u064a\\u0648\\u0631\\u0643 \\u062d\\u0627\\u0645\\u0644\\u0627 \\u0630\\u0643\\u0631\\u064a\\u0627\\u062a\\u0647 \\u0648\\u062d\\u0646\\u064a\\u0646\\u0647 \\u0648 \\u062b\\u0642\\u0627\\u0641\\u062a\\u0647 \\u0627\\u0644\\u0648\\u0627\\u0633\\u0639\\u0629 \\u0627\\u0644\\u062a\\u064a \\u0627\\u0633\\u062a\\u0645\\u062f\\u0647\\u0627 \\u0645\\u0646 \\u0642\\u0631\\u0627\\u0621\\u0627\\u062a\\u0647 \\u0627\\u0644\\u0645\\u062a\\u0639\\u062f\\u062f\\u0629 \\u0648\\u064a\\u0643\\u0634\\u0641\\u0647\\u0627 \\u0644\\u0646\\u0627 \\u0641\\u064a \\u0645\\u0648\\u0627\\u0642\\u0641 \\u0643\\u062b\\u064a\\u0631\\u0629 \\u0628\\u064a\\u0646 \\u0633\\u0637\\u0648\\u0631 \\u0643\\u062a\\u0627\\u0628\\u0647 \\u0627\\u0644\\u0630\\u064a \\u064a\\u062d\\u062a\\u0627\\u0631 \\u0627\\u0644\\u0645\\u0631\\u0621 \\u0641\\u064a \\u0648\\u0635\\u0641\\u0647 \\u0647\\u0644 \\u0623\\u062f\\u0628 \\u0631\\u062d\\u0644\\u0627\\u062a \\u0623\\u0645 \\u0623\\u062f\\u0628 \\u0641\\u064a \\u0627\\u0644\\u0633\\u064a\\u0631\\u0629 \\u0627\\u0644\\u0630\\u0627\\u062a\\u064a\\u0629? ?\\u060c? ?\\u0623\\u064a\\u0627 \\u0643\\u0627\\u0646 \\u062a\\u0635\\u0646\\u064a\\u0641 \\u0627\\u0644\\u0643\\u062a\\u0627\\u0628 \\u0641\\u0647\\u0648 \\u0643\\u062a\\u0627\\u0628 \\u0645\\u0645\\u062a\\u0639 \\u0644\\u0623\\u0646\\u0647 \\u064a\\u0623\\u062e\\u0630\\u0646\\u0627 \\u0628\\u0628\\u0633\\u0627\\u0637\\u0629 \\u0625\\u0644\\u064a \\u0639\\u0648\\u0627\\u0644\\u0645 \\u0648\\u0623\\u062c\\u0648\\u0627\\u0621 \\u0648\\u0645\\u0634\\u0627\\u0639\\u0631 \\u0645\\u062e\\u062a\\u0644\\u0641\\u0629 \\u0644\\u0627 \\u062a\\u0635\\u064a\\u0628\\u0646\\u0627 \\u0628\\u0627\\u0644\\u0645\\u0644\\u0644 \\u0648\\u0625\\u0646\\u0645\\u0627 \\u0642\\u062f \\u062a\\u0632\\u064a\\u062f \\u0639\\u0644\\u064a\\u0646\\u0627 \\u0627\\u0644\\u062d\\u0646\\u064a\\u0646 \\u0625\\u0644\\u064a \\u0643\\u0644 \\u0627\\u0644\\u0623\\u0645\\u0627\\u0643\\u0646 \\u0627\\u0644\\u062a\\u064a \\u0646\\u062d\\u0628\\u0647\\u0627 \\u0648\\u0646\\u0641\\u0636\\u0644\\u0647\\u0627 \\u0648\\u0646\\u062d\\u0644\\u0645 \\u0628\\u0627\\u0644\\u0632\\u064a\\u0627\\u0631\\u0629 \\u0625\\u0644\\u064a\\u0647\\u0627 \\u0633\\u0648\\u0627\\u0621 \\u0625\\u0644\\u064a? ?\\u0646\\u064a\\u0648\\u064a\\u0648\\u0631\\u0643 \\u0623\\u0648 \\u0645\\u062f\\u0646 \\u0623\\u062e\\u0631\\u064a\\u0627\\u062e\\u0628\\u0627\\u0631 \\u0627\\u0644\\u064a\\u0648\\u0645 - \\u0639\\u062f\\u062f 13 \\u0627\\u063a\\u0633\\u0637\\u0633 2011(\\t \\u0627\\u062d\\u064a\\u0627\\u0621 \\u0627\\u0644\\u0643\\u062b\\u064a\\u0631 \\u0645\\u0646 \\u0627\\u0644\\u0646\\u0635\\u0648\\u0635 \\u0627\\u0644\\u0639\\u0631\\u0628\\u064a\\u0629 \\u0627\\u0644\\u0645\\u0646\\u0633\\u064a\\u0629 \\u0648\\u0627\\u0639\\u0627\\u062f\\u0629 \\u0627\\u0643\\u062a\\u0634\\u0627\\u0641 \\u0627\\u0644\\u0623\\u062f\\u0628 \\u0627\\u0644\\u0639\\u0631\\u0628\\u064a \\u0627\\u0644\\u0642\\u062f\\u064a\\u0645 \\u0628\\u0646\\u0638\\u0631\\u0629 \\u0645\\u0639\\u0627\\u0635\\u0631\\u0629 \\u062c\\u0627\\u062f\\u0629.\\u0627\\u0646\\u0641\\u062a\\u062d\\u062a \\u062a\\u062c\\u0631\\u0628\\u062a\\u0647 \\u0627\\u0644\\u0641\\u0646\\u064a\\u0629 \\u0641\\u064a \\u0627\\u0644\\u0633\\u0646\\u0648\\u0627\\u062a \\u0627\\u0644\\u0623\\u062e\\u064a\\u0631\\u0629 \\u0639\\u0644\\u0649 \\u0627\\u0644\\u0639\\u0645\\u0644 \\u0627\\u0644\\u062a\\u0644\\u0641\\u0632\\u064a \\u0645\\u0639 \\u0627\\u0644\\u0645\\u062d\\u0627\\u0641\\u0638\\u0629 \\u0639\\u0644\\u0649 \\u0646\\u0641\\u0633 \\u0627\\u0644\\u0645\\u0644\\u0627\\u0645\\u062d \\u0627\\u0644\\u062a\\u064a \\u0646\\u062c\\u062f\\u0647\\u0627 \\u0641\\u064a \\u0627\\u0644\\u0631\\u0648\\u0627\\u064a\\u0629 \\u0625\\u0630 \\u0643\\u0634\\u0641 \\u0627\\u0644\\u0646\\u0642\\u0627\\u0628 \\u0639\\u0646 \\u0639\\u0627\\u0644\\u0645 \\u0622\\u062e\\u0631 \\u064a\\u0639\\u064a\\u0634 \\u0628\\u064a\\u0646\\u0646\\u0627 \\u0645\\u0646 \\u0627\\u0644\\u0645\\u0639\\u0645\\u0627\\u0631 \\u0648\\u0627\\u0644\\u0646\\u0627\\u0633. \\u064a\\u0639\\u062a\\u0628\\u0631 \\u0627\\u0644\\u063a\\u064a\\u0637\\u0627\\u0646\\u064a \\u0645\\u0646 \\u0623\\u0643\\u062b\\u0631 \\u0627\\u0644\\u0643\\u062a\\u0627\\u0628 \\u0627\\u0644\\u0639\\u0631\\u0628 \\u0634\\u0647\\u0631\\u0629 \\u0639\\u0644\\u0649 \\u0634\\u0628\\u0643\\u0629 \\u0627\\u0644\\u0627\\u0646\\u062a\\u0631\\u0646\\u064a\\u062a \\u0625\\u0630 \\u0623\\u0646 \\u0623\\u063a\\u0644\\u0628 \\u0631\\u0648\\u0627\\u064a\\u0627\\u062a\\u0647 \\u0648\\u0645\\u062c\\u0645\\u0648\\u0639\\u0627\\u062a\\u0647 \\u0627\\u0644\\u0642\\u0635\\u0635\\u064a\\u0629 \\u0645\\u062a\\u0648\\u0641\\u0631\\u0629 \\u0641\\u064a \\u0646\\u0633\\u062e\\u0627\\u062a \\u0631\\u0642\\u0645\\u064a\\u0629 \\u064a\\u0633\\u0647\\u0644 \\u062a\\u0628\\u0627\\u062f\\u0644\\u0647\\u0627 \\u0627\\u0636\\u0627\\u0641\\u062a \\u0628\\u0639\\u062f\\u0627 \\u062c\\u062f\\u064a\\u062f\\u0627 \\u0644\\u0647\\u0630\\u0627 \\u0627\\u0644\\u0643\\u0627\\u062a\\u0628 \\u0627\\u0644\\u0630\\u064a \\u062c\\u0645\\u0639 \\u0628\\u064a\\u0646 \\u0627\\u0644\\u0623\\u0635\\u0627\\u0644\\u0629 \\u0627\\u0644\\u0639\\u0645\\u064a\\u0642\\u0629 \\u0648\\u0627\\u0644\\u062d\\u062f\\u0627\\u062b\\u0629 \\u0627\\u0644\\u0648\\u0627\\u0639\\u064a\\u0629. \\u0641\\u064a \\u0639\\u0627\\u0645 1963 \\u0627\\u0633\\u062a\\u0637\\u0627\\u0639 \\u0627\\u0644\\u063a\\u064a\\u0637\\u0627\\u0646\\u064a \\u0623\\u0646 \\u064a\\u0639\\u0645\\u0644 \\u0643\\u0631\\u0633\\u0627\\u0645 \\u0641\\u064a \\u0627\\u0644\\u0645\\u0624\\u0633\\u0633\\u0629 \\u0627\\u0644\\u0645\\u0635\\u0631\\u064a\\u0629 \\u0627\\u0644\\u0639\\u0627\\u0645\\u0629 \\u0644\\u0644\\u062a\\u0639\\u0627\\u0648\\u0646 \\u0627\\u0644\\u0625\\u0646\\u062a\\u0627\\u062c\\u064a \\u062d\\u064a\\u062b \\u0627\\u0633\\u062a\\u0645\\u0631 \\u0628\\u0627\\u0644\\u0639\\u0645\\u0644 \\u0645\\u0639 \\u0627\\u0644\\u0645\\u0624\\u0633\\u0633\\u0629 \\u0625\\u0644\\u0649 \\u0639\\u0627\\u0645 1965. \\u062a\\u0645 \\u0627\\u0639\\u062a\\u0642\\u0627\\u0644\\u0647\",\n          \"\\u0631\\u0633\\u0627\\u0626\\u0644 \\u0646\\u062b\\u0631\\u064a\\u0629 \\u0628\\u064a\\u0646 \\u0627\\u0644\\u0634\\u0627\\u0639\\u0631\\u064a\\u0646 \\u0627\\u0644\\u0643\\u0628\\u064a\\u0631\\u064a\\u0646 \\u0645\\u062d\\u0645\\u0648\\u062f \\u062f\\u0631\\u0648\\u064a\\u0634 \\u0648\\u0633\\u0645\\u064a\\u062d \\u0627\\u0644\\u0642\\u0627\\u0633\\u0645 ._x000D_\\n\\t\\t\\t\\t\\u0623\\u062d\\u062f \\u0623\\u0647\\u0645 \\u0627\\u0644\\u0634\\u0639\\u0631\\u0627\\u0621 \\u0627\\u0644\\u0641\\u0644\\u0633\\u0637\\u064a\\u0646\\u064a\\u064a\\u0646 \\u0648\\u0627\\u0644\\u0639\\u0631\\u0628 \\u0627\\u0644\\u0630\\u064a\\u0646 \\u0627\\u0631\\u062a\\u0628\\u0637 \\u0627\\u0633\\u0645\\u0647\\u0645 \\u0628\\u0634\\u0639\\u0631 \\u0627\\u0644\\u062b\\u0648\\u0631\\u0629 \\u0648\\u0627\\u0644\\u0648\\u0637\\u0646. \\u064a\\u0639\\u062a\\u0628\\u0631 \\u062f\\u0631\\u0648\\u064a\\u0634 \\u0623\\u062d\\u062f \\u0623\\u0628\\u0631\\u0632 \\u0645\\u0646 \\u0633\\u0627\\u0647\\u0645 \\u0628\\u062a\\u0637\\u0648\\u064a\\u0631 \\u0627\\u0644\\u0634\\u0639\\u0631 \\u0627\\u0644\\u0639\\u0631\\u0628\\u064a \\u0627\\u0644\\u062d\\u062f\\u064a\\u062b \\u0648\\u0625\\u062f\\u062e\\u0627\\u0644 \\u0627\\u0644\\u0631\\u0645\\u0632\\u064a\\u0629 \\u0641\\u064a\\u0647. \\u0641\\u064a \\u0634\\u0639\\u0631 \\u062f\\u0631\\u0648\\u064a\\u0634 \\u064a\\u0645\\u062a\\u0632\\u062c \\u0627\\u0644\\u062d\\u0628 \\u0628\\u0627\\u0644\\u0648\\u0637\\u0646 \\u0628\\u0627\\u0644\\u062d\\u0628\\u064a\\u0628\\u0629 \\u0627\\u0644\\u0623\\u0646\\u062b\\u0649. \\u0642\\u0627\\u0645 \\u0628\\u0643\\u062a\\u0627\\u0628\\u0629 \\u0648\\u062b\\u064a\\u0642\\u0629 \\u0625\\u0639\\u0644\\u0627\\u0646 \\u0627\\u0644\\u0627\\u0633\\u062a\\u0642\\u0644\\u0627\\u0644 \\u0627\\u0644\\u0641\\u0644\\u0633\\u0637\\u064a\\u0646\\u064a. \\u0634\\u063a\\u0644 \\u0645\\u0646\\u0635\\u0628 \\u0631\\u0626\\u064a\\u0633 \\u0631\\u0627\\u0628\\u0637\\u0629 \\u0627\\u0644\\u0643\\u062a\\u0627\\u0628 \\u0648\\u0627\\u0644\\u0635\\u062d\\u0641\\u064a\\u064a\\u0646 \\u0627\\u0644\\u0641\\u0644\\u0633\\u0637\\u064a\\u0646\\u064a\\u064a\\u0646 \\u0648\\u062d\\u0631\\u0631 \\u0645\\u062c\\u0644\\u0629 \\u0627\\u0644\\u0643\\u0631\\u0645\\u0644. \\u0643\\u0627\\u0646\\u062a \\u0627\\u0642\\u0627\\u0645\\u062a\\u0647 \\u0641\\u064a \\u0628\\u0627\\u0631\\u064a\\u0633 \\u0642\\u0628\\u0644 \\u0639\\u0648\\u062f\\u062a\\u0647 \\u0625\\u0644\\u0649 \\u0648\\u0637\\u0646\\u0647 \\u062d\\u064a\\u062b \\u0623\\u0646\\u0647 \\u062f\\u062e\\u0644 \\u0625\\u0644\\u0649 \\u0641\\u0644\\u0633\\u0637\\u064a\\u0646 \\u0628\\u062a\\u0635\\u0631\\u064a\\u062d \\u0644\\u0632\\u064a\\u0627\\u0631\\u0629 \\u0623\\u0645\\u0647. \\u0648\\u0641\\u064a \\u0641\\u062a\\u0631\\u0629 \\u0648\\u062c\\u0648\\u062f\\u0647 \\u0647\\u0646\\u0627\\u0643 \\u0642\\u062f\\u0645 \\u0628\\u0639\\u0636 \\u0623\\u0639\\u0636\\u0627\\u0621 \\u0627\\u0644\\u0643\\u0646\\u064a\\u0633\\u062a \\u0627\\u0644\\u0625\\u0633\\u0631\\u0627\\u0626\\u064a\\u0644\\u064a \\u0627\\u0644\\u0639\\u0631\\u0628 \\u0648\\u0627\\u0644\\u064a\\u0647\\u0648\\u062f \\u0627\\u0642\\u062a\\u0631\\u0627\\u062d\\u0627 \\u0628\\u0627\\u0644\\u0633\\u0645\\u0627\\u062d \\u0644\\u0647 \\u0628\\u0627\\u0644\\u0628\\u0642\\u0627\\u0621 \\u0648\\u0642\\u062f \\u0633\\u0645\\u062d \\u0644\\u0647 \\u0628\\u0630\\u0644\\u0643.\\u0641\\u064a \\u0627\\u0644\\u0641\\u062a\\u0631\\u0629 \\u0627\\u0644\\u0645\\u0645\\u062a\\u062f\\u0629 \\u0645\\u0646 \\u0633\\u0646\\u0629 1973 \\u0625\\u0644\\u0649 \\u0633\\u0646\\u0629 1982 \\u0639\\u0627\\u0634 \\u0641\\u064a \\u0628\\u064a\\u0631\\u0648\\u062a \\u0648\\u0639\\u0645\\u0644 \\u0631\\u0626\\u064a\\u0633\\u0627\\u064b \\u0644\\u062a\\u062d\\u0631\\u064a\\u0631 \\u0645\\u062c\\u0644\\u0629 \\\"\\u0634\\u0624\\u0648\\u0646 \\u0641\\u0644\\u0633\\u0637\\u064a\\u0646\\u064a\\u0629\\\"\\u060c \\u0648\\u0623\\u0635\\u0628\\u062d \\u0645\\u062f\\u064a\\u0631\\u0627\\u064b \\u0644\\u0645\\u0631\\u0643\\u0632 \\u0623\\u0628\\u062d\\u0627\\u062b \\u0645\\u0646\\u0638\\u0645\\u0629 \\u0627\\u0644\\u062a\\u062d\\u0631\\u064a\\u0631 \\u0627\\u0644\\u0641\\u0644\\u0633\\u0637\\u064a\\u0646\\u064a\\u0629 \\u0642\\u0628\\u0644 \\u0623\\u0646 \\u064a\\u0624\\u0633\\u0633 \\u0645\\u062c\\u0644\\u0629 \\\"\\u0627\\u0644\\u0643\\u0631\\u0645\\u0644\\\" \\u0633\\u0646\\u0629 1981. \\u0628\\u062d\\u0644\\u0648\\u0644 \\u0633\\u0646\\u0629 1977 \\u0628\\u064a\\u0639 \\u0645\\u0646 \\u062f\\u0648\\u0627\\u0648\\u064a\\u0646\\u0647 \\u0627\\u0644\\u0639\\u0631\\u0628\\u064a\\u0629 \\u0623\\u0643\\u062b\\u0631 \\u0645\\u0646 \\u0645\\u0644\\u064a\\u0648\\u0646 \\u0646\\u0633\\u062e\\u0629 \\u0644\\u0643\\u0646 \\u0627\\u0644\\u062d\\u0631\\u0628 \\u0627\\u0644\\u0623\\u0647\\u0644\\u064a\\u0629 \\u0627\\u0644\\u0644\\u0628\\u0646\\u0627\\u0646\\u064a\\u0629 \\u0643\\u0627\\u0646\\u062a \\u0645\\u0646\\u062f\\u0644\\u0639\\u0629 \\u0628\\u064a\\u0646 \\u0633\\u0646\\u0629 1975 \\u0648\\u0633\\u0646\\u0629 1991\\u060c \\u0641\\u062a\\u0631\\u0643 \\u0628\\u064a\\u0631\\u0648\\u062a \\u0633\\u0646\\u0629 1982 \\u0628\\u0639\\u062f \\u0623\\u0646 \\u063a\\u0632\\u0627 \\u0627\\u0644\\u062c\\u064a\\u0634 \\u0627\\u0644\\u0625\\u0633\\u0631\\u0627\\u0626\\u064a\\u0644\\u064a \\u0628\\u0642\\u064a\\u0627\\u062f\\u0629 \\u0627\\u0631\\u0626\\u064a\\u0644 \\u0634\\u0627\\u0631\\u0648\\u0646 \\u0644\\u0628\\u0646\\u0627\\u0646 \\u0648\\u062d\\u0627\\u0635\\u0631\",\n          \"\\u0634\\u0647\\u062f\\u062a \\u0645\\u0642\\u0648\\u0644\\u0629 \\u062d\\u0642\\u0648\\u0642 \\u0627\\u0644\\u0625\\u0646\\u0633\\u0627\\u0646 \\u0641\\u064a \\u0627\\u0644\\u0639\\u0642\\u0648\\u062f \\u0627\\u0644\\u0623\\u062e\\u064a\\u0631\\u0629\\u060c \\u062a\\u0648\\u0638\\u064a\\u0641\\u0647\\u0627 \\u0648\\u0627\\u0633\\u062a\\u062b\\u0645\\u0627\\u0631 \\u0625\\u064a\\u062f\\u064a\\u0648\\u0644\\u0648\\u062c\\u064a\\u0627 \\u0648\\u0627\\u0633\\u0639\\u0627. \\u0644\\u0643\\u0646 \\u0644\\u0645 \\u064a\\u0644\\u063a \\u0627\\u0644\\u0645\\u0635\\u062f\\u0627\\u0642\\u064a\\u0629 \\u0627\\u0644\\u0630\\u0627\\u062a\\u064a\\u0629 \\u0644\\u0647\\u0630\\u0647 \\u0627\\u0644\\u0645\\u0642\\u0648\\u0644\\u0629 \\u0627\\u0644\\u0625\\u0646\\u0633\\u0627\\u0646\\u064a\\u0629\\u060c \\u0628\\u0644 \\u0625\\u0646\\u0647 \\u0639\\u0644\\u0649 \\u0627\\u0644\\u0631\\u063a\\u0645 \\u0645\\u0646 \\u0643\\u0644 \\u0623\\u0634\\u0643\\u0627\\u0644 \\u0627\\u0644\\u0627\\u0633\\u062a\\u062b\\u0645\\u0627\\u0631 \\u0648\\u0627\\u0644\\u062a\\u0648\\u0638\\u064a\\u0641 \\u0641\\u0625\\u0646\\u0647\\u0627 \\u0644\\u0645 \\u062a\\u0632\\u062f\\u062f \\u0625\\u0644\\u0627 \\u0631\\u0633\\u0648\\u062e\\u0627 \\u0641\\u064a \\u0627\\u0644\\u0641\\u0643\\u0631 \\u0627\\u0644\\u0633\\u064a\\u0627\\u0633\\u064a \\u0627\\u0644\\u0645\\u0639\\u0627\\u0635\\u0631. \\u064a\\u0636\\u0631\\u0628 \\u0645\\u0641\\u0647\\u0648\\u0645 \\u062d\\u0642\\u0648\\u0642 \\u0627\\u0644\\u0625\\u0646\\u0633\\u0627\\u0646\\u060c \\u0628\\u062c\\u0630\\u0648\\u0631\\u0647 \\u0627\\u0644\\u0628\\u0639\\u064a\\u062f\\u0629 \\u0641\\u064a \\u0627\\u0644\\u0641\\u0643\\u0631 \\u0627\\u0644\\u0642\\u062f\\u064a\\u0645 \\u0648\\u0641\\u064a \\u0641\\u0643\\u0631 \\u0627\\u0644\\u0639\\u0635\\u0648\\u0631 \\u0627\\u0644\\u0648\\u0633\\u0637\\u0649 \\u0644\\u062f\\u0649 \\u0645\\u062e\\u062a\\u0644\\u0641 \\u0627\\u0644\\u062f\\u064a\\u0627\\u0646\\u0627\\u062a \\u0648\\u0627\\u0644\\u0645\\u0630\\u0627\\u0647\\u0628 \\u0627\\u0644\\u062a\\u064a \\u0634\\u0647\\u062f\\u062a \\u062a\\u0628\\u0644\\u0648\\u0631 \\u0627\\u062a\\u062c\\u0627\\u0647\\u0627\\u062a \\u0641\\u0643\\u0631\\u064a\\u0629 \\u0630\\u0627\\u062a \\u0645\\u0646\\u0632\\u0639 \\u0625\\u0646\\u0633\\u0627\\u0646\\u064a. \\u0625\\u0644\\u0627 \\u0623\\u0646 \\u0627\\u0644\\u0646\\u0634\\u0623\\u0629 \\u0627\\u0644\\u062d\\u0642\\u064a\\u0642\\u064a\\u0629 \\u0644\\u0645\\u0641\\u0647\\u0648\\u0645 \\u062d\\u0642\\u0648\\u0642 \\u0627\\u0644\\u0625\\u0646\\u0633\\u0627\\u0646 \\u064a\\u0631\\u062a\\u0628\\u0637 \\u0628\\u0627\\u0644\\u062a\\u062d\\u0648\\u0644\\u0627\\u062a \\u0627\\u0644\\u062a\\u0627\\u0631\\u064a\\u062e\\u064a\\u0629 \\u0648 \\u0627\\u0644\\u0641\\u0643\\u0631\\u064a\\u0629 \\u0627\\u0644\\u062a\\u064a \\u062d\\u062f\\u062a\\u062b \\u0641\\u064a \\u0623\\u0648\\u0631\\u0628\\u0627 \\u0645\\u0646\\u0630 \\u0639\\u0635\\u0648\\u0631 \\u0627\\u0644\\u0646\\u0647\\u0636\\u0629\\u060c \\u0648 \\u0627\\u0644\\u062a\\u064a \\u0628\\u0644\\u063a\\u062a \\u0630\\u0631\\u0648\\u062a\\u0647\\u0627 \\u0641\\u064a \\u0627\\u0644\\u0642\\u0631\\u0646 \\u0627\\u0644\\u062b\\u0627\\u0645\\u0646 \\u0639\\u0634\\u0631 \\u0641\\u064a \\u0627\\u0644\\u0625\\u0639\\u0644\\u0627\\u0646 \\u0627\\u0644\\u0639\\u0627\\u0644\\u0645\\u064a \\u0644\\u062d\\u0642\\u0648\\u0642 \\u0627\\u0644\\u0625\\u0646\\u0633\\u0627\\u0646 \\u0648 \\u0627\\u0644\\u0645\\u0648\\u0627\\u0637\\u0646 \\u0627\\u0644\\u0630\\u064a \\u0623\\u0639\\u0644\\u0646\\u062a\\u0647 \\u0627\\u0644\\u062b\\u0648\\u0631\\u0629 \\u0627\\u0644\\u0641\\u0631\\u0646\\u0633\\u064a\\u0629 \\u0633\\u0646\\u0629 1789. \\u0625\\u0644\\u0627 \\u0623\\u0646 \\u062a\\u0628\\u0644\\u0648\\u0631 \\u062d\\u0642\\u0648\\u0642 \\u0627\\u0644\\u0625\\u0646\\u0633\\u0627\\u0646 \\u0641\\u064a \\u0645\\u0648\\u0627\\u062b\\u064a\\u0642\\u060c \\u062b\\u0645 \\u0641\\u064a \\u0645\\u0639\\u0627\\u0647\\u062f\\u0627\\u062a \\u0645\\u0624\\u0633\\u0633\\u064a\\u0629 \\u062a\\u0631\\u0639\\u0627\\u0647\\u0627 \\u0627\\u0644\\u0645\\u0646\\u0638\\u0645\\u0627\\u062a \\u0627\\u0644\\u062f\\u0648\\u0644\\u064a\\u0629 \\u0642\\u062f \\u0647\\u064a\\u0623\\u062a \\u0644\\u0647 \\u0644\\u0627 \\u0641\\u0642\\u0637 \\u0647\\u0630\\u0647 \\u0627\\u0644\\u0623\\u062d\\u062f\\u0627\\u062b \\u0648\\u0627\\u0644\\u062b\\u0648\\u0631\\u0627\\u062a \\u0627\\u0644\\u062a\\u0627\\u0631\\u064a\\u062e\\u064a\\u0629 \\u0627\\u0644\\u0643\\u0628\\u0631\\u0649 \\u0627\\u0644\\u062a\\u064a \\u062d\\u062f\\u062b\\u062a \\u0641\\u064a \\u0623\\u0648\\u0631\\u0628\\u0627 \\u0648\\u0623\\u0645\\u0631\\u064a\\u0643\\u0627 \\u0625\\u0628\\u062a\\u062f\\u0627\\u0621 \\u0645\\u0646 \\u0623\\u0648\\u0627\\u0626\\u0644 \\u0627\\u0644\\u0642\\u0631\\u0646 \\u0627\\u0644\\u062b\\u0627\\u0645\\u0646 \\u0639\\u0634\\u0631\\u060c \\u0628\\u0644 \\u0623\\u0633\\u0633\\u062a \\u0644\\u0647 \\u0643\\u0630\\u0644\\u0643 \\u0645\\u062f\\u0627\\u0631\\u0633 \\u0648\\u0627\\u062a\\u062c\\u0627\\u0647\\u0627\\u062a \\u0641\\u0644\\u0633\\u0641\\u064a\\u0629 \\u0648\\u062d\\u0642\\u0648\\u0642\\u064a\\u0629 \\u0639\\u062f\\u062f\\u064a\\u0629. \\u0648\\u0627\\u0644\\u0645\\u0647\\u0645\\u0629 \\u0627\\u0644\\u0623\\u0633\\u0627\\u0633\\u064a\\u0629 \\u0644\\u0647\\u0630\\u0627 \\u0627\\u0644\\u0643\\u0631\\u0627\\u0633 \\u0647\\u0648 \\u062a\\u0639\\u0631\\u064a\\u0641 \\u0627\\u0644\\u0628\\u0627\\u062d\\u062b \\u0648\\u0627\\u0644\\u0637\\u0627\\u0644\\u0628 \\u0648\\u0627\\u0644\\u0642\\u0627\\u0631\\u0626 \\u0639\\u0644\\u0649 \\u0647\\u0630\\u0627 \\u0627\\u0644\\u0645\\u062e\\u0627\\u0636 \\u0627\\u0644\\u0641\\u0644\\u0633\\u0641\\u064a \\u0627\\u0644\\u0630\\u064a \\u0646\\u0634\\u0623\\u062a \\u0641\\u064a\\u0647 \\u062d\\u0642\\u0648\\u0642 \\u0627\\u0644\\u0625\\u0646\\u0633\\u0627\\u0646 \\u0643\\u062d\\u0642\\u0648\\u0642 \\u0645\\u062a\\u0645\\u064a\\u0632\\u0629 \\u0648\\u0645\\u0639\\u062a\\u0631\\u0641 \\u0628\\u0647\\u0627\\u060c \\u0648\\u0628\\u0648\\u062c\\u0648\\u062f \\u0623\\u0633\\u0627\\u0633 \\u0645\\u062a\\u064a\\u0646 \\u0644\\u0647\\u0627.\"\n        ],\n        \"semantic_type\": \"\",\n        \"description\": \"\"\n      }\n    },\n    {\n      \"column\": \"Genres\",\n      \"properties\": {\n        \"dtype\": \"category\",\n        \"num_unique_values\": 1990,\n        \"samples\": [\n          \"\\u0635\\u062d\\u0629 \\u0648\\u0637\\u0628 \\u0639\\u0627\\u0645\",\n          \"\\u0641\\u0644\\u0633\\u0641\\u0629 \\u0645\\u064a\\u062a\\u0627\\u0641\\u064a\\u0632\\u064a\\u0642\\u0627\",\n          \"\\u0645\\u0631\\u0627\\u062c\\u0639 \\u0645\\u0639\\u0627\\u062c\\u0645 \\u0639\\u0627\\u062f\\u0627\\u062a \\u0648\\u062a\\u0642\\u0627\\u0644\\u064a\\u062f \\u0641\\u0648\\u0644\\u0643\\u0644\\u0648\\u0631 \\u0634\\u0639\\u0628\\u064a\"\n        ],\n        \"semantic_type\": \"\",\n        \"description\": \"\"\n      }\n    },\n    {\n      \"column\": \"Average_Ratings\",\n      \"properties\": {\n        \"dtype\": \"number\",\n        \"std\": 1.8122798034965526,\n        \"min\": 0.0,\n        \"max\": 5.0,\n        \"num_unique_values\": 39,\n        \"samples\": [\n          2.1,\n          2.9,\n          3.7\n        ],\n        \"semantic_type\": \"\",\n        \"description\": \"\"\n      }\n    },\n    {\n      \"column\": \"Reviews_Number\",\n      \"properties\": {\n        \"dtype\": \"number\",\n        \"std\": 15.614665854705658,\n        \"min\": 0.0,\n        \"max\": 387.0,\n        \"num_unique_values\": 109,\n        \"samples\": [\n          43.0,\n          53.0,\n          30.0\n        ],\n        \"semantic_type\": \"\",\n        \"description\": \"\"\n      }\n    },\n    {\n      \"column\": \"Quotes_Number\",\n      \"properties\": {\n        \"dtype\": \"number\",\n        \"std\": 22.542617835399124,\n        \"min\": 0.0,\n        \"max\": 482.0,\n        \"num_unique_values\": 120,\n        \"samples\": [\n          398.0,\n          348.0,\n          25.0\n        ],\n        \"semantic_type\": \"\",\n        \"description\": \"\"\n      }\n    },\n    {\n      \"column\": \"Community_Size\",\n      \"properties\": {\n        \"dtype\": \"number\",\n        \"std\": 590.0419701885918,\n        \"min\": 0.0,\n        \"max\": 22210.0,\n        \"num_unique_values\": 808,\n        \"samples\": [\n          250.0,\n          3864.0,\n          165.0\n        ],\n        \"semantic_type\": \"\",\n        \"description\": \"\"\n      }\n    },\n    {\n      \"column\": \"Pages_Number\",\n      \"properties\": {\n        \"dtype\": \"number\",\n        \"std\": 960,\n        \"min\": 0,\n        \"max\": 100000,\n        \"num_unique_values\": 1133,\n        \"samples\": [\n          37,\n          547,\n          64\n        ],\n        \"semantic_type\": \"\",\n        \"description\": \"\"\n      }\n    },\n    {\n      \"column\": \"Editions\",\n      \"properties\": {\n        \"dtype\": \"number\",\n        \"std\": 0,\n        \"min\": 1,\n        \"max\": 46,\n        \"num_unique_values\": 22,\n        \"samples\": [\n          4,\n          11,\n          15\n        ],\n        \"semantic_type\": \"\",\n        \"description\": \"\"\n      }\n    },\n    {\n      \"column\": \"Publication_Year\",\n      \"properties\": {\n        \"dtype\": \"number\",\n        \"std\": 18.504608064056715,\n        \"min\": 360.0,\n        \"max\": 2023.0,\n        \"num_unique_values\": 91,\n        \"samples\": [\n          1969.0,\n          1957.0,\n          1984.0\n        ],\n        \"semantic_type\": \"\",\n        \"description\": \"\"\n      }\n    },\n    {\n      \"column\": \"Publisher\",\n      \"properties\": {\n        \"dtype\": \"category\",\n        \"num_unique_values\": 658,\n        \"samples\": [\n          \"\\u062f\\u0627\\u0631 \\u0645\\u064a\\u0631\\u064a\\u062a \\u0644\\u0644\\u0646\\u0634\\u0631\",\n          \"ISBN 13 9789957363352\",\n          \"ISBN 13 978-9-95369-509-9\"\n        ],\n        \"semantic_type\": \"\",\n        \"description\": \"\"\n      }\n    },\n    {\n      \"column\": \"URL\",\n      \"properties\": {\n        \"dtype\": \"string\",\n        \"num_unique_values\": 16396,\n        \"samples\": [\n          \"https://www.abjjad.com/book/2189787424/%D8%A7%D8%B7%D9%84%D8%A7%D9%86%D8%B7%D9%8A%D8%B3-%D8%A8%D9%8A%D9%86-%D8%A7%D9%84%D8%AD%D9%82%D9%8A%D9%82%D8%A9-%D9%88%D8%A7%D9%84%D8%AE%D9%8A%D8%A7%D9%84-%D8%A7%D9%84%D8%B7%D9%88%D9%81%D8%A7%D9%86-%D9%88%D8%A7%D9%84%D9%82%D8%A7%D8%B1%D8%A9/2190016802\",\n          \"https://www.abjjad.com/book/2194800642/%D9%87%D8%B1%D9%88%D8%A8-%D8%A7%D9%84%D9%89-%D8%A7%D9%84%D9%81%D8%B6%D8%A7%D8%A1/2195030018\",\n          \"https://www.abjjad.com/book/2096857088/%D8%A7%D9%84%D8%A7%D8%B9%D9%85%D8%A7%D9%84-%D8%A7%D9%84%D9%83%D8%A7%D9%85%D9%84%D8%A9-%D8%A7%D9%84%D9%81%D9%88%D8%A7%D8%B2%D9%8A%D8%B1/2096889856\"\n        ],\n        \"semantic_type\": \"\",\n        \"description\": \"\"\n      }\n    },\n    {\n      \"column\": \"Cover_URL\",\n      \"properties\": {\n        \"dtype\": \"string\",\n        \"num_unique_values\": 15808,\n        \"samples\": [\n          \"https://abjjadst.blob.core.windows.net/pub/c1a21354-a3f0-43ab-81d7-fde8798ba209-192X290.png\",\n          \"https://abjjadst.blob.core.windows.net/pub/106c1bfe-4662-4dcc-9b3b-896f9feae76d-192X290.jpg\",\n          \"https://abjjadst.blob.core.windows.net/pub/9c303d0a-6026-4d3c-8195-8ba00165303f-192X290.png\"\n        ],\n        \"semantic_type\": \"\",\n        \"description\": \"\"\n      }\n    }\n  ]\n}"
            }
          },
          "metadata": {},
          "execution_count": 6
        }
      ]
    },
    {
      "cell_type": "markdown",
      "source": [
        "#EDA"
      ],
      "metadata": {
        "id": "8FhqQDCnFxEm"
      }
    },
    {
      "cell_type": "code",
      "source": [
        "df.info()"
      ],
      "metadata": {
        "colab": {
          "base_uri": "https://localhost:8080/"
        },
        "id": "LDqIqi_kTEzK",
        "outputId": "da401c49-d48a-42a9-8d0c-45c810d40ec0"
      },
      "execution_count": 7,
      "outputs": [
        {
          "output_type": "stream",
          "name": "stdout",
          "text": [
            "<class 'pandas.core.frame.DataFrame'>\n",
            "RangeIndex: 16558 entries, 0 to 16557\n",
            "Data columns (total 17 columns):\n",
            " #   Column            Non-Null Count  Dtype  \n",
            "---  ------            --------------  -----  \n",
            " 0   Column1           16558 non-null  int64  \n",
            " 1   ISBN              8562 non-null   object \n",
            " 2   Title             16558 non-null  object \n",
            " 3   Author            16550 non-null  object \n",
            " 4   Authors_Number    16551 non-null  float64\n",
            " 5   Description       16558 non-null  object \n",
            " 6   Genres            15178 non-null  object \n",
            " 7   Average_Ratings   16557 non-null  float64\n",
            " 8   Reviews_Number    7627 non-null   float64\n",
            " 9   Quotes_Number     4555 non-null   float64\n",
            " 10  Community_Size    15777 non-null  float64\n",
            " 11  Pages_Number      16558 non-null  int64  \n",
            " 12  Editions          16558 non-null  int64  \n",
            " 13  Publication_Year  14154 non-null  float64\n",
            " 14  Publisher         1461 non-null   object \n",
            " 15  URL               16558 non-null  object \n",
            " 16  Cover_URL         16554 non-null  object \n",
            "dtypes: float64(6), int64(3), object(8)\n",
            "memory usage: 2.1+ MB\n"
          ]
        }
      ]
    },
    {
      "cell_type": "code",
      "source": [
        "# need to figure what is the most author in our dataset\n",
        "df['Author'].value_counts()\n"
      ],
      "metadata": {
        "colab": {
          "base_uri": "https://localhost:8080/",
          "height": 490
        },
        "id": "q8TjZTVDTYvc",
        "outputId": "aaa13a49-11ca-4062-ee26-ea04704b6cd6"
      },
      "execution_count": 8,
      "outputs": [
        {
          "output_type": "execute_result",
          "data": {
            "text/plain": [
              "Author\n",
              "ناديا دياب             142\n",
              "كامل كيلاني            119\n",
              "عباس محمود العقاد       81\n",
              "مصطفى محمود             75\n",
              "أجاثا كريستي            70\n",
              "                      ... \n",
              "محمد الزحيلي             1\n",
              "محمد إبراهيم بسيوني      1\n",
              "عيسى دباح                1\n",
              "محمود شريف بسيوني        1\n",
              "نبيل العربي              1\n",
              "Name: count, Length: 8662, dtype: int64"
            ],
            "text/html": [
              "<div>\n",
              "<style scoped>\n",
              "    .dataframe tbody tr th:only-of-type {\n",
              "        vertical-align: middle;\n",
              "    }\n",
              "\n",
              "    .dataframe tbody tr th {\n",
              "        vertical-align: top;\n",
              "    }\n",
              "\n",
              "    .dataframe thead th {\n",
              "        text-align: right;\n",
              "    }\n",
              "</style>\n",
              "<table border=\"1\" class=\"dataframe\">\n",
              "  <thead>\n",
              "    <tr style=\"text-align: right;\">\n",
              "      <th></th>\n",
              "      <th>count</th>\n",
              "    </tr>\n",
              "    <tr>\n",
              "      <th>Author</th>\n",
              "      <th></th>\n",
              "    </tr>\n",
              "  </thead>\n",
              "  <tbody>\n",
              "    <tr>\n",
              "      <th>ناديا دياب</th>\n",
              "      <td>142</td>\n",
              "    </tr>\n",
              "    <tr>\n",
              "      <th>كامل كيلاني</th>\n",
              "      <td>119</td>\n",
              "    </tr>\n",
              "    <tr>\n",
              "      <th>عباس محمود العقاد</th>\n",
              "      <td>81</td>\n",
              "    </tr>\n",
              "    <tr>\n",
              "      <th>مصطفى محمود</th>\n",
              "      <td>75</td>\n",
              "    </tr>\n",
              "    <tr>\n",
              "      <th>أجاثا كريستي</th>\n",
              "      <td>70</td>\n",
              "    </tr>\n",
              "    <tr>\n",
              "      <th>...</th>\n",
              "      <td>...</td>\n",
              "    </tr>\n",
              "    <tr>\n",
              "      <th>محمد الزحيلي</th>\n",
              "      <td>1</td>\n",
              "    </tr>\n",
              "    <tr>\n",
              "      <th>محمد إبراهيم بسيوني</th>\n",
              "      <td>1</td>\n",
              "    </tr>\n",
              "    <tr>\n",
              "      <th>عيسى دباح</th>\n",
              "      <td>1</td>\n",
              "    </tr>\n",
              "    <tr>\n",
              "      <th>محمود شريف بسيوني</th>\n",
              "      <td>1</td>\n",
              "    </tr>\n",
              "    <tr>\n",
              "      <th>نبيل العربي</th>\n",
              "      <td>1</td>\n",
              "    </tr>\n",
              "  </tbody>\n",
              "</table>\n",
              "<p>8662 rows × 1 columns</p>\n",
              "</div><br><label><b>dtype:</b> int64</label>"
            ]
          },
          "metadata": {},
          "execution_count": 8
        }
      ]
    },
    {
      "cell_type": "code",
      "source": [
        "df['Description'].value_counts()\n",
        "df['Description'].nunique()\n"
      ],
      "metadata": {
        "colab": {
          "base_uri": "https://localhost:8080/"
        },
        "id": "W9bjT5J9e5oK",
        "outputId": "78c03dbb-803f-47b8-b255-e71d8e9f4ae2"
      },
      "execution_count": 9,
      "outputs": [
        {
          "output_type": "execute_result",
          "data": {
            "text/plain": [
              "13522"
            ]
          },
          "metadata": {},
          "execution_count": 9
        }
      ]
    },
    {
      "cell_type": "code",
      "source": [
        "# need to get empty entry in description column\n",
        "df['Description'] = df['Description'].astype(str).str.strip().replace({'': pd.NA})"
      ],
      "metadata": {
        "id": "NP_d3a4_c8do"
      },
      "execution_count": 10,
      "outputs": []
    },
    {
      "cell_type": "code",
      "source": [
        "df['Description'].isnull().sum()"
      ],
      "metadata": {
        "colab": {
          "base_uri": "https://localhost:8080/"
        },
        "id": "zU6OSREoOiJ1",
        "outputId": "addc2f83-4f54-4403-bb71-c172861f58c8"
      },
      "execution_count": 11,
      "outputs": [
        {
          "output_type": "execute_result",
          "data": {
            "text/plain": [
              "np.int64(2358)"
            ]
          },
          "metadata": {},
          "execution_count": 11
        }
      ]
    },
    {
      "cell_type": "code",
      "source": [
        "s = df['Description'].iloc[2833]"
      ],
      "metadata": {
        "id": "L-A1ejMtLhcN"
      },
      "execution_count": 12,
      "outputs": []
    },
    {
      "cell_type": "code",
      "source": [
        "print(s)"
      ],
      "metadata": {
        "colab": {
          "base_uri": "https://localhost:8080/"
        },
        "id": "vTK3nVGvOYGd",
        "outputId": "677907b4-f3bc-48e2-cdda-2eebb67119a4"
      },
      "execution_count": 13,
      "outputs": [
        {
          "output_type": "stream",
          "name": "stdout",
          "text": [
            "<NA>\n"
          ]
        }
      ]
    },
    {
      "cell_type": "code",
      "source": [
        "print(type(s))"
      ],
      "metadata": {
        "colab": {
          "base_uri": "https://localhost:8080/"
        },
        "id": "W0mgDE1uL1Us",
        "outputId": "9fd86a0b-3cdb-40a5-d60f-ccacb6c402cd"
      },
      "execution_count": 14,
      "outputs": [
        {
          "output_type": "stream",
          "name": "stdout",
          "text": [
            "<class 'pandas._libs.missing.NAType'>\n"
          ]
        }
      ]
    },
    {
      "cell_type": "code",
      "source": [
        "df.dropna(subset=['Description'], inplace=True)"
      ],
      "metadata": {
        "id": "DQiyHkHTfZbv"
      },
      "execution_count": 15,
      "outputs": []
    },
    {
      "cell_type": "code",
      "source": [
        "df['Description'].isnull().sum()"
      ],
      "metadata": {
        "colab": {
          "base_uri": "https://localhost:8080/"
        },
        "id": "si3lHXtwIqj9",
        "outputId": "b6e19f29-658e-4888-d6c9-e52ff408f4ab"
      },
      "execution_count": 16,
      "outputs": [
        {
          "output_type": "execute_result",
          "data": {
            "text/plain": [
              "np.int64(0)"
            ]
          },
          "metadata": {},
          "execution_count": 16
        }
      ]
    },
    {
      "cell_type": "markdown",
      "source": [
        "#preprocess"
      ],
      "metadata": {
        "id": "C0_44UDlF1T2"
      }
    },
    {
      "cell_type": "code",
      "source": [
        "import re\n",
        "import string\n",
        "import nltk\n",
        "from nltk.corpus import stopwords"
      ],
      "metadata": {
        "id": "whlbhnyU1XEJ"
      },
      "execution_count": 17,
      "outputs": []
    },
    {
      "cell_type": "code",
      "source": [
        "nltk.download('stopwords')"
      ],
      "metadata": {
        "colab": {
          "base_uri": "https://localhost:8080/"
        },
        "id": "rMWWpk3AGy62",
        "outputId": "b9320840-b533-4af8-88bd-6ad986264180"
      },
      "execution_count": 18,
      "outputs": [
        {
          "output_type": "stream",
          "name": "stderr",
          "text": [
            "[nltk_data] Downloading package stopwords to /root/nltk_data...\n",
            "[nltk_data]   Unzipping corpora/stopwords.zip.\n"
          ]
        },
        {
          "output_type": "execute_result",
          "data": {
            "text/plain": [
              "True"
            ]
          },
          "metadata": {},
          "execution_count": 18
        }
      ]
    },
    {
      "cell_type": "code",
      "source": [
        "def remove_punctuation(text):\n",
        "    arabic_punctuation = r\"[،؛؟!٪ـ«»…\\\"\\'٫٬٭\\,.:؛؟!<>*”…“()\\[\\{}/\\\\_#$%&+;=?@^~`\\]\\|➖\\u2014\\u2013\\u002D]\"\n",
        "    return re.sub(arabic_punctuation,' ', text)\n",
        "\n",
        "def remove_repeated_whitespaces(text):\n",
        "    return re.sub(r'(?<=\\S)\\s{2,}(?=\\S)', ' ', text)\n",
        "\n",
        "def remove_arabic_numbers(text):\n",
        "    return re.sub(r'[\\u0660-\\u0669]', \" \", text)\n",
        "\n",
        "def remove_diacritics(text):\n",
        "    arabic_diacritics = re.compile(r'[\\u064B-\\u065F]')\n",
        "    return re.sub(arabic_diacritics, ' ', text)\n",
        "\n",
        "def remove_all_except_arabic(text):\n",
        "    return re.sub(r'[^\\u0600-\\u06FF\\s]', ' ', text)\n",
        "\n",
        "def remove_links(text):\n",
        "  return re.sub(r'http[s]?://\\S+|www\\.\\S+',' ',text)\n",
        "\n",
        "def remove_stop_words(text):\n",
        "    stop_words = set(stopwords.words('arabic'))  # Corrected function call\n",
        "    words = text.split()  # Tokenize the text by spaces\n",
        "    filtered_text = \" \".join([word for word in words if word not in stop_words])\n",
        "    return filtered_text\n",
        "\n",
        "def normalize_arabic(text):\n",
        "    # Define normalization mapping\n",
        "    normalization_map = {\n",
        "        \"إ\": \"ا\",\n",
        "        \"أ\": \"ا\",\n",
        "        \"آ\": \"ا\",\n",
        "        \"ا\": \"ا\",  # Normalize Alef forms\n",
        "        \"ى\": \"ي\",\n",
        "        \"ي\": \"ي\",                      # Normalize Yaa\n",
        "        \"ؤ\": \"و\",\n",
        "        \"ئ\": \"ي\",                      # Normalize Hamza forms\n",
        "        \"ة\": \"ه\",                                # Convert Teh Marbuta to Heh\n",
        "        \"گ\": \"ك\",\n",
        "        \"ڤ\": \"ف\",\n",
        "        \"چ\": \"ج\",\n",
        "        \"پ\": \"ب\",  # Persian/Urdu to Arabic conversion\n",
        "                       # Convert Arabic numbers to Western numbers\n",
        "    }\n",
        "\n",
        "    # Apply replacements using regex\n",
        "    text = re.sub(\"|\".join(map(re.escape, normalization_map.keys())),\n",
        "                  lambda m: normalization_map[m.group()], text)\n",
        "\n",
        "    return text\n",
        "\n"
      ],
      "metadata": {
        "id": "uctwaYuTzVPS"
      },
      "execution_count": 19,
      "outputs": []
    },
    {
      "cell_type": "code",
      "source": [
        "def preprocess(series):\n",
        "  series = series.apply(remove_diacritics)\n",
        "  series = series.apply(remove_links)\n",
        "  series = series.apply(remove_punctuation)\n",
        "  series = series.apply(remove_repeated_whitespaces)\n",
        "  series = series.apply(remove_arabic_numbers)\n",
        "  series = series.apply(remove_all_except_arabic)\n",
        "  series = series.apply(remove_stop_words)\n",
        "  series = series.apply(normalize_arabic)\n",
        "  return series"
      ],
      "metadata": {
        "id": "D02pfOuWFh5m"
      },
      "execution_count": 20,
      "outputs": []
    },
    {
      "cell_type": "code",
      "source": [
        "df['Description'] = preprocess(df['Description'])"
      ],
      "metadata": {
        "id": "T_7HDAa9D6Ie"
      },
      "execution_count": 21,
      "outputs": []
    },
    {
      "cell_type": "code",
      "source": [
        "df['Description'].iloc[10095]"
      ],
      "metadata": {
        "colab": {
          "base_uri": "https://localhost:8080/",
          "height": 87
        },
        "id": "NMdOBwS_Pg90",
        "outputId": "8be7269a-43ac-4c0f-cb40-f164a85e5ad3"
      },
      "execution_count": 22,
      "outputs": [
        {
          "output_type": "execute_result",
          "data": {
            "text/plain": [
              "'كتاب الشهيد الخالد الحسين بن علي السلام صدرت طبعه ايران عام اعيدت طباعته مر ره واعتبر اهم الكتب تناولت حركه الامام الحسين بن علي السلام وواقعه كربلاء بصوره علمي وتحليل استدلالي ناقش مول فه ايه الله الشيخ نعمه الله صالحي نجف ابادي علماء الشيعه الاماميه المجتهدين ايران والمدر البارزين الحوزه الدينيه قم اسباب الحركه الحسيني ودوافعها وماهي تها ومراحلها واهدافها ونتايجها واثارها مقد قراءه جديده تتعارض كلي القراءه تقد مها الروايه الشيعيه المغاليه والعاطفيه الرايجه قرون اعتبر اغلب الباحثين الايرانيين كتاب الشهيد الخالد اهم الكتب ناقشت قضيه الحسين السلام بب عديها السياسي والاجتماعي الكتب المثيره للجدل تاريخ ايران المعاصر اثار نشره ردود افعال مختلفه ومعركه الاراء مخالف وموافق وبدات الكتابات الرد وصل مجموع كتب نقده او الرد كتابا البديهي يقبل علماء الدين التقليديون المحافظون النقد الحر لاحاديث مشهوره ولكتب الروايه والتراث اصبحت جزءا يتجزا التراث الشيعي الواضح انهم يخشون يودي فتح الباب الاتيان قسم كبير التراث الروايي الامامي يفتقر مجمله الثقه العلميه بصدوره كونه مجمله اخبار معظمها يفتقر الاسانيد الصحيحه المتصله القويمه يقد دعما للناقدين العصريين يرون التراث الروايي والاخباري يحتاج غربله شامله واعاده نظر كونه امتلا عبر القرون بالوضع والدس والخرافات والقصص الاسطوريه والرومانسيه والاحاديث املتها الصراعات السياسيه والاهواء المذهبيه قرون الاسلام الاولي'"
            ],
            "application/vnd.google.colaboratory.intrinsic+json": {
              "type": "string"
            }
          },
          "metadata": {},
          "execution_count": 22
        }
      ]
    },
    {
      "cell_type": "code",
      "source": [
        "df = df.drop(columns = ['Column1','ISBN', 'Reviews_Number', 'Quotes_Number',\n",
        "       'Community_Size', 'Pages_Number', 'Editions', 'Publication_Year',\n",
        "       'Publisher', 'URL', 'Cover_URL',\"Authors_Number\"])"
      ],
      "metadata": {
        "id": "AYUz5umRgB3z"
      },
      "execution_count": 23,
      "outputs": []
    },
    {
      "cell_type": "code",
      "source": [
        "df.head(1)"
      ],
      "metadata": {
        "id": "rg2-i5oLkeSi",
        "colab": {
          "base_uri": "https://localhost:8080/",
          "height": 202
        },
        "outputId": "5c1539cb-b08f-48a1-80ac-68c6c3b89b70"
      },
      "execution_count": 24,
      "outputs": [
        {
          "output_type": "execute_result",
          "data": {
            "text/plain": [
              "           Title                    Author  \\\n",
              "0  استمتع بحياتك   محمد عبد الرحمن العريفي   \n",
              "\n",
              "                                                                                                                                                                                                                                                                                                                                                                                                                                                                                                                                                                                                                                                                                                                                                                                                                                                                                                                                                                                                                                                                                                                                                                                                                                                                                                                                                                                                                                                                                                                                                                                                                                                                                                                                                                                                                                                                                                                                                                                                                                                    Description  \\\n",
              "0  كنت في السادسه عمري وقع في يدي كتاب فن التعامل الناس لمولفه دايل كارنيجي كتابا رايعا قراته عده مرات كاتبه اقترح يعيد الشخص قراءته شهر ففعلت جعلت اطبق قواعده تعاملي الناس فرايت لذلك نتايج عجيبه كارنيجي يسوق القاعده دكتور العقيده واستاذ مساعد كليه المعلمين بجامعه الملك سعود داعيه اسلامي سعودي معروف نشا مدينه الدمام درس المراحل الدراسيه الاولي وقد ينوي دراسه الطب لحظه تخرجه تراجع والتحق بكليه الشريعه وبعد تقدم للدراسات العليا جامعه الامام محمد بن ويذكر تحتها امثله ووقايع لرجال تميزوا قومه روزفلت لنكولن جوزف مايك فتاملت فوجدت الرجل يولف ويوجه لاجل سعاده الدنيا فماذا عرف الاسلام واخلاقه فحصل سعاده الدارين مهارات التعامل عباده يتقرب العبد ربه اكتشفت كارنيجي مات منتحرا فايقنت كتابه حسنه وروعته ينفعه فبحثت في تاريخنا فرايت في سيره رسول الله صلي الله وسلم واصحابه ومواقف المتميزين رجال امتنا يغنينا فبدات الحين اولف الكتاب في فن التعامل الناس فهذا الكتاب الذي يديك وليد شهر سنه نتيجه دراسات قمت لمده عاما ومع الله تعالي علي بتاليف قرابه العشرين عنوانا تجاوزت طبعات بعضها المليوني نسخه اجد احب كتبي الي واغلاها قلبي واكثرها فايده عمليه اظن الكتاب الذي كتبت كلماته بمداد خلطته بدمي سكبت روحي اسطره عصرت ذكرياتي جعلتها كلمات القلب القلب واقسم انها خرجت قلبي مشتاقه يكون مستقرها قلبك فرحماك اعظم سروري علمت قاريا قاريه لهذه الورقات طبق فشعر وشعر غيره بتطور مهاراته وازدادت متعته في حياته فسطر بيمينه الطاهره مشكورا رساله عبر رايه وصور مشاعره بصدق وصراحه ارسلها عبر بريد رساله جوال كاتب السطور لاكون للطفه شاكرا وبظهر الغيب داعيا سعود الاسلاميه بلغت عنوانا وهي نوعان كتبالكافيه الشافيه الانتصار للفرقه الناجيه لابن القيم تحقيق ودراسه وهي نونيه ابن القيم مجلدين وهي رساله الماجستير موقف ابن تيميه الصوفيه مجلدين وهي رساله الدكتوراه المفيد تقريب احكام المسافر طبع طبعات المفيد تقريب احكام الاذان طبع طبعتان الدرر البهيه الالغاز الفقهيه طبع طبعتان تبحث وظيفه الدعوه الله اركب معنا اهميه التوحيد انها ملكه بطن الحوت ليعبدون شرح مصور للعبادات الصلاه والزكاه والصوم والحج طبع مليون نسخه رحله السماء عاشق غرفه العمليات توجيهات للاطباء والمرضي صرخه مطعم الجامعه روايه حول الحجاب وادلته استمتع   \n",
              "\n",
              "               Genres  Average_Ratings  \n",
              "0  علوم إسلامية رقائق              4.0  "
            ],
            "text/html": [
              "\n",
              "  <div id=\"df-df869af3-08bd-4ab2-bc29-f7a15905aa3e\" class=\"colab-df-container\">\n",
              "    <div>\n",
              "<style scoped>\n",
              "    .dataframe tbody tr th:only-of-type {\n",
              "        vertical-align: middle;\n",
              "    }\n",
              "\n",
              "    .dataframe tbody tr th {\n",
              "        vertical-align: top;\n",
              "    }\n",
              "\n",
              "    .dataframe thead th {\n",
              "        text-align: right;\n",
              "    }\n",
              "</style>\n",
              "<table border=\"1\" class=\"dataframe\">\n",
              "  <thead>\n",
              "    <tr style=\"text-align: right;\">\n",
              "      <th></th>\n",
              "      <th>Title</th>\n",
              "      <th>Author</th>\n",
              "      <th>Description</th>\n",
              "      <th>Genres</th>\n",
              "      <th>Average_Ratings</th>\n",
              "    </tr>\n",
              "  </thead>\n",
              "  <tbody>\n",
              "    <tr>\n",
              "      <th>0</th>\n",
              "      <td>استمتع بحياتك</td>\n",
              "      <td>محمد عبد الرحمن العريفي</td>\n",
              "      <td>كنت في السادسه عمري وقع في يدي كتاب فن التعامل الناس لمولفه دايل كارنيجي كتابا رايعا قراته عده مرات كاتبه اقترح يعيد الشخص قراءته شهر ففعلت جعلت اطبق قواعده تعاملي الناس فرايت لذلك نتايج عجيبه كارنيجي يسوق القاعده دكتور العقيده واستاذ مساعد كليه المعلمين بجامعه الملك سعود داعيه اسلامي سعودي معروف نشا مدينه الدمام درس المراحل الدراسيه الاولي وقد ينوي دراسه الطب لحظه تخرجه تراجع والتحق بكليه الشريعه وبعد تقدم للدراسات العليا جامعه الامام محمد بن ويذكر تحتها امثله ووقايع لرجال تميزوا قومه روزفلت لنكولن جوزف مايك فتاملت فوجدت الرجل يولف ويوجه لاجل سعاده الدنيا فماذا عرف الاسلام واخلاقه فحصل سعاده الدارين مهارات التعامل عباده يتقرب العبد ربه اكتشفت كارنيجي مات منتحرا فايقنت كتابه حسنه وروعته ينفعه فبحثت في تاريخنا فرايت في سيره رسول الله صلي الله وسلم واصحابه ومواقف المتميزين رجال امتنا يغنينا فبدات الحين اولف الكتاب في فن التعامل الناس فهذا الكتاب الذي يديك وليد شهر سنه نتيجه دراسات قمت لمده عاما ومع الله تعالي علي بتاليف قرابه العشرين عنوانا تجاوزت طبعات بعضها المليوني نسخه اجد احب كتبي الي واغلاها قلبي واكثرها فايده عمليه اظن الكتاب الذي كتبت كلماته بمداد خلطته بدمي سكبت روحي اسطره عصرت ذكرياتي جعلتها كلمات القلب القلب واقسم انها خرجت قلبي مشتاقه يكون مستقرها قلبك فرحماك اعظم سروري علمت قاريا قاريه لهذه الورقات طبق فشعر وشعر غيره بتطور مهاراته وازدادت متعته في حياته فسطر بيمينه الطاهره مشكورا رساله عبر رايه وصور مشاعره بصدق وصراحه ارسلها عبر بريد رساله جوال كاتب السطور لاكون للطفه شاكرا وبظهر الغيب داعيا سعود الاسلاميه بلغت عنوانا وهي نوعان كتبالكافيه الشافيه الانتصار للفرقه الناجيه لابن القيم تحقيق ودراسه وهي نونيه ابن القيم مجلدين وهي رساله الماجستير موقف ابن تيميه الصوفيه مجلدين وهي رساله الدكتوراه المفيد تقريب احكام المسافر طبع طبعات المفيد تقريب احكام الاذان طبع طبعتان الدرر البهيه الالغاز الفقهيه طبع طبعتان تبحث وظيفه الدعوه الله اركب معنا اهميه التوحيد انها ملكه بطن الحوت ليعبدون شرح مصور للعبادات الصلاه والزكاه والصوم والحج طبع مليون نسخه رحله السماء عاشق غرفه العمليات توجيهات للاطباء والمرضي صرخه مطعم الجامعه روايه حول الحجاب وادلته استمتع</td>\n",
              "      <td>علوم إسلامية رقائق</td>\n",
              "      <td>4.0</td>\n",
              "    </tr>\n",
              "  </tbody>\n",
              "</table>\n",
              "</div>\n",
              "    <div class=\"colab-df-buttons\">\n",
              "\n",
              "  <div class=\"colab-df-container\">\n",
              "    <button class=\"colab-df-convert\" onclick=\"convertToInteractive('df-df869af3-08bd-4ab2-bc29-f7a15905aa3e')\"\n",
              "            title=\"Convert this dataframe to an interactive table.\"\n",
              "            style=\"display:none;\">\n",
              "\n",
              "  <svg xmlns=\"http://www.w3.org/2000/svg\" height=\"24px\" viewBox=\"0 -960 960 960\">\n",
              "    <path d=\"M120-120v-720h720v720H120Zm60-500h600v-160H180v160Zm220 220h160v-160H400v160Zm0 220h160v-160H400v160ZM180-400h160v-160H180v160Zm440 0h160v-160H620v160ZM180-180h160v-160H180v160Zm440 0h160v-160H620v160Z\"/>\n",
              "  </svg>\n",
              "    </button>\n",
              "\n",
              "  <style>\n",
              "    .colab-df-container {\n",
              "      display:flex;\n",
              "      gap: 12px;\n",
              "    }\n",
              "\n",
              "    .colab-df-convert {\n",
              "      background-color: #E8F0FE;\n",
              "      border: none;\n",
              "      border-radius: 50%;\n",
              "      cursor: pointer;\n",
              "      display: none;\n",
              "      fill: #1967D2;\n",
              "      height: 32px;\n",
              "      padding: 0 0 0 0;\n",
              "      width: 32px;\n",
              "    }\n",
              "\n",
              "    .colab-df-convert:hover {\n",
              "      background-color: #E2EBFA;\n",
              "      box-shadow: 0px 1px 2px rgba(60, 64, 67, 0.3), 0px 1px 3px 1px rgba(60, 64, 67, 0.15);\n",
              "      fill: #174EA6;\n",
              "    }\n",
              "\n",
              "    .colab-df-buttons div {\n",
              "      margin-bottom: 4px;\n",
              "    }\n",
              "\n",
              "    [theme=dark] .colab-df-convert {\n",
              "      background-color: #3B4455;\n",
              "      fill: #D2E3FC;\n",
              "    }\n",
              "\n",
              "    [theme=dark] .colab-df-convert:hover {\n",
              "      background-color: #434B5C;\n",
              "      box-shadow: 0px 1px 3px 1px rgba(0, 0, 0, 0.15);\n",
              "      filter: drop-shadow(0px 1px 2px rgba(0, 0, 0, 0.3));\n",
              "      fill: #FFFFFF;\n",
              "    }\n",
              "  </style>\n",
              "\n",
              "    <script>\n",
              "      const buttonEl =\n",
              "        document.querySelector('#df-df869af3-08bd-4ab2-bc29-f7a15905aa3e button.colab-df-convert');\n",
              "      buttonEl.style.display =\n",
              "        google.colab.kernel.accessAllowed ? 'block' : 'none';\n",
              "\n",
              "      async function convertToInteractive(key) {\n",
              "        const element = document.querySelector('#df-df869af3-08bd-4ab2-bc29-f7a15905aa3e');\n",
              "        const dataTable =\n",
              "          await google.colab.kernel.invokeFunction('convertToInteractive',\n",
              "                                                    [key], {});\n",
              "        if (!dataTable) return;\n",
              "\n",
              "        const docLinkHtml = 'Like what you see? Visit the ' +\n",
              "          '<a target=\"_blank\" href=https://colab.research.google.com/notebooks/data_table.ipynb>data table notebook</a>'\n",
              "          + ' to learn more about interactive tables.';\n",
              "        element.innerHTML = '';\n",
              "        dataTable['output_type'] = 'display_data';\n",
              "        await google.colab.output.renderOutput(dataTable, element);\n",
              "        const docLink = document.createElement('div');\n",
              "        docLink.innerHTML = docLinkHtml;\n",
              "        element.appendChild(docLink);\n",
              "      }\n",
              "    </script>\n",
              "  </div>\n",
              "\n",
              "\n",
              "    </div>\n",
              "  </div>\n"
            ],
            "application/vnd.google.colaboratory.intrinsic+json": {
              "type": "dataframe",
              "variable_name": "df",
              "summary": "{\n  \"name\": \"df\",\n  \"rows\": 14200,\n  \"fields\": [\n    {\n      \"column\": \"Title\",\n      \"properties\": {\n        \"dtype\": \"string\",\n        \"num_unique_values\": 13833,\n        \"samples\": [\n          \"\\u0627\\u0644\\u062a\\u062f\\u0631\\u064a\\u0628 \\u0627\\u0644\\u0631\\u064a\\u0627\\u0636\\u064a \\u0644\\u0644\\u0645\\u0644\\u0627\\u0643\\u0645\\u064a\\u0646\",\n          \"\\u0623\\u0632\\u0648\\u0627\\u062c \\u0648\\u0632\\u0648\\u062c\\u0627\\u062a: \\u0635\\u0631\\u0627\\u0639 \\u0627\\u0644\\u062f\\u064a\\u0643\\u0647\",\n          \"\\u0639\\u0627\\u0644\\u0645 \\u0627\\u0644\\u0645\\u0639\\u0631\\u0641\\u0629 #15: \\u0627\\u0644\\u0625\\u0646\\u0633\\u0627\\u0646 \\u0627\\u0644\\u062d\\u0627\\u0626\\u0631 \\u0628\\u064a\\u0646 \\u0627\\u0644\\u0639\\u0644\\u0645 \\u0648\\u0627\\u0644\\u062e\\u0631\\u0627\\u0641\\u0629\"\n        ],\n        \"semantic_type\": \"\",\n        \"description\": \"\"\n      }\n    },\n    {\n      \"column\": \"Author\",\n      \"properties\": {\n        \"dtype\": \"string\",\n        \"num_unique_values\": 7491,\n        \"samples\": [\n          \" \\u0635\\u0628\\u0627\\u062d \\u064a\\u0627\\u0633\\u064a\\u0646\",\n          \" \\u0645\\u062d\\u0645\\u062f \\u0628\\u0648\\u062a\\u064a\\u0646\",\n          \" \\u0645\\u062d\\u0645\\u062f \\u0628\\u0646 \\u0645\\u0635\\u0637\\u0641\\u0649 \\u0628\\u0646 \\u062d\\u0633\\u0646 /\\u0627\\u0644\\u062e\\u0636\\u0631\\u064a \\u0627\\u0644\\u0634\\u0627\\u0641\\u0639\\u064a\"\n        ],\n        \"semantic_type\": \"\",\n        \"description\": \"\"\n      }\n    },\n    {\n      \"column\": \"Description\",\n      \"properties\": {\n        \"dtype\": \"string\",\n        \"num_unique_values\": 13474,\n        \"samples\": [\n          \"\\u0633\\u0645 \\u0627\\u0644\\u0643\\u062a\\u0627\\u0628 \\u0645\\u062f\\u062e\\u0644 \\u0648\\u0639\\u0634\\u0631\\u0647 \\u0641\\u0635\\u0648\\u0644 \\u0633\\u0637\\u0648\\u0647 \\u0627\\u0644\\u0642\\u0631\\u0627\\u0646 \\u062a\\u0627\\u0645\\u0644 \\u0627\\u0646\\u0628\\u0647\\u0631\\u0648\\u0627 \\u0645\\u0646\\u0627\\u0632\\u0644 \\u0627\\u0644\\u0627\\u0634\\u0639\\u0631\\u064a\\u064a\\u0646 \\u0627\\u0644\\u0642\\u0644\\u0648\\u0628 \\u0627\\u0644\\u0635\\u062e\\u0631\\u064a\\u0647 \\u0627\\u0644\\u0634\\u0627\\u0631\\u062f\\u0648\\u0646 \\u062a\\u0637\\u0648\\u064a\\u0644 \\u0627\\u0644\\u0637\\u0631\\u064a\\u0642 \\u0645\\u0646\\u0627\\u0637\\u0642 \\u0627\\u0644\\u062a\\u062f\\u0628\\u0631 \\u0627\\u0644\\u0645\\u0646\\u0647\\u062c \\u0627\\u0644\\u0643\\u062a\\u0627\\u0628 \\u062f\\u0648\\u064a \\u0627\\u0644\\u0644\\u064a\\u0627\\u0644\\u064a \\u0627\\u0644\\u0631\\u0645\\u0636\\u0627\\u0646\\u064a\\u0647 \\u0627\\u0644\\u062d\\u0628\\u0644 \\u0627\\u0644\\u0646\\u0627\\u0638\\u0645 \\u0643\\u062a\\u0627\\u0628 \\u0627\\u0644\\u0644\\u0647\\u0648\\u062e\\u0627\\u062a\\u0645\\u0647 \\u064a\\u062a\\u0646\\u0627\\u0648\\u0644 \\u0627\\u0644\\u0643\\u062a\\u0627\\u0628 \\u0627\\u0644\\u0642\\u0631\\u0627\\u0646 \\u062d\\u064a\\u0627\\u062a\\u0646\\u0627\\u062a\\u0646\\u0628\\u0636 \\u0635\\u0641\\u062d\\u0627\\u062a\\u0647 \\u0628\\u0643\\u0627\\u0644\\u0648\\u0631\\u064a\\u0648\\u0633 \\u0634\\u0631\\u064a\\u0639\\u0647\\u0645\\u0627\\u062c\\u0633\\u062a\\u064a\\u0631 \\u0633\\u064a\\u0627\\u0633\\u0647 \\u0634\\u0631\\u0639\\u064a\\u0647 \\u062c\\u0627\\u0645\\u0639\\u0647 \\u0627\\u0644\\u0627\\u0645\\u0627\\u0645\\u0645\\u0627\\u062c\\u0633\\u062a\\u064a\\u0631 \\u0642\\u0627\\u0646\\u0648\\u0646 \\u062a\\u062c\\u0627\\u0631\\u064a \\u062f\\u0648\\u0644\\u064a \\u062c\\u0627\\u0645\\u0639\\u0647 \\u0627\\u0633\\u0643\\u0633 \\u0628\\u0631\\u064a\\u0637\\u0627\\u0646\\u064a\\u0627 \\u063a\\u064a\\u0631\\u0647 \\u0648\\u0631\\u063a\\u0628\\u0647 \\u0627\\u064a\\u0642\\u0627\\u0638 \\u0627\\u0644\\u0627\\u0645\\u0647 \\u0643\\u0644\\u0645\\u0627\\u062a\\u0647 \\u0639\\u0630\\u0628\\u0647 \\u0648\\u062a\\u0627\\u0645\\u0644\\u0627\\u062a\\u0647 \\u063a\\u0627\\u064a\\u0647 \\u0627\\u0644\\u062c\\u0645\\u0627\\u0644 \\u0648\\u0627\\u0644\\u0631\\u0648\\u0639\\u0647 \\u0648\\u0642\\u0641\\u0627\\u062a \\u062a\\u0627\\u0645\\u0644\\u064a\\u0647 \\u0627\\u0633\\u062a\\u0634\\u0639\\u0627\\u0631 \\u0630\\u0643\\u0631 \\u0627\\u0644\\u0644\\u0647 \\u0627\\u0644\\u0627\\u062d\\u0648\\u0627\\u0644\",\n          \"\\u0627\\u0644\\u062a\\u0642\\u062f\\u0645 \\u0627\\u0644\\u0635\\u0646\\u0627\\u0639\\u064a \\u0627\\u0644\\u0633\\u0631\\u064a\\u0639 \\u0627\\u0644\\u0627\\u0648\\u0646\\u0647 \\u0627\\u0644\\u0627\\u062e\\u064a\\u0631\\u0647 \\u0631\\u0627\\u0641\\u0642\\u0647 \\u0627\\u0628\\u062e\\u0631\\u0647 \\u0648\\u063a\\u0627\\u0632\\u0627\\u062a \\u0648\\u0646\\u0641\\u0627\\u064a\\u0627\\u062a \\u0633\\u0627\\u0645\\u0647 \\u0648\\u0627\\u0633\\u062a\\u062e\\u062f\\u0627\\u0645 \\u0627\\u0644\\u0645\\u0628\\u064a\\u062f\\u0627\\u062a \\u0627\\u0644\\u0643\\u064a\\u0645\\u064a\\u0627\\u064a\\u064a\\u0647 \\u0627\\u0644\\u0632\\u0631\\u0627\\u0639\\u064a\\u0647 \\u0648\\u062a\\u0639\\u0631\\u064a\\u0647 \\u0627\\u0644\\u063a\\u0627\\u0628\\u0627\\u062a \\u0648\\u0627\\u0644\\u0631\\u0639\\u064a \\u0627\\u0644\\u062c\\u0627\\u064a\\u0631 \\u062c\\u0627\\u0646\\u0628 \\u0627\\u0644\\u0632\\u062d\\u0641 \\u0627\\u0644\\u0633\\u0643\\u0627\\u0646\\u064a \\u0648\\u0647\\u062c\\u0631\\u0647 \\u0627\\u0644\\u0627\\u0631\\u064a\\u0627\\u0641 \\u0627\\u0644\\u0645\\u062f\\u0646 \\u0643\\u0644\\u0647\\u0627 \\u0639\\u0648\\u0627\\u0645\\u0644 \\u0627\\u062f\\u062a \\u062a\\u0644\\u0648\\u062b \\u0627\\u0644\\u0628\\u064a\\u064a\\u0647 \\u0648\\u062a\\u062f\\u0647\\u0648\\u0631 \\u0645\\u0648\\u0627\\u0631\\u062f\\u0647\\u0627 \\u0627\\u0644\\u0637\\u0628\\u064a\\u0639\\u064a\\u0647 \\u0641\\u0634\\u0645\\u0644\\u062a \\u0628\\u0630\\u0644\\u0643 \\u062c\\u0648\\u0627\\u0646\\u0628 \\u0627\\u0644\\u062d\\u064a\\u0627\\u0647 \\u0647\\u0648\\u0627\\u0621 \\u0648\\u062a\\u0631\\u0628\\u0647 \\u0648\\u0645\\u0627\\u0621 \\u0648\\u0646\\u0638\\u0631\\u0627 \\u0644\\u0644\\u062e\\u0637\\u0631 \\u0627\\u0644\\u0645\\u062f\\u0645\\u0631 \\u0627\\u0644\\u0632\\u0627\\u062d\\u0641 \\u0627\\u0644\\u064a\\u0646\\u0627 \\u062d\\u0636\\u0627\\u0631\\u0647 \\u0627\\u0644\\u062a\\u0635\\u0646\\u064a\\u0639 \\u0648\\u062c\\u0634\\u0639 \\u0627\\u0644\\u0645\\u0635\\u0646\\u0639\\u064a\\u0646 \\u0648\\u0643\\u0630\\u0644\\u0643 \\u0633\\u0628\\u0627\\u0642 \\u0627\\u0644\\u062a\\u0633\\u0644\\u062d \\u0627\\u0644\\u0646\\u0648\\u0648\\u064a \\u062a\\u062a\\u0631\\u0643\\u0647 \\u0627\\u0644\\u062d\\u0636\\u0627\\u0631\\u0647 \\u0627\\u062b\\u0627\\u0631 \\u0636\\u0627\\u0631\\u0647 \\u0648\\u0645\\u062f\\u0645\\u0631\\u0647 \\u0644\\u0644\\u0628\\u064a\\u064a\\u0647 \\u0628\\u062f \\u062a\\u0642\\u062f\\u064a\\u0645 \\u0627\\u0644\\u0643\\u062a\\u0627\\u0628 \\u064a\\u062a\\u0646\\u0627\\u0648\\u0644 \\u062f\\u0648\\u0631 \\u0627\\u0644\\u0645\\u0628\\u064a\\u062f\\u0627\\u062a \\u0648\\u0627\\u0644\\u0627\\u0633\\u0645\\u062f\\u0647 \\u062a\\u0637\\u0648\\u064a\\u0631 \\u0627\\u0644\\u0627\\u0646\\u062a\\u0627\\u062c \\u0648\\u0627\\u0644\\u0643\\u0634\\u0641 \\u0627\\u062b\\u0631\\u0647\\u0627 \\u0627\\u0644\\u0636\\u0627\\u0631 \\u0627\\u0644\\u0645\\u062d\\u0627\\u0635\\u064a\\u0644 \\u0648\\u0627\\u0644\\u062a\\u0631\\u0628\\u0647 \\u0648\\u0627\\u0644\\u0645\\u0627\\u0621 \\u064a\\u0642\\u062f\\u0645 \\u0627\\u0641\\u0636\\u0644 \\u0627\\u0644\\u062d\\u0644\\u0648\\u0644 \\u0648\\u0627\\u0644\\u0627\\u0642\\u062a\\u0631\\u0627\\u062d\\u0627\\u062a \\u0644\\u0644\\u0645\\u062d\\u0627\\u0641\\u0638\\u0647 \\u0633\\u0644\\u0627\\u0645\\u0647 \\u0627\\u0644\\u0628\\u064a\\u064a\\u0647 \\u0648\\u0627\\u0644\\u0627\\u0646\\u0633\\u0627\\u0646 \\u0627\\u0646\\u0647\\u0627 \\u0645\\u062d\\u0627\\u0648\\u0644\\u0647 \\u062c\\u0627\\u062f\\u0647 \\u0648\\u0645\\u0634\\u0627\\u0631\\u0643\\u0647 \\u0641\\u0639\\u0627\\u0644\\u0647 \\u0636\\u062f \\u0627\\u0644\\u064a\\u0647 \\u0627\\u0644\\u062d\\u0631\\u0628 \\u0627\\u0644\\u062c\\u062f\\u064a\\u062f\\u0647 \\u062a\\u0627\\u062a\\u064a \\u062f\\u0645\\u0627\\u0631 \\u0627\\u0644\\u0643\\u0631\\u0647 \\u0627\\u0644\\u0627\\u0631\\u0636\\u064a\\u0647 \\u0648\\u0645 \\u0639\\u0644\\u064a\\u0647\\u0627\",\n          \"\\u064a\\u062a\\u062e\\u062f\\u062b \\u0627\\u0644\\u0643\\u0627\\u062a\\u0628 \\u0627\\u0644\\u0627\\u0646\\u0628\\u064a\\u0627\\u0621 \\u0645\\u0647\\u0645\\u062a\\u0647\\u0645 \\u064a\\u0630\\u0643\\u0631 \\u0627\\u0644\\u0641\\u0631\\u0642 \\u0627\\u0644\\u0627\\u0646\\u0628\\u064a\\u0627\\u0621 \\u0627\\u0644\\u0631\\u0633\\u0644 \\u063a\\u064a\\u0631\\u0647\\u0645 \\u064a\\u0643\\u0648\\u0646\\u0648 \\u0635\\u0627\\u0644\\u062d\\u064a\\u0646 \\u0644\\u0643\\u0646\\u0647\\u0645 \\u064a\\u062d\\u0627\\u0631\\u0628\\u0648 \\u0627\\u0644\\u0641\\u0633\\u0627\\u062f \\u064a\\u062a\\u0637\\u0631\\u0642 \\u0627\\u0644\\u0643\\u0627\\u062a\\u0628 \\u062a\\u0646\\u0643\\u0631 \\u0642\\u0631\\u064a\\u0634 \\u0645\\u0627\\u0644\\u0648\\u0641\\u0627\\u062a\\u0647\\u0627 \\u0644\\u062f\\u0641\\u0627\\u0639 \\u0639\\u0642\\u064a\\u062f\\u062a\\u0647\\u0627 \\u0645\\u0642\\u0627\\u0648\\u0645\\u0647 \\u0627\\u0644\\u0627\\u0646\\u062d\\u0631\\u0627\\u0641 \\u0627\\u0644\\u0645\\u062a\\u0627\\u0635\\u0644 \\u0648\\u0648 \\u0633\\u0627\\u064a\\u0644 \\u0627\\u0644\\u0637\\u0648\\u0627\\u063a\\u064a\\u062a \\u0645\\u0648\\u0627\\u062c\\u0647\\u0647 \\u062f\\u0639\\u0648\\u0647 \\u0627\\u0644\\u0627\\u0646\\u0628\\u064a\\u0627\\u0621 \\u064a\\u0630\\u0643\\u0631 \\u0627\\u064a\\u0636\\u0627 \\u0646\\u0635\\u0631\\u0647 \\u0639\\u0627\\u0644\\u0645 \\u062f\\u064a\\u0646 \\u0648\\u0645\\u0641\\u0643\\u0631 \\u0628\\u0627\\u0631\\u0632 \\u0627\\u0644\\u0645\\u0645\\u0644\\u0643\\u0647 \\u0627\\u0644\\u0639\\u0631\\u0628\\u064a\\u0647 \\u0627\\u0644\\u0633\\u0639\\u0648\\u062f\\u064a\\u0647 \\u0648\\u0644\\u062f \\u0634\\u0647\\u0631 \\u062c\\u0645\\u0627\\u062f\\u064a \\u0627\\u0644\\u0627\\u0648\\u0644\\u064a \\u0639\\u0627\\u0645 \\u0628\\u0644\\u062f\\u0647 \\u0627\\u0644\\u0628\\u0635\\u0631 \\u0636\\u0648\\u0627\\u062d\\u064a \\u0645\\u062f\\u064a\\u0646\\u0647 \\u0628\\u0631\\u064a\\u062f\\u0647 \\u0645\\u0646\\u0637\\u0642\\u0647 \\u0627\\u0644\\u0642\\u0635\\u064a\\u0645 \\u064a\\u0631\\u062c\\u0639 \\u0646\\u0633\\u0628\\u0647 \\u0628\\u0646\\u064a \\u062e\\u0627\\u0644\\u062f \\u062d\\u0627\\u0635\\u0644 \\u0645\\u0627\\u062c\\u0633\\u062a\\u064a\\u0631 \\u0627\\u0644\\u0633 \\u0646\\u0647 \\u0645\\u0648\\u0636\\u0648\\u0639 \\u0627\\u0644\\u063a\\u0631\\u0628\\u0647 \\u0648\\u0627\\u062d\\u0643\\u0627\\u0645\\u0647\\u0627 \\u0648\\u062f\\u0643\\u062a\\u0648\\u0631\\u0627\\u0647 \\u0627\\u0644\\u0633 \\u0646\\u0647 \\u0634\\u0631\\u062d \\u0628\\u0644\\u0648\\u063a \\u0627\\u0644\\u0645\\u0631\\u0627\\u0645 \\u0643\\u062a\\u0627\\u0628 \\u0627\\u0644\\u0637\\u0647\\u0627\\u0631\\u0647 \\u0627\\u0628\\u0631\\u0632 \\u064a\\u0637\\u0644\\u0642 \\u0639\\u0644\\u064a\\u0647\\u0645 \\u0645\\u0634\\u0627\\u064a\\u062e \\u0627\\u0644\\u0635\\u062d\\u0648\\u0647 \\u0627\\u0644\\u062b\\u0645\\u0627\\u0646\\u064a\\u0646\\u0627\\u062a \\u0648\\u0627\\u0644\\u062a\\u0633\\u0639\\u064a\\u0646\\u0627\\u062a \\u0645\\u0648\\u0644\\u0641\\u0627\\u062a\\u0647\\u0627\\u0644\\u0639\\u0632\\u0644\\u0647 \\u0648\\u0627\\u0644\\u062e\\u0644\\u0637\\u0647 \\u0627\\u0644\\u0644\\u0647 \\u0644\\u0631\\u0633\\u0644\\u0647 \\u062a\\u0634\\u0643\\u064a\\u0643 \\u0627\\u0644\\u0646\\u0627\\u0633 \\u0645\\u0633\\u0642\\u0628\\u0644 \\u0648\\u0633\\u0627\\u064a\\u0644 \\u0627\\u0644\\u0631\\u0633\\u0644 \\u0627\\u062d\\u0643\\u0627\\u0645 \\u0648\\u0627\\u062d\\u0648\\u0627\\u0644 \\u0635\\u0641\\u0647 \\u0627\\u0644\\u063a\\u0631\\u0628\\u0627\\u0621\\u0645\\u0646 \\u0648\\u0633\\u0627\\u064a\\u0644 \\u062f\\u0641\\u0639 \\u0627\\u0644\\u063a\\u0631\\u0628\\u0647\\u0645\\u0646 \\u0627\\u062e\\u0644\\u0627\\u0642 \\u0627\\u0644\\u062f\\u0627\\u0639\\u064a\\u0647\\u0627\\u062f\\u0628 \\u0627\\u0644\\u062d\\u0648\\u0627\\u0631\\u0645\\u0646 \\u064a\\u0645\\u0644\\u0643 \\u062d\\u0642 \\u0627\\u0644\\u0627\\u062c\\u062a\\u0647\\u0627\\u062f\\u0631\\u0633\\u0627\\u0644\\u0647 \\u0627\\u0644\\u0627\\u0628\\u0628\\u0646\\u0627\\u0621 \\u0627\\u0644\\u0641\\u0631\\u062f\\u062f\\u0644\\u0648\\u0646\\u064a \\u0633\\u0648\\u0642 \\u0627\\u0644\\u0645\\u062f\\u064a\\u0646\\u0647\\u0646\\u062f\\u0627\\u0621 \\u0627\\u0644\\u0641\\u0637\\u0631\\u0647\\u0639\\u0634\\u0631\\u0648\\u0646 \\u0637\\u0631\\u064a\\u0642\\u0647 \\u0644\\u0644\\u0631\\u064a\\u0627\\u0621\\u062c\\u0644\\u0633\\u0647 \\u0627\\u0644\\u0631\\u0635\\u064a\\u0641\\u0646\\u0633\\u064a\\u0645 \\u0627\\u0644\\u062d\\u062c\\u0627\\u0632 \\u0633\\u064a\\u0631\\u0647 \\u0627\\u0644\\u0627\\u0645\\u0627\\u0645 \\u0627\\u0628\\u0646 \\u0628\\u0627\\u0632\\u0647\\u0643\\u0630\\u0627 \\u0627\\u0644\\u0627\\u0646\\u0628\\u064a\\u0627\\u0621\\u062c\\u0632\\u064a\\u0631\\u0647 \\u0627\\u0644\\u0627\\u0633\\u0644\\u0627\\u0645\\u0631\\u0633\\u0627\\u064a\\u0644 \\u0627\\u0644\\u062d\\u062c\\u064a\\u062c\\u0627\\u0645\\u0627\\u0645 \\u0627\\u0647\\u0644 \\u0627\\u0644\\u0633\\u0646\\u0647\\u0627\\u062e\\u0631 \\u0644\\u062d\\u0638\\u0627\\u062a \\u0627\\u0644\\u0641\\u0627\\u0631\\u0648\\u0642\\u062f\\u0639\\u0627\\u0647 \\u0627\\u0644\\u0628\\u064a\\u0648\\u062a\\u0636\\u0648\\u0627\\u0628\\u0637 \\u0644\\u0644\\u062f\\u0631\\u0627\\u0633\\u0627\\u062a \\u0627\\u0644\\u0641\\u0642\\u0647\\u064a\\u0647\\u0645\\u0632\\u0627\\u0644\\u0642 \\u0637\\u0631\\u064a\\u0642 \\u0627\\u0644\\u0637\\u0644\\u0628\\u0645\\u0642\\u0648\\u0644\\u0627\\u062a \\u0641\\u0642\\u0647 \\u0627\\u0644\\u0645\\u0648\\u0642\\u0641\\u0627\\u0644\\u0645\\u0639\\u0631\\u0643\\u0647 \\u0627\\u0644\\u0641\\u0627\\u0635\\u0644\\u0647 \\u0627\\u0644\\u064a\\u0647\\u0648\\u062f\\u0627\\u0644\\u0635\\u062d\\u0648\\u0647 \\u0646\\u0638\\u0631 \\u0627\\u0644\\u063a\\u0631\\u0628\\u064a\\u064a\\u0646\\u0645\\u0639\\u0631\\u0643\\u0647 \\u0627\\u0644\\u0627\\u0633\\u0644\\u0627\\u0645 \\u0648\\u0627\\u0644\\u0639\\u0644\\u0645\\u0627\\u0646\\u064a\\u0647\\u0644\\u0645\\u0627\\u0630\\u0627 \\u064a\\u062e\\u0627\\u0641\\u0648\\u0646 \\u0627\\u0644\\u0627\\u0633\\u0644\\u0627\\u0645 \\u0631\\u0633\\u0627\\u0644\\u0647 \\u0627\\u0644\\u0634\\u0628\\u0627\\u0628 \\u0627\\u0644\\u0645\\u0633\\u0644\\u0645 \\u0627\\u0644\\u062d\\u064a\\u0627\\u0647\\u0645\\u0642\\u0627\\u0644\\u0627\\u062a \\u0627\\u0644\\u0645\\u0646\\u0647\\u062c\\u0627\\u0644\\u0627\\u063a\\u0631\\u0627\\u0642 \\u0627\\u0644\\u062c\\u0632\\u064a\\u064a\\u0627\\u062a\\u0627\\u0644\\u0645\\u0632\\u0627\\u062d\\u0648\\u0642\\u0641\\u0627\\u062a \\u0627\\u0644\\u0633\\u0628\\u0639 \\u0627\\u0644\\u0645\\u062b\\u0627\\u0646\\u064a\\u0646\\u0647\\u0627\\u064a\\u0647 \\u0627\\u0644\\u062a\\u0627\\u0631\\u064a\\u062e\\u0648\\u0644\\u0643\\u0646 \\u0643\\u0648\\u0646\\u0648\\u0627 \\u0631\\u0628\\u0627\\u0646\\u064a\\u064a\\u0646\"\n        ],\n        \"semantic_type\": \"\",\n        \"description\": \"\"\n      }\n    },\n    {\n      \"column\": \"Genres\",\n      \"properties\": {\n        \"dtype\": \"category\",\n        \"num_unique_values\": 1841,\n        \"samples\": [\n          \"\\u0641\\u0644\\u0633\\u0641\\u0629 \\u062f\\u0631\\u0627\\u0633\\u0627\\u062a \\u0641\\u0644\\u0633\\u0641\\u064a\\u0629 \\u0641\\u0644\\u0633\\u0641\\u0629 \\u0627\\u0644\\u062f\\u064a\\u0646 \\u0648\\u0627\\u0644\\u0641\\u0644\\u0633\\u0641\\u0629\",\n          \"\\u0639\\u0644\\u0648\\u0645 \\u0625\\u062c\\u062a\\u0645\\u0627\\u0639\\u064a\\u0629 \\u0645\\u0634\\u0627\\u0643\\u0644 \\u0648\\u0623\\u0645\\u0631\\u0627\\u0636 \\u0625\\u062c\\u062a\\u0645\\u0627\\u0639\\u064a\\u0629 \\u0639\\u0644\\u0645 \\u0627\\u0644\\u0646\\u0641\\u0633 \\u0627\\u0644\\u0635\\u062d\\u0629 \\u0627\\u0644\\u0646\\u0641\\u0633\\u064a\\u0629 \\u0639\\u0644\\u0645 \\u0627\\u0644\\u0646\\u0641\\u0633 \\u062a\\u0646\\u0645\\u064a\\u0629 \\u0628\\u0634\\u0631\\u064a\\u0629 \\u0648\\u062a\\u0637\\u0648\\u064a\\u0631 \\u0627\\u0644\\u0630\\u0627\\u062a\",\n          \"\\u0643\\u062a\\u0628 \\u0623\\u0637\\u0641\\u0627\\u0644 \\u0643\\u062a\\u0628 \\u062a\\u0639\\u0644\\u064a\\u0645\\u064a\\u0629 \\u0632\\u0631\\u0627\\u0639\\u0629 \\u0648\\u062d\\u064a\\u0648\\u0627\\u0646 \\u0639\\u0644\\u0645 \\u0627\\u0644\\u0646\\u0628\\u0627\\u062a \\u0645\\u0631\\u0627\\u062c\\u0639 \\u0645\\u0648\\u0633\\u0648\\u0639\\u0627\\u062a\"\n        ],\n        \"semantic_type\": \"\",\n        \"description\": \"\"\n      }\n    },\n    {\n      \"column\": \"Average_Ratings\",\n      \"properties\": {\n        \"dtype\": \"number\",\n        \"std\": 1.77907441679102,\n        \"min\": 0.0,\n        \"max\": 5.0,\n        \"num_unique_values\": 39,\n        \"samples\": [\n          2.1,\n          1.3,\n          3.7\n        ],\n        \"semantic_type\": \"\",\n        \"description\": \"\"\n      }\n    }\n  ]\n}"
            }
          },
          "metadata": {},
          "execution_count": 24
        }
      ]
    },
    {
      "cell_type": "code",
      "source": [
        "# preprocessing\n",
        "# outcome ----> clean raw text data\n",
        "# combination #1\n",
        "# without combination #2\n",
        "\n",
        "# text --> embeding\n",
        "#"
      ],
      "metadata": {
        "id": "wSvr8raIO-DA"
      },
      "execution_count": 25,
      "outputs": []
    },
    {
      "cell_type": "code",
      "source": [
        "def combine_text(row):\n",
        "    # Convert each field to string just in case some are floats or ints\n",
        "    description = str(row[\"Description\"])\n",
        "    author = str(row[\"Author\"])\n",
        "    genres = str(row[\"Genres\"])\n",
        "    title = str(row[\"Title\"])\n",
        "\n",
        "\n",
        "    # Example of how you might incorporate these fields\n",
        "    # Use a delimiter like \"|\" or \"\\n\" to separate them\n",
        "    combined = (\n",
        "        f\"{description} | \"\n",
        "        f\"Author: {author} | \"\n",
        "        f\"Genres: {genres} | \"\n",
        "        f\"title: {title}|\"\n",
        "    )\n",
        "    return combined\n",
        "\n",
        "df[\"combined_text\"] = df.apply(combine_text, axis=1)\n",
        "df[\"combined_text\"].head()\n"
      ],
      "metadata": {
        "colab": {
          "base_uri": "https://localhost:8080/",
          "height": 501
        },
        "id": "kMfTGcOJYH8s",
        "outputId": "5b88befd-0c4d-46be-bfb5-17d0a8ed0802"
      },
      "execution_count": 26,
      "outputs": [
        {
          "output_type": "execute_result",
          "data": {
            "text/plain": [
              "0    كنت في السادسه عمري وقع في يدي كتاب فن التعامل الناس لمولفه دايل كارنيجي كتابا رايعا قراته عده مرات كاتبه اقترح يعيد الشخص قراءته شهر ففعلت جعلت اطبق قواعده تعاملي الناس فرايت لذلك نتايج عجيبه كارنيجي يسوق القاعده دكتور العقيده واستاذ مساعد كليه المعلمين بجامعه الملك سعود داعيه اسلامي سعودي معروف نشا مدينه الدمام درس المراحل الدراسيه الاولي وقد ينوي دراسه الطب لحظه تخرجه تراجع والتحق بكليه الشريعه وبعد تقدم للدراسات العليا جامعه الامام محمد بن ويذكر تحتها امثله ووقايع لرجال تميزوا قومه روزفلت لنكولن جوزف مايك فتاملت فوجدت الرجل يولف ويوجه لاجل سعاده الدنيا فماذا عرف الاسلام واخلاقه فحصل سعاده الدارين مهارات التعامل عباده يتقرب العبد ربه اكتشفت كارنيجي مات منتحرا فايقنت كتابه حسنه وروعته ينفعه فبحثت في تاريخنا فرايت في سيره رسول الله صلي الله وسلم واصحابه ومواقف المتميزين رجال امتنا يغنينا فبدات الحين اولف الكتاب في فن التعامل الناس فهذا الكتاب الذي يديك وليد شهر سنه نتيجه دراسات قمت لمده عاما ومع الله تعالي علي بتاليف قرابه العشرين عنوانا تجاوزت طبعات بعضها المليوني نسخه اجد احب كتبي الي واغلاها قلبي واكثرها فايده عمليه اظن الكتاب الذي كتبت كلماته بمداد خلطته بدمي سكبت روحي اسطره عصرت ذكرياتي جعلتها كلمات القلب القلب واقسم انها خرجت قلبي مشتاقه يكون مستقرها قلبك فرحماك اعظم سروري علمت قاريا قاريه لهذه الورقات طبق فشعر وشعر غيره بتطور مهاراته وازدادت متعته في حياته فسطر بيمينه الطاهره مشكورا رساله عبر رايه وصور مشاعره بصدق وصراحه ارسلها عبر بريد رساله جوال كاتب السطور لاكون للطفه شاكرا وبظهر الغيب داعيا سعود الاسلاميه بلغت عنوانا وهي نوعان كتبالكافيه الشافيه الانتصار للفرقه الناجيه لابن القيم تحقيق ودراسه وهي نونيه ابن القيم مجلدين وهي رساله الماجستير موقف ابن تيميه الصوفيه مجلدين وهي رساله الدكتوراه المفيد تقريب احكام المسافر طبع طبعات المفيد تقريب احكام الاذان طبع طبعتان الدرر البهيه الالغاز الفقهيه طبع طبعتان تبحث وظيفه الدعوه الله اركب معنا اهميه التوحيد انها ملكه بطن الحوت ليعبدون شرح مصور للعبادات الصلاه والزكاه والصوم والحج طبع مليون نسخه رحله السماء عاشق غرفه العمليات توجيهات للاطباء والمرضي صرخه مطعم الجامعه روايه حول الحجاب وادلته استمتع | Author:  محمد عبد الرحمن العريفي | Genres: علوم إسلامية رقائق | title: استمتع بحياتك|\n",
              "1                                                                                                                                                                                                                                                                                                                                                                                                                                                                                                                                                                                                                                                                                                                                                                                                                                                           يزخر التاريخ الاسلامي برجال ظام سطروا حوادثه الكبري بحروف نور يشع صلاحهم ونفعهم للناس فح خلود الذكر مر بن الخطاب كبار صحابه النبي والخليفه الراشد العادل دخول مر الاسلام نقطه تحو كبري حياته ظهر كرجل قوي الشخصيه حاسم الراي طالب للحق ولد العقاد اسوان وحصل الشهاده الابتداييه الرابعه عمره يكمل تعليمه بعدها وحدث زار المدرسه الامام الشيخ محمد عبده وعرض مدرس اللغه العربيه الشيخ فخر الدين كراسه التلميذ عباس العقاد فتصفحها باسما وناقش العقاد موضوعاتها اعز الله الاسلام فكان ظهير لاخوانه المسلمين ضد ظلم الجاهليه فيصاحب النبي ويخدم دعوه الاسلام بكل طاقته يصبح خليفه المسلمين وفاه الخليفه الاول ابي بكر فيوط اركان الدوله الوليده ويوس رقعتها يرعي مصالح ابنايها عدل يخلو الرحمه وهذا الكتاب دراسه لجوانب شخصيه مر وط باعه النفسيه وتعر مفاتيح شخصيته لنفهم الشخصيه العبقريه التفت المدر وقال اجدر الفتي يكون كاتبا اشتغل بوظايف كثيره المديريات ومصلحه التلغراف مصلحه سكه الحديد ديوان الاوقاف استقال واحده واحده يقول الوظايف الحكوميه نفوري الوظيفه الحكوميه العهد يقدسها السوابق اغتبط واحمد الله عليها انسي اليوم انني تلقيت خبر قبولي الوظيفه الاولي اكرهتني الظروف طلبها كانني اتلقي خبر الحكم بالسجن الاسر والعبوديه كنت اومن الايمان بان الموظف رقيق القرن العشرين كانت حياته سلسله | Author:  عباس محمود العقاد | Genres: علوم إسلامية سيرة الصحابة | title: عبقرية عمر|\n",
              "2                                                                                                                                                                                                                                                                                                                                                                                                                                                                                                                                                                                                                                                                                                                                                                                                              احتفي التاريخ العربي بالسيره الم حمديه فافرد المجلدات الطوال ذكرت احداث ميلاد ونشاه النبي وقد اسهبت تناول احداث حياته المولد الوفاه بتفاصيل كثيره عززه بالاسانيد ومغرقه تفاصيل الاحداث وتواريخها ولما وضع العقاد الكتاب يكن هدفه عرض جديد للسيره المحمديه اراد ابراز ملامح ولد العقاد اسوان وحصل الشهاده الابتداييه الرابعه عمره يكمل تعليمه بعدها وحدث زار المدرسه الامام الشيخ محمد عبده وعرض مدرس اللغه العربيه الشيخ فخر الدين كراسه التلميذ عباس العقاد فتصفحها باسما وناقش العقاد موضوعاتها عبقريه النبي الانسان اصطفاه الله بظروف ختاره لت شخصيته وبقدرات انسانيه فذ مك نته الاضطلاع بحمل الرساله يقدم جوانب حياه الداعي الرحيم الرفيق بقومه والعالم يصلح فكان القايد العسكري النبيل والسياسي المحن استطاع يدبر امور دوله الاسلام الوليده بمهاره يقترب صفاته الانسانيه فهو الزوج العطوف والاب الحنون رغم جسامه المهمه ارسل التفت المدر وقال اجدر الفتي يكون كاتبا اشتغل بوظايف كثيره المديريات ومصلحه التلغراف مصلحه سكه الحديد ديوان الاوقاف استقال واحده واحده يقول الوظايف الحكوميه نفوري الوظيفه الحكوميه العهد يقدسها السوابق اغتبط واحمد الله عليها انسي اليوم انني تلقيت خبر قبولي الوظيفه الاولي اكرهتني الظروف طلبها كانني اتلقي خبر الحكم بالسجن الاسر والعبوديه كنت اومن الايمان بان الموظف رقيق القرن العشرين كانت حياته سلسله | Author:  عباس محمود العقاد | Genres: علوم إسلامية السيرة النبوية | title: عبقرية محمد|\n",
              "3                                                                                                                                                                                                                                                                                                                                                                                                                                                                                                                                                                                                                                                                                                                                                                                                                                                                                                                                                                                                                                                                                                                                                                                                                                                                                                                                                                                                                                                                                                                                                                                                                                                                                كتاب يتحدث اسماء الله الحسني وكيف نعيشها حياتنا حرص المولف يكون الكتاب مناسبا لمن متوسطي الثقافه ويكون ناسبا للمحتاج المريض السليم يعمل كمحاضر قسم الشريعه اللغه العربيه كليه البرامج المشتركه بالمحاله التحق بالجامعه عام هجريا حاصل بكالوريوس تخصص العوده جانب حصوله درجه الماجستير تخصص الدعوه الاحتساب العديد الابحاث العلميه المتميزه ومولف كتاب لانك الله | Author:  علي بن جابر الفيفي | Genres: علوم إسلامية رقائق | title: لأنك الله : رحلة إلى السماء السابعة|\n",
              "4                                                                                                                                                                                                                                                                                                                                                                                                                                                                                                                                                                                                                                                                                                                                                                                                                         عباس محمود العقاد تناول شخصيه الامام علي بن ابي طالب فقد محور العرض مناحي النفس الانسانيه استخلص سيره الامام يلتقي وخصايص النفس الانسانيه عنده ففي سيرته لتقي بالعواطف الجي اشه والاحاسيس المتطلعه الرحمه والاكبار لانه الشهيد الشهداء وم لتقي بالفكر فهو صاحب ولد العقاد اسوان وحصل الشهاده الابتداييه الرابعه عمره يكمل تعليمه بعدها وحدث زار المدرسه الامام الشيخ محمد عبده وعرض مدرس اللغه العربيه الشيخ فخر الدين كراسه التلميذ عباس العقاد فتصفحها باسما وناقش العقاد موضوعاتها اراء فريده يسبقه اليها التصوف والشريعه والاخلاق وم لتقي رغبه التجديد والاصلاح فصار اسمه الثوره رض الكاتب لطهاره نشاته ونقاء سريرته وعلو مته وقوه ارادته وغزاره علمه وثقافته وروعه زهده وحكمته وصدق ايمانه وشجاعته وثباته الحق ونصرته وتضحيته سبيله بروحه فقدم رض وافي كافي يجمع العمل سيره رجل اعظم انجبت المدرسه الم حم ديه التفت المدر وقال اجدر الفتي يكون كاتبا اشتغل بوظايف كثيره المديريات ومصلحه التلغراف مصلحه سكه الحديد ديوان الاوقاف استقال واحده واحده يقول الوظايف الحكوميه نفوري الوظيفه الحكوميه العهد يقدسها السوابق اغتبط واحمد الله عليها انسي اليوم انني تلقيت خبر قبولي الوظيفه الاولي اكرهتني الظروف طلبها كانني اتلقي خبر الحكم بالسجن الاسر والعبوديه كنت اومن الايمان بان الموظف رقيق القرن العشرين كانت حياته سلسله | Author:  عباس محمود العقاد | Genres: علوم إسلامية سيرة الصحابة | title: عبقرية الإمام علي|\n",
              "Name: combined_text, dtype: object"
            ],
            "text/html": [
              "<div>\n",
              "<style scoped>\n",
              "    .dataframe tbody tr th:only-of-type {\n",
              "        vertical-align: middle;\n",
              "    }\n",
              "\n",
              "    .dataframe tbody tr th {\n",
              "        vertical-align: top;\n",
              "    }\n",
              "\n",
              "    .dataframe thead th {\n",
              "        text-align: right;\n",
              "    }\n",
              "</style>\n",
              "<table border=\"1\" class=\"dataframe\">\n",
              "  <thead>\n",
              "    <tr style=\"text-align: right;\">\n",
              "      <th></th>\n",
              "      <th>combined_text</th>\n",
              "    </tr>\n",
              "  </thead>\n",
              "  <tbody>\n",
              "    <tr>\n",
              "      <th>0</th>\n",
              "      <td>كنت في السادسه عمري وقع في يدي كتاب فن التعامل الناس لمولفه دايل كارنيجي كتابا رايعا قراته عده مرات كاتبه اقترح يعيد الشخص قراءته شهر ففعلت جعلت اطبق قواعده تعاملي الناس فرايت لذلك نتايج عجيبه كارنيجي يسوق القاعده دكتور العقيده واستاذ مساعد كليه المعلمين بجامعه الملك سعود داعيه اسلامي سعودي معروف نشا مدينه الدمام درس المراحل الدراسيه الاولي وقد ينوي دراسه الطب لحظه تخرجه تراجع والتحق بكليه الشريعه وبعد تقدم للدراسات العليا جامعه الامام محمد بن ويذكر تحتها امثله ووقايع لرجال تميزوا قومه روزفلت لنكولن جوزف مايك فتاملت فوجدت الرجل يولف ويوجه لاجل سعاده الدنيا فماذا عرف الاسلام واخلاقه فحصل سعاده الدارين مهارات التعامل عباده يتقرب العبد ربه اكتشفت كارنيجي مات منتحرا فايقنت كتابه حسنه وروعته ينفعه فبحثت في تاريخنا فرايت في سيره رسول الله صلي الله وسلم واصحابه ومواقف المتميزين رجال امتنا يغنينا فبدات الحين اولف الكتاب في فن التعامل الناس فهذا الكتاب الذي يديك وليد شهر سنه نتيجه دراسات قمت لمده عاما ومع الله تعالي علي بتاليف قرابه العشرين عنوانا تجاوزت طبعات بعضها المليوني نسخه اجد احب كتبي الي واغلاها قلبي واكثرها فايده عمليه اظن الكتاب الذي كتبت كلماته بمداد خلطته بدمي سكبت روحي اسطره عصرت ذكرياتي جعلتها كلمات القلب القلب واقسم انها خرجت قلبي مشتاقه يكون مستقرها قلبك فرحماك اعظم سروري علمت قاريا قاريه لهذه الورقات طبق فشعر وشعر غيره بتطور مهاراته وازدادت متعته في حياته فسطر بيمينه الطاهره مشكورا رساله عبر رايه وصور مشاعره بصدق وصراحه ارسلها عبر بريد رساله جوال كاتب السطور لاكون للطفه شاكرا وبظهر الغيب داعيا سعود الاسلاميه بلغت عنوانا وهي نوعان كتبالكافيه الشافيه الانتصار للفرقه الناجيه لابن القيم تحقيق ودراسه وهي نونيه ابن القيم مجلدين وهي رساله الماجستير موقف ابن تيميه الصوفيه مجلدين وهي رساله الدكتوراه المفيد تقريب احكام المسافر طبع طبعات المفيد تقريب احكام الاذان طبع طبعتان الدرر البهيه الالغاز الفقهيه طبع طبعتان تبحث وظيفه الدعوه الله اركب معنا اهميه التوحيد انها ملكه بطن الحوت ليعبدون شرح مصور للعبادات الصلاه والزكاه والصوم والحج طبع مليون نسخه رحله السماء عاشق غرفه العمليات توجيهات للاطباء والمرضي صرخه مطعم الجامعه روايه حول الحجاب وادلته استمتع | Author:  محمد عبد الرحمن العريفي | Genres: علوم إسلامية رقائق | title: استمتع بحياتك|</td>\n",
              "    </tr>\n",
              "    <tr>\n",
              "      <th>1</th>\n",
              "      <td>يزخر التاريخ الاسلامي برجال ظام سطروا حوادثه الكبري بحروف نور يشع صلاحهم ونفعهم للناس فح خلود الذكر مر بن الخطاب كبار صحابه النبي والخليفه الراشد العادل دخول مر الاسلام نقطه تحو كبري حياته ظهر كرجل قوي الشخصيه حاسم الراي طالب للحق ولد العقاد اسوان وحصل الشهاده الابتداييه الرابعه عمره يكمل تعليمه بعدها وحدث زار المدرسه الامام الشيخ محمد عبده وعرض مدرس اللغه العربيه الشيخ فخر الدين كراسه التلميذ عباس العقاد فتصفحها باسما وناقش العقاد موضوعاتها اعز الله الاسلام فكان ظهير لاخوانه المسلمين ضد ظلم الجاهليه فيصاحب النبي ويخدم دعوه الاسلام بكل طاقته يصبح خليفه المسلمين وفاه الخليفه الاول ابي بكر فيوط اركان الدوله الوليده ويوس رقعتها يرعي مصالح ابنايها عدل يخلو الرحمه وهذا الكتاب دراسه لجوانب شخصيه مر وط باعه النفسيه وتعر مفاتيح شخصيته لنفهم الشخصيه العبقريه التفت المدر وقال اجدر الفتي يكون كاتبا اشتغل بوظايف كثيره المديريات ومصلحه التلغراف مصلحه سكه الحديد ديوان الاوقاف استقال واحده واحده يقول الوظايف الحكوميه نفوري الوظيفه الحكوميه العهد يقدسها السوابق اغتبط واحمد الله عليها انسي اليوم انني تلقيت خبر قبولي الوظيفه الاولي اكرهتني الظروف طلبها كانني اتلقي خبر الحكم بالسجن الاسر والعبوديه كنت اومن الايمان بان الموظف رقيق القرن العشرين كانت حياته سلسله | Author:  عباس محمود العقاد | Genres: علوم إسلامية سيرة الصحابة | title: عبقرية عمر|</td>\n",
              "    </tr>\n",
              "    <tr>\n",
              "      <th>2</th>\n",
              "      <td>احتفي التاريخ العربي بالسيره الم حمديه فافرد المجلدات الطوال ذكرت احداث ميلاد ونشاه النبي وقد اسهبت تناول احداث حياته المولد الوفاه بتفاصيل كثيره عززه بالاسانيد ومغرقه تفاصيل الاحداث وتواريخها ولما وضع العقاد الكتاب يكن هدفه عرض جديد للسيره المحمديه اراد ابراز ملامح ولد العقاد اسوان وحصل الشهاده الابتداييه الرابعه عمره يكمل تعليمه بعدها وحدث زار المدرسه الامام الشيخ محمد عبده وعرض مدرس اللغه العربيه الشيخ فخر الدين كراسه التلميذ عباس العقاد فتصفحها باسما وناقش العقاد موضوعاتها عبقريه النبي الانسان اصطفاه الله بظروف ختاره لت شخصيته وبقدرات انسانيه فذ مك نته الاضطلاع بحمل الرساله يقدم جوانب حياه الداعي الرحيم الرفيق بقومه والعالم يصلح فكان القايد العسكري النبيل والسياسي المحن استطاع يدبر امور دوله الاسلام الوليده بمهاره يقترب صفاته الانسانيه فهو الزوج العطوف والاب الحنون رغم جسامه المهمه ارسل التفت المدر وقال اجدر الفتي يكون كاتبا اشتغل بوظايف كثيره المديريات ومصلحه التلغراف مصلحه سكه الحديد ديوان الاوقاف استقال واحده واحده يقول الوظايف الحكوميه نفوري الوظيفه الحكوميه العهد يقدسها السوابق اغتبط واحمد الله عليها انسي اليوم انني تلقيت خبر قبولي الوظيفه الاولي اكرهتني الظروف طلبها كانني اتلقي خبر الحكم بالسجن الاسر والعبوديه كنت اومن الايمان بان الموظف رقيق القرن العشرين كانت حياته سلسله | Author:  عباس محمود العقاد | Genres: علوم إسلامية السيرة النبوية | title: عبقرية محمد|</td>\n",
              "    </tr>\n",
              "    <tr>\n",
              "      <th>3</th>\n",
              "      <td>كتاب يتحدث اسماء الله الحسني وكيف نعيشها حياتنا حرص المولف يكون الكتاب مناسبا لمن متوسطي الثقافه ويكون ناسبا للمحتاج المريض السليم يعمل كمحاضر قسم الشريعه اللغه العربيه كليه البرامج المشتركه بالمحاله التحق بالجامعه عام هجريا حاصل بكالوريوس تخصص العوده جانب حصوله درجه الماجستير تخصص الدعوه الاحتساب العديد الابحاث العلميه المتميزه ومولف كتاب لانك الله | Author:  علي بن جابر الفيفي | Genres: علوم إسلامية رقائق | title: لأنك الله : رحلة إلى السماء السابعة|</td>\n",
              "    </tr>\n",
              "    <tr>\n",
              "      <th>4</th>\n",
              "      <td>عباس محمود العقاد تناول شخصيه الامام علي بن ابي طالب فقد محور العرض مناحي النفس الانسانيه استخلص سيره الامام يلتقي وخصايص النفس الانسانيه عنده ففي سيرته لتقي بالعواطف الجي اشه والاحاسيس المتطلعه الرحمه والاكبار لانه الشهيد الشهداء وم لتقي بالفكر فهو صاحب ولد العقاد اسوان وحصل الشهاده الابتداييه الرابعه عمره يكمل تعليمه بعدها وحدث زار المدرسه الامام الشيخ محمد عبده وعرض مدرس اللغه العربيه الشيخ فخر الدين كراسه التلميذ عباس العقاد فتصفحها باسما وناقش العقاد موضوعاتها اراء فريده يسبقه اليها التصوف والشريعه والاخلاق وم لتقي رغبه التجديد والاصلاح فصار اسمه الثوره رض الكاتب لطهاره نشاته ونقاء سريرته وعلو مته وقوه ارادته وغزاره علمه وثقافته وروعه زهده وحكمته وصدق ايمانه وشجاعته وثباته الحق ونصرته وتضحيته سبيله بروحه فقدم رض وافي كافي يجمع العمل سيره رجل اعظم انجبت المدرسه الم حم ديه التفت المدر وقال اجدر الفتي يكون كاتبا اشتغل بوظايف كثيره المديريات ومصلحه التلغراف مصلحه سكه الحديد ديوان الاوقاف استقال واحده واحده يقول الوظايف الحكوميه نفوري الوظيفه الحكوميه العهد يقدسها السوابق اغتبط واحمد الله عليها انسي اليوم انني تلقيت خبر قبولي الوظيفه الاولي اكرهتني الظروف طلبها كانني اتلقي خبر الحكم بالسجن الاسر والعبوديه كنت اومن الايمان بان الموظف رقيق القرن العشرين كانت حياته سلسله | Author:  عباس محمود العقاد | Genres: علوم إسلامية سيرة الصحابة | title: عبقرية الإمام علي|</td>\n",
              "    </tr>\n",
              "  </tbody>\n",
              "</table>\n",
              "</div><br><label><b>dtype:</b> object</label>"
            ]
          },
          "metadata": {},
          "execution_count": 26
        }
      ]
    },
    {
      "cell_type": "code",
      "source": [
        "# df[\"combined_text\"] = preprocess(df[\"combined_text\"])\n",
        "df[\"combined_text\"].head(1)"
      ],
      "metadata": {
        "id": "qSH-jhxp4mXy",
        "outputId": "7f9961e9-c0ef-4a8c-94de-de9fc57324cb",
        "colab": {
          "base_uri": "https://localhost:8080/",
          "height": 202
        }
      },
      "execution_count": 27,
      "outputs": [
        {
          "output_type": "execute_result",
          "data": {
            "text/plain": [
              "0    كنت في السادسه عمري وقع في يدي كتاب فن التعامل الناس لمولفه دايل كارنيجي كتابا رايعا قراته عده مرات كاتبه اقترح يعيد الشخص قراءته شهر ففعلت جعلت اطبق قواعده تعاملي الناس فرايت لذلك نتايج عجيبه كارنيجي يسوق القاعده دكتور العقيده واستاذ مساعد كليه المعلمين بجامعه الملك سعود داعيه اسلامي سعودي معروف نشا مدينه الدمام درس المراحل الدراسيه الاولي وقد ينوي دراسه الطب لحظه تخرجه تراجع والتحق بكليه الشريعه وبعد تقدم للدراسات العليا جامعه الامام محمد بن ويذكر تحتها امثله ووقايع لرجال تميزوا قومه روزفلت لنكولن جوزف مايك فتاملت فوجدت الرجل يولف ويوجه لاجل سعاده الدنيا فماذا عرف الاسلام واخلاقه فحصل سعاده الدارين مهارات التعامل عباده يتقرب العبد ربه اكتشفت كارنيجي مات منتحرا فايقنت كتابه حسنه وروعته ينفعه فبحثت في تاريخنا فرايت في سيره رسول الله صلي الله وسلم واصحابه ومواقف المتميزين رجال امتنا يغنينا فبدات الحين اولف الكتاب في فن التعامل الناس فهذا الكتاب الذي يديك وليد شهر سنه نتيجه دراسات قمت لمده عاما ومع الله تعالي علي بتاليف قرابه العشرين عنوانا تجاوزت طبعات بعضها المليوني نسخه اجد احب كتبي الي واغلاها قلبي واكثرها فايده عمليه اظن الكتاب الذي كتبت كلماته بمداد خلطته بدمي سكبت روحي اسطره عصرت ذكرياتي جعلتها كلمات القلب القلب واقسم انها خرجت قلبي مشتاقه يكون مستقرها قلبك فرحماك اعظم سروري علمت قاريا قاريه لهذه الورقات طبق فشعر وشعر غيره بتطور مهاراته وازدادت متعته في حياته فسطر بيمينه الطاهره مشكورا رساله عبر رايه وصور مشاعره بصدق وصراحه ارسلها عبر بريد رساله جوال كاتب السطور لاكون للطفه شاكرا وبظهر الغيب داعيا سعود الاسلاميه بلغت عنوانا وهي نوعان كتبالكافيه الشافيه الانتصار للفرقه الناجيه لابن القيم تحقيق ودراسه وهي نونيه ابن القيم مجلدين وهي رساله الماجستير موقف ابن تيميه الصوفيه مجلدين وهي رساله الدكتوراه المفيد تقريب احكام المسافر طبع طبعات المفيد تقريب احكام الاذان طبع طبعتان الدرر البهيه الالغاز الفقهيه طبع طبعتان تبحث وظيفه الدعوه الله اركب معنا اهميه التوحيد انها ملكه بطن الحوت ليعبدون شرح مصور للعبادات الصلاه والزكاه والصوم والحج طبع مليون نسخه رحله السماء عاشق غرفه العمليات توجيهات للاطباء والمرضي صرخه مطعم الجامعه روايه حول الحجاب وادلته استمتع | Author:  محمد عبد الرحمن العريفي | Genres: علوم إسلامية رقائق | title: استمتع بحياتك|\n",
              "Name: combined_text, dtype: object"
            ],
            "text/html": [
              "<div>\n",
              "<style scoped>\n",
              "    .dataframe tbody tr th:only-of-type {\n",
              "        vertical-align: middle;\n",
              "    }\n",
              "\n",
              "    .dataframe tbody tr th {\n",
              "        vertical-align: top;\n",
              "    }\n",
              "\n",
              "    .dataframe thead th {\n",
              "        text-align: right;\n",
              "    }\n",
              "</style>\n",
              "<table border=\"1\" class=\"dataframe\">\n",
              "  <thead>\n",
              "    <tr style=\"text-align: right;\">\n",
              "      <th></th>\n",
              "      <th>combined_text</th>\n",
              "    </tr>\n",
              "  </thead>\n",
              "  <tbody>\n",
              "    <tr>\n",
              "      <th>0</th>\n",
              "      <td>كنت في السادسه عمري وقع في يدي كتاب فن التعامل الناس لمولفه دايل كارنيجي كتابا رايعا قراته عده مرات كاتبه اقترح يعيد الشخص قراءته شهر ففعلت جعلت اطبق قواعده تعاملي الناس فرايت لذلك نتايج عجيبه كارنيجي يسوق القاعده دكتور العقيده واستاذ مساعد كليه المعلمين بجامعه الملك سعود داعيه اسلامي سعودي معروف نشا مدينه الدمام درس المراحل الدراسيه الاولي وقد ينوي دراسه الطب لحظه تخرجه تراجع والتحق بكليه الشريعه وبعد تقدم للدراسات العليا جامعه الامام محمد بن ويذكر تحتها امثله ووقايع لرجال تميزوا قومه روزفلت لنكولن جوزف مايك فتاملت فوجدت الرجل يولف ويوجه لاجل سعاده الدنيا فماذا عرف الاسلام واخلاقه فحصل سعاده الدارين مهارات التعامل عباده يتقرب العبد ربه اكتشفت كارنيجي مات منتحرا فايقنت كتابه حسنه وروعته ينفعه فبحثت في تاريخنا فرايت في سيره رسول الله صلي الله وسلم واصحابه ومواقف المتميزين رجال امتنا يغنينا فبدات الحين اولف الكتاب في فن التعامل الناس فهذا الكتاب الذي يديك وليد شهر سنه نتيجه دراسات قمت لمده عاما ومع الله تعالي علي بتاليف قرابه العشرين عنوانا تجاوزت طبعات بعضها المليوني نسخه اجد احب كتبي الي واغلاها قلبي واكثرها فايده عمليه اظن الكتاب الذي كتبت كلماته بمداد خلطته بدمي سكبت روحي اسطره عصرت ذكرياتي جعلتها كلمات القلب القلب واقسم انها خرجت قلبي مشتاقه يكون مستقرها قلبك فرحماك اعظم سروري علمت قاريا قاريه لهذه الورقات طبق فشعر وشعر غيره بتطور مهاراته وازدادت متعته في حياته فسطر بيمينه الطاهره مشكورا رساله عبر رايه وصور مشاعره بصدق وصراحه ارسلها عبر بريد رساله جوال كاتب السطور لاكون للطفه شاكرا وبظهر الغيب داعيا سعود الاسلاميه بلغت عنوانا وهي نوعان كتبالكافيه الشافيه الانتصار للفرقه الناجيه لابن القيم تحقيق ودراسه وهي نونيه ابن القيم مجلدين وهي رساله الماجستير موقف ابن تيميه الصوفيه مجلدين وهي رساله الدكتوراه المفيد تقريب احكام المسافر طبع طبعات المفيد تقريب احكام الاذان طبع طبعتان الدرر البهيه الالغاز الفقهيه طبع طبعتان تبحث وظيفه الدعوه الله اركب معنا اهميه التوحيد انها ملكه بطن الحوت ليعبدون شرح مصور للعبادات الصلاه والزكاه والصوم والحج طبع مليون نسخه رحله السماء عاشق غرفه العمليات توجيهات للاطباء والمرضي صرخه مطعم الجامعه روايه حول الحجاب وادلته استمتع | Author:  محمد عبد الرحمن العريفي | Genres: علوم إسلامية رقائق | title: استمتع بحياتك|</td>\n",
              "    </tr>\n",
              "  </tbody>\n",
              "</table>\n",
              "</div><br><label><b>dtype:</b> object</label>"
            ]
          },
          "metadata": {},
          "execution_count": 27
        }
      ]
    },
    {
      "cell_type": "code",
      "source": [
        "# df['combined_text'] = preprocess(df['combined_text'])"
      ],
      "metadata": {
        "id": "P5-amiimb7Be"
      },
      "execution_count": 28,
      "outputs": []
    },
    {
      "cell_type": "code",
      "source": [
        "df[\"combined_text\"].head(1)"
      ],
      "metadata": {
        "id": "3CSn2n0EcEKB",
        "outputId": "cd6f32e0-eeea-4587-f7c8-f0063f029af7",
        "colab": {
          "base_uri": "https://localhost:8080/",
          "height": 202
        }
      },
      "execution_count": 29,
      "outputs": [
        {
          "output_type": "execute_result",
          "data": {
            "text/plain": [
              "0    كنت في السادسه عمري وقع في يدي كتاب فن التعامل الناس لمولفه دايل كارنيجي كتابا رايعا قراته عده مرات كاتبه اقترح يعيد الشخص قراءته شهر ففعلت جعلت اطبق قواعده تعاملي الناس فرايت لذلك نتايج عجيبه كارنيجي يسوق القاعده دكتور العقيده واستاذ مساعد كليه المعلمين بجامعه الملك سعود داعيه اسلامي سعودي معروف نشا مدينه الدمام درس المراحل الدراسيه الاولي وقد ينوي دراسه الطب لحظه تخرجه تراجع والتحق بكليه الشريعه وبعد تقدم للدراسات العليا جامعه الامام محمد بن ويذكر تحتها امثله ووقايع لرجال تميزوا قومه روزفلت لنكولن جوزف مايك فتاملت فوجدت الرجل يولف ويوجه لاجل سعاده الدنيا فماذا عرف الاسلام واخلاقه فحصل سعاده الدارين مهارات التعامل عباده يتقرب العبد ربه اكتشفت كارنيجي مات منتحرا فايقنت كتابه حسنه وروعته ينفعه فبحثت في تاريخنا فرايت في سيره رسول الله صلي الله وسلم واصحابه ومواقف المتميزين رجال امتنا يغنينا فبدات الحين اولف الكتاب في فن التعامل الناس فهذا الكتاب الذي يديك وليد شهر سنه نتيجه دراسات قمت لمده عاما ومع الله تعالي علي بتاليف قرابه العشرين عنوانا تجاوزت طبعات بعضها المليوني نسخه اجد احب كتبي الي واغلاها قلبي واكثرها فايده عمليه اظن الكتاب الذي كتبت كلماته بمداد خلطته بدمي سكبت روحي اسطره عصرت ذكرياتي جعلتها كلمات القلب القلب واقسم انها خرجت قلبي مشتاقه يكون مستقرها قلبك فرحماك اعظم سروري علمت قاريا قاريه لهذه الورقات طبق فشعر وشعر غيره بتطور مهاراته وازدادت متعته في حياته فسطر بيمينه الطاهره مشكورا رساله عبر رايه وصور مشاعره بصدق وصراحه ارسلها عبر بريد رساله جوال كاتب السطور لاكون للطفه شاكرا وبظهر الغيب داعيا سعود الاسلاميه بلغت عنوانا وهي نوعان كتبالكافيه الشافيه الانتصار للفرقه الناجيه لابن القيم تحقيق ودراسه وهي نونيه ابن القيم مجلدين وهي رساله الماجستير موقف ابن تيميه الصوفيه مجلدين وهي رساله الدكتوراه المفيد تقريب احكام المسافر طبع طبعات المفيد تقريب احكام الاذان طبع طبعتان الدرر البهيه الالغاز الفقهيه طبع طبعتان تبحث وظيفه الدعوه الله اركب معنا اهميه التوحيد انها ملكه بطن الحوت ليعبدون شرح مصور للعبادات الصلاه والزكاه والصوم والحج طبع مليون نسخه رحله السماء عاشق غرفه العمليات توجيهات للاطباء والمرضي صرخه مطعم الجامعه روايه حول الحجاب وادلته استمتع | Author:  محمد عبد الرحمن العريفي | Genres: علوم إسلامية رقائق | title: استمتع بحياتك|\n",
              "Name: combined_text, dtype: object"
            ],
            "text/html": [
              "<div>\n",
              "<style scoped>\n",
              "    .dataframe tbody tr th:only-of-type {\n",
              "        vertical-align: middle;\n",
              "    }\n",
              "\n",
              "    .dataframe tbody tr th {\n",
              "        vertical-align: top;\n",
              "    }\n",
              "\n",
              "    .dataframe thead th {\n",
              "        text-align: right;\n",
              "    }\n",
              "</style>\n",
              "<table border=\"1\" class=\"dataframe\">\n",
              "  <thead>\n",
              "    <tr style=\"text-align: right;\">\n",
              "      <th></th>\n",
              "      <th>combined_text</th>\n",
              "    </tr>\n",
              "  </thead>\n",
              "  <tbody>\n",
              "    <tr>\n",
              "      <th>0</th>\n",
              "      <td>كنت في السادسه عمري وقع في يدي كتاب فن التعامل الناس لمولفه دايل كارنيجي كتابا رايعا قراته عده مرات كاتبه اقترح يعيد الشخص قراءته شهر ففعلت جعلت اطبق قواعده تعاملي الناس فرايت لذلك نتايج عجيبه كارنيجي يسوق القاعده دكتور العقيده واستاذ مساعد كليه المعلمين بجامعه الملك سعود داعيه اسلامي سعودي معروف نشا مدينه الدمام درس المراحل الدراسيه الاولي وقد ينوي دراسه الطب لحظه تخرجه تراجع والتحق بكليه الشريعه وبعد تقدم للدراسات العليا جامعه الامام محمد بن ويذكر تحتها امثله ووقايع لرجال تميزوا قومه روزفلت لنكولن جوزف مايك فتاملت فوجدت الرجل يولف ويوجه لاجل سعاده الدنيا فماذا عرف الاسلام واخلاقه فحصل سعاده الدارين مهارات التعامل عباده يتقرب العبد ربه اكتشفت كارنيجي مات منتحرا فايقنت كتابه حسنه وروعته ينفعه فبحثت في تاريخنا فرايت في سيره رسول الله صلي الله وسلم واصحابه ومواقف المتميزين رجال امتنا يغنينا فبدات الحين اولف الكتاب في فن التعامل الناس فهذا الكتاب الذي يديك وليد شهر سنه نتيجه دراسات قمت لمده عاما ومع الله تعالي علي بتاليف قرابه العشرين عنوانا تجاوزت طبعات بعضها المليوني نسخه اجد احب كتبي الي واغلاها قلبي واكثرها فايده عمليه اظن الكتاب الذي كتبت كلماته بمداد خلطته بدمي سكبت روحي اسطره عصرت ذكرياتي جعلتها كلمات القلب القلب واقسم انها خرجت قلبي مشتاقه يكون مستقرها قلبك فرحماك اعظم سروري علمت قاريا قاريه لهذه الورقات طبق فشعر وشعر غيره بتطور مهاراته وازدادت متعته في حياته فسطر بيمينه الطاهره مشكورا رساله عبر رايه وصور مشاعره بصدق وصراحه ارسلها عبر بريد رساله جوال كاتب السطور لاكون للطفه شاكرا وبظهر الغيب داعيا سعود الاسلاميه بلغت عنوانا وهي نوعان كتبالكافيه الشافيه الانتصار للفرقه الناجيه لابن القيم تحقيق ودراسه وهي نونيه ابن القيم مجلدين وهي رساله الماجستير موقف ابن تيميه الصوفيه مجلدين وهي رساله الدكتوراه المفيد تقريب احكام المسافر طبع طبعات المفيد تقريب احكام الاذان طبع طبعتان الدرر البهيه الالغاز الفقهيه طبع طبعتان تبحث وظيفه الدعوه الله اركب معنا اهميه التوحيد انها ملكه بطن الحوت ليعبدون شرح مصور للعبادات الصلاه والزكاه والصوم والحج طبع مليون نسخه رحله السماء عاشق غرفه العمليات توجيهات للاطباء والمرضي صرخه مطعم الجامعه روايه حول الحجاب وادلته استمتع | Author:  محمد عبد الرحمن العريفي | Genres: علوم إسلامية رقائق | title: استمتع بحياتك|</td>\n",
              "    </tr>\n",
              "  </tbody>\n",
              "</table>\n",
              "</div><br><label><b>dtype:</b> object</label>"
            ]
          },
          "metadata": {},
          "execution_count": 29
        }
      ]
    },
    {
      "cell_type": "code",
      "source": [
        "# Convert the combined_text column to a list\n",
        "\n",
        "all_texts = df[\"combined_text\"].tolist()\n"
      ],
      "metadata": {
        "id": "zY9vmDuJYH6s"
      },
      "execution_count": 30,
      "outputs": []
    },
    {
      "cell_type": "code",
      "source": [
        "# all_texts"
      ],
      "metadata": {
        "id": "m5i8IJhYsvim"
      },
      "execution_count": 150,
      "outputs": []
    },
    {
      "cell_type": "markdown",
      "source": [],
      "metadata": {
        "id": "uYEOjKHZK0Za"
      }
    },
    {
      "cell_type": "code",
      "source": [],
      "metadata": {
        "id": "QVzkviwct4cH"
      },
      "execution_count": null,
      "outputs": []
    },
    {
      "cell_type": "markdown",
      "source": [],
      "metadata": {
        "id": "gZQ0YSADK0o_"
      }
    },
    {
      "cell_type": "markdown",
      "source": [
        "# Keras Embedding"
      ],
      "metadata": {
        "id": "1gevJ6vg1Z2X"
      }
    },
    {
      "cell_type": "code",
      "source": [
        "!pip install tensorflow"
      ],
      "metadata": {
        "id": "BtO3pr2La213",
        "outputId": "6974f35d-0a02-4598-86a8-329a8ed9a443",
        "colab": {
          "base_uri": "https://localhost:8080/"
        }
      },
      "execution_count": 90,
      "outputs": [
        {
          "output_type": "stream",
          "name": "stdout",
          "text": [
            "Requirement already satisfied: tensorflow in /usr/local/lib/python3.11/dist-packages (2.18.0)\n",
            "Requirement already satisfied: absl-py>=1.0.0 in /usr/local/lib/python3.11/dist-packages (from tensorflow) (1.4.0)\n",
            "Requirement already satisfied: astunparse>=1.6.0 in /usr/local/lib/python3.11/dist-packages (from tensorflow) (1.6.3)\n",
            "Requirement already satisfied: flatbuffers>=24.3.25 in /usr/local/lib/python3.11/dist-packages (from tensorflow) (25.2.10)\n",
            "Requirement already satisfied: gast!=0.5.0,!=0.5.1,!=0.5.2,>=0.2.1 in /usr/local/lib/python3.11/dist-packages (from tensorflow) (0.6.0)\n",
            "Requirement already satisfied: google-pasta>=0.1.1 in /usr/local/lib/python3.11/dist-packages (from tensorflow) (0.2.0)\n",
            "Requirement already satisfied: libclang>=13.0.0 in /usr/local/lib/python3.11/dist-packages (from tensorflow) (18.1.1)\n",
            "Requirement already satisfied: opt-einsum>=2.3.2 in /usr/local/lib/python3.11/dist-packages (from tensorflow) (3.4.0)\n",
            "Requirement already satisfied: packaging in /usr/local/lib/python3.11/dist-packages (from tensorflow) (24.2)\n",
            "Requirement already satisfied: protobuf!=4.21.0,!=4.21.1,!=4.21.2,!=4.21.3,!=4.21.4,!=4.21.5,<6.0.0dev,>=3.20.3 in /usr/local/lib/python3.11/dist-packages (from tensorflow) (5.29.3)\n",
            "Requirement already satisfied: requests<3,>=2.21.0 in /usr/local/lib/python3.11/dist-packages (from tensorflow) (2.32.3)\n",
            "Requirement already satisfied: setuptools in /usr/local/lib/python3.11/dist-packages (from tensorflow) (75.1.0)\n",
            "Requirement already satisfied: six>=1.12.0 in /usr/local/lib/python3.11/dist-packages (from tensorflow) (1.17.0)\n",
            "Requirement already satisfied: termcolor>=1.1.0 in /usr/local/lib/python3.11/dist-packages (from tensorflow) (2.5.0)\n",
            "Requirement already satisfied: typing-extensions>=3.6.6 in /usr/local/lib/python3.11/dist-packages (from tensorflow) (4.12.2)\n",
            "Requirement already satisfied: wrapt>=1.11.0 in /usr/local/lib/python3.11/dist-packages (from tensorflow) (1.17.2)\n",
            "Requirement already satisfied: grpcio<2.0,>=1.24.3 in /usr/local/lib/python3.11/dist-packages (from tensorflow) (1.71.0)\n",
            "Requirement already satisfied: tensorboard<2.19,>=2.18 in /usr/local/lib/python3.11/dist-packages (from tensorflow) (2.18.0)\n",
            "Requirement already satisfied: keras>=3.5.0 in /usr/local/lib/python3.11/dist-packages (from tensorflow) (3.8.0)\n",
            "Requirement already satisfied: numpy<2.1.0,>=1.26.0 in /usr/local/lib/python3.11/dist-packages (from tensorflow) (2.0.2)\n",
            "Requirement already satisfied: h5py>=3.11.0 in /usr/local/lib/python3.11/dist-packages (from tensorflow) (3.13.0)\n",
            "Requirement already satisfied: ml-dtypes<0.5.0,>=0.4.0 in /usr/local/lib/python3.11/dist-packages (from tensorflow) (0.4.1)\n",
            "Requirement already satisfied: tensorflow-io-gcs-filesystem>=0.23.1 in /usr/local/lib/python3.11/dist-packages (from tensorflow) (0.37.1)\n",
            "Requirement already satisfied: wheel<1.0,>=0.23.0 in /usr/local/lib/python3.11/dist-packages (from astunparse>=1.6.0->tensorflow) (0.45.1)\n",
            "Requirement already satisfied: rich in /usr/local/lib/python3.11/dist-packages (from keras>=3.5.0->tensorflow) (13.9.4)\n",
            "Requirement already satisfied: namex in /usr/local/lib/python3.11/dist-packages (from keras>=3.5.0->tensorflow) (0.0.8)\n",
            "Requirement already satisfied: optree in /usr/local/lib/python3.11/dist-packages (from keras>=3.5.0->tensorflow) (0.14.1)\n",
            "Requirement already satisfied: charset-normalizer<4,>=2 in /usr/local/lib/python3.11/dist-packages (from requests<3,>=2.21.0->tensorflow) (3.4.1)\n",
            "Requirement already satisfied: idna<4,>=2.5 in /usr/local/lib/python3.11/dist-packages (from requests<3,>=2.21.0->tensorflow) (3.10)\n",
            "Requirement already satisfied: urllib3<3,>=1.21.1 in /usr/local/lib/python3.11/dist-packages (from requests<3,>=2.21.0->tensorflow) (2.3.0)\n",
            "Requirement already satisfied: certifi>=2017.4.17 in /usr/local/lib/python3.11/dist-packages (from requests<3,>=2.21.0->tensorflow) (2025.1.31)\n",
            "Requirement already satisfied: markdown>=2.6.8 in /usr/local/lib/python3.11/dist-packages (from tensorboard<2.19,>=2.18->tensorflow) (3.7)\n",
            "Requirement already satisfied: tensorboard-data-server<0.8.0,>=0.7.0 in /usr/local/lib/python3.11/dist-packages (from tensorboard<2.19,>=2.18->tensorflow) (0.7.2)\n",
            "Requirement already satisfied: werkzeug>=1.0.1 in /usr/local/lib/python3.11/dist-packages (from tensorboard<2.19,>=2.18->tensorflow) (3.1.3)\n",
            "Requirement already satisfied: MarkupSafe>=2.1.1 in /usr/local/lib/python3.11/dist-packages (from werkzeug>=1.0.1->tensorboard<2.19,>=2.18->tensorflow) (3.0.2)\n",
            "Requirement already satisfied: markdown-it-py>=2.2.0 in /usr/local/lib/python3.11/dist-packages (from rich->keras>=3.5.0->tensorflow) (3.0.0)\n",
            "Requirement already satisfied: pygments<3.0.0,>=2.13.0 in /usr/local/lib/python3.11/dist-packages (from rich->keras>=3.5.0->tensorflow) (2.18.0)\n",
            "Requirement already satisfied: mdurl~=0.1 in /usr/local/lib/python3.11/dist-packages (from markdown-it-py>=2.2.0->rich->keras>=3.5.0->tensorflow) (0.1.2)\n"
          ]
        }
      ]
    },
    {
      "cell_type": "code",
      "source": [
        "import tensorflow as tf\n",
        "import numpy as np\n",
        "from sklearn.metrics.pairwise import cosine_similarity\n",
        "from tensorflow.keras.preprocessing.text import Tokenizer\n",
        "from tensorflow.keras.models import Sequential\n",
        "from tensorflow.keras.layers import Dense\n",
        "from tensorflow.keras.layers import Flatten\n",
        "from tensorflow.keras.layers import Embedding\n",
        "from tensorflow.keras.preprocessing.sequence import pad_sequences\n",
        "\n",
        "import matplotlib.pyplot as plt\n",
        "import seaborn as sns"
      ],
      "metadata": {
        "id": "ivhGWFvn1fke"
      },
      "execution_count": 91,
      "outputs": []
    },
    {
      "cell_type": "code",
      "source": [
        "df['sentence_length'] = df['combined_text'].apply(lambda x: len(str(x).split()))  # Word count\n",
        "\n",
        "# Plot histogram\n",
        "plt.figure(figsize=(15, 5))\n",
        "sns.histplot(df['sentence_length'], bins=50, kde=True, color='blue')\n",
        "plt.xlabel(\"Sentence Length (words)\")\n",
        "plt.ylabel(\"Frequency\")\n",
        "plt.title(\"Distribution of Sentence Lengths\")\n",
        "plt.show()\n",
        "\n",
        "# Plot box plot\n",
        "plt.figure(figsize=(15, 5))\n",
        "sns.boxplot(x=df['sentence_length'], color='orange')\n",
        "plt.xlabel(\"Sentence Length (words)\")\n",
        "plt.title(\"Sentence Length Box Plot\")\n",
        "plt.show()"
      ],
      "metadata": {
        "id": "0IOrvxc2VAXR",
        "outputId": "04619681-557e-4096-c507-50310c4f14a4",
        "colab": {
          "base_uri": "https://localhost:8080/",
          "height": 957
        }
      },
      "execution_count": 33,
      "outputs": [
        {
          "output_type": "display_data",
          "data": {
            "text/plain": [
              "<Figure size 1500x500 with 1 Axes>"
            ],
            "image/png": "[encoded data removed]"
          },
          "metadata": {}
        },
        {
          "output_type": "display_data",
          "data": {
            "text/plain": [
              "<Figure size 1500x500 with 1 Axes>"
            ],
            "image/png": "[encoded data removed]"
          },
          "metadata": {}
        }
      ]
    },
    {
      "cell_type": "code",
      "source": [
        "Q1 = df['sentence_length'].quantile(0.25)\n",
        "Q3 = df['sentence_length'].quantile(0.75)\n",
        "IQR = Q3 - Q1\n",
        "\n",
        "# Define outlier boundaries\n",
        "lower_bound = Q1 - 1.5 * IQR\n",
        "upper_bound = Q3 + 1.5 * IQR\n",
        "\n",
        "# Count outliers\n",
        "outliers = df[(df['sentence_length'] < lower_bound) | (df['sentence_length'] > upper_bound)]\n",
        "outlier_count = outliers.shape[0]\n",
        "\n",
        "print(f\"Number of outliers: {outlier_count}\")"
      ],
      "metadata": {
        "id": "sHikf3sB4HPu",
        "outputId": "f98c1cd1-a9eb-4bce-c638-0b656725da36",
        "colab": {
          "base_uri": "https://localhost:8080/"
        }
      },
      "execution_count": 34,
      "outputs": [
        {
          "output_type": "stream",
          "name": "stdout",
          "text": [
            "Number of outliers: 423\n"
          ]
        }
      ]
    },
    {
      "cell_type": "code",
      "source": [
        "tokenizer = Tokenizer(oov_token=\"<UNK>\")\n",
        "tokenizer.fit_on_texts(all_texts)\n",
        "\n",
        "vocab_size = len(tokenizer.word_index) + 1\n",
        "\n",
        "encode_data = tokenizer.texts_to_sequences(all_texts)"
      ],
      "metadata": {
        "id": "wvD9B6lp8Cnv"
      },
      "execution_count": 35,
      "outputs": []
    },
    {
      "cell_type": "code",
      "source": [
        "reverse_word_index = {index: word for word, index in tokenizer.word_index.items()}\n",
        "\n",
        "token_id = 5 # Example token ID\n",
        "word = reverse_word_index.get(token_id, \"UNKNOWN\")\n",
        "print(f\"Token {token_id} corresponds to word: {word}\")\n"
      ],
      "metadata": {
        "id": "eYNxyQa9xg-k",
        "outputId": "b3b0fad9-5d2c-4af7-e1fe-7f931ef141fa",
        "colab": {
          "base_uri": "https://localhost:8080/"
        }
      },
      "execution_count": 71,
      "outputs": [
        {
          "output_type": "stream",
          "name": "stdout",
          "text": [
            "Token 5 corresponds to word: title\n"
          ]
        }
      ]
    },
    {
      "cell_type": "code",
      "source": [
        "# Reverse mapping: {index: word}\n",
        "reverse_word_index = {index: word for word, index in tokenizer.word_index.items()}\n",
        "\n",
        "# Get the first 200 token-word pairs\n",
        "tokens_set = {(index, reverse_word_index[index]) for index in list(reverse_word_index.keys())[:200]}\n",
        "\n",
        "# Print the set\n",
        "print(tokens_set)\n"
      ],
      "metadata": {
        "id": "IuaaCACIz3YX",
        "outputId": "3aae5a20-a6ab-4f60-9db2-a83082080803",
        "colab": {
          "base_uri": "https://localhost:8080/"
        }
      },
      "execution_count": 37,
      "outputs": [
        {
          "output_type": "stream",
          "name": "stdout",
          "text": [
            "{(73, 'العام'), (5, 'title'), (157, 'المعرفه'), (71, 'دراسات'), (45, 'يمكن'), (193, 'التاريخيه'), (140, 'وعلي'), (99, 'المجتمع'), (104, 'اليوم'), (68, 'المختلفه'), (190, 'عنه'), (103, 'العلم'), (6, 'عام'), (134, 'المراه'), (36, 'علي'), (69, 'يكون'), (187, 'الشيخ'), (176, 'حصل'), (61, 'العمل'), (126, 'سلسله'), (16, 'عبد'), (123, 'موضوع'), (25, 'وهي'), (108, 'اداره'), (90, 'القاري'), (171, 'عندما'), (4, 'genres'), (46, 'وكان'), (59, 'الاسلاميه'), (80, 'الاسلامي'), (43, 'القرن'), (93, 'قصص'), (41, 'حول'), (22, 'جامعه'), (102, 'الاجتماعيه'), (83, 'عبر'), (66, 'الحديث'), (34, 'العلوم'), (23, 'كانت'), (192, 'بالاضافه'), (7, 'في'), (89, 'يتناول'), (124, 'العلمي'), (184, 'الثقافه'), (195, 'جايزه'), (17, 'العالم'), (24, 'اللغه'), (1, '<UNK>'), (101, 'الاسلام'), (180, 'من'), (174, 'الفن'), (152, 'الكتابه'), (114, 'نفسه'), (18, 'كتب'), (76, 'عالم'), (194, 'مفهوم'), (199, 'سياسة'), (132, 'العالميه'), (39, 'ولد'), (97, 'الروايه'), (74, 'انها'), (144, 'فهو'), (197, 'لان'), (50, 'العديد'), (181, 'حياته'), (168, 'بان'), (85, 'علم'), (121, 'الرابع'), (136, 'المتحده'), (182, 'الطفل'), (84, 'الكثير'), (107, 'الادب'), (143, 'جديده'), (125, 'الوقت'), (169, 'البشريه'), (15, 'خلال'), (147, 'السياسيه'), (28, 'انه'), (148, 'الاعمال'), (142, 'احمد'), (167, 'الدوليه'), (173, 'جانب'), (170, 'لغة'), (200, 'وجغرافيا'), (131, 'الدوله'), (35, 'مصر'), (31, 'علوم'), (156, 'وكذلك'), (185, 'فصول'), (55, 'البحث'), (79, 'الفلسفه'), (161, 'الاداره'), (11, 'العربي'), (109, 'الاعلام'), (162, 'سنوات'), (115, 'الدراسه'), (19, 'الله'), (159, 'بيروت'), (94, 'الكاتب'), (91, 'القاهره'), (54, 'اهم'), (153, 'مصري'), (27, 'بن'), (164, 'فن'), (191, 'وغيرها'), (112, 'الحديثه'), (149, 'وان'), (189, 'جاء'), (188, 'جدا'), (166, 'الخامس'), (119, 'وهذا'), (98, 'كليه'), (179, 'العربية'), (113, 'الناس'), (57, 'العلميه'), (21, 'الاول'), (95, 'الفكر'), (154, 'يقدم'), (186, 'فنون'), (62, 'عليها'), (20, 'تاريخ'), (26, 'الثاني'), (65, 'كتابه'), (9, 'الفصل'), (151, 'الاخري'), (163, 'سواء'), (128, 'تكون'), (86, 'بشكل'), (81, 'ان'), (129, 'اليه'), (38, 'فقد'), (137, 'الاساسيه'), (138, 'كاتب'), (105, 'عدد'), (100, 'التي'), (2, 'الكتاب'), (141, 'الخاصه'), (117, 'حياه'), (67, 'العامه'), (72, 'تم'), (82, 'روايه'), (116, 'تناول'), (120, 'ابن'), (29, 'أدب'), (32, 'المولف'), (106, 'الجزء'), (53, 'عمل'), (51, 'دار'), (64, 'قانون'), (133, 'الباب'), (12, 'كتاب'), (160, 'الطب'), (145, 'اهميه'), (165, 'الانسانيه'), (42, 'الاولي'), (110, 'لكل'), (13, 'محمد'), (78, 'روايات'), (183, 'العشرين'), (146, 'مدينه'), (155, 'المصريه'), (172, 'لقد'), (175, 'مجله'), (58, 'الثالث'), (118, 'الدكتور'), (8, 'العربيه'), (56, 'المعلومات'), (88, 'وذلك'), (44, 'التاريخ'), (63, 'اخري'), (135, 'قصه'), (96, 'اخر'), (178, 'العلاقات'), (196, 'الحب'), (139, 'الحرب'), (92, 'النفس'), (37, 'الي'), (52, 'والتي'), (70, 'مجموعه'), (60, 'الكتب'), (111, 'عده'), (122, 'فلسفة'), (158, 'القران'), (198, 'شيء'), (30, 'الحياه'), (48, 'الدين'), (130, 'محمود'), (150, 'عمليه'), (87, 'الاطفال'), (77, 'العرب'), (127, 'الدراسات'), (33, 'الانسان'), (49, 'القانون'), (177, 'العصر'), (75, 'مجال'), (47, 'دراسه'), (14, 'وفي'), (40, 'سنه'), (10, 'وقد'), (3, 'author')}\n"
          ]
        }
      ]
    },
    {
      "cell_type": "code",
      "source": [
        "# encode_data[150]"
      ],
      "metadata": {
        "id": "xL7I_a089iDG"
      },
      "execution_count": 133,
      "outputs": []
    },
    {
      "cell_type": "code",
      "source": [
        "# Find the longest sequence length\n",
        "max_sentence_length = max(len(seq) for seq in encode_data)\n",
        "\n",
        "# Pad sequences using the dynamically determined maxlen\n",
        "padded_docs = pad_sequences(encode_data, maxlen=300, padding='post')\n",
        "\n",
        "print(padded_docs, padded_docs.shape)"
      ],
      "metadata": {
        "colab": {
          "base_uri": "https://localhost:8080/"
        },
        "id": "r-JdwkLSC4wF",
        "outputId": "99558899-3072-4467-a897-722f0725d270"
      },
      "execution_count": 39,
      "outputs": [
        {
          "output_type": "stream",
          "name": "stdout",
          "text": [
            "[[ 2275   351   331 ...     5 14805 21846]\n",
            " [11206    44    80 ...     0     0     0]\n",
            " [43945    44    11 ...     0     0     0]\n",
            " ...\n",
            " [  599   115   145 ...     0     0     0]\n",
            " [  154     2   133 ...     0     0     0]\n",
            " [ 2393    12   534 ...     0     0     0]] (14200, 300)\n"
          ]
        }
      ]
    },
    {
      "cell_type": "code",
      "source": [
        "print(vocab_size, max_sentence_length)"
      ],
      "metadata": {
        "colab": {
          "base_uri": "https://localhost:8080/"
        },
        "id": "k3oKe6ApFQJC",
        "outputId": "4a60bf5b-2f3d-44c4-a017-89a9f29ad24f"
      },
      "execution_count": 40,
      "outputs": [
        {
          "output_type": "stream",
          "name": "stdout",
          "text": [
            "168033 3531\n"
          ]
        }
      ]
    },
    {
      "cell_type": "code",
      "source": [
        "model = Sequential([\n",
        "    Embedding(input_dim=vocab_size, output_dim=8),\n",
        "    Flatten()\n",
        "])"
      ],
      "metadata": {
        "id": "N1VQE6HjE9Qm"
      },
      "execution_count": 183,
      "outputs": []
    },
    {
      "cell_type": "code",
      "source": [
        "sample_input = tf.convert_to_tensor(padded_docs, dtype=tf.int32)\n",
        "embedded_output = model(sample_input)\n",
        "print(embedded_output.shape)\n",
        "print(embedded_output)"
      ],
      "metadata": {
        "colab": {
          "base_uri": "https://localhost:8080/"
        },
        "id": "yDHVyJ5TF7EI",
        "outputId": "615ed537-9ec5-4b37-bd19-9f7bc5369699"
      },
      "execution_count": 184,
      "outputs": [
        {
          "output_type": "stream",
          "name": "stdout",
          "text": [
            "(14200, 2400)\n",
            "tf.Tensor(\n",
            "[[-0.01698326 -0.0156287   0.00286455 ... -0.02589084  0.04701984\n",
            "   0.00807733]\n",
            " [ 0.0391393  -0.00159768 -0.02501495 ... -0.00618624  0.04618964\n",
            "  -0.02021771]\n",
            " [-0.03537618 -0.04853463  0.02281097 ... -0.00618624  0.04618964\n",
            "  -0.02021771]\n",
            " ...\n",
            " [ 0.04974845 -0.00406007 -0.04958236 ... -0.00618624  0.04618964\n",
            "  -0.02021771]\n",
            " [ 0.01662738  0.03293612  0.00832073 ... -0.00618624  0.04618964\n",
            "  -0.02021771]\n",
            " [ 0.02736462  0.02798739  0.00147684 ... -0.00618624  0.04618964\n",
            "  -0.02021771]], shape=(14200, 2400), dtype=float32)\n"
          ]
        }
      ]
    },
    {
      "cell_type": "code",
      "source": [
        "print(embedded_output[0])"
      ],
      "metadata": {
        "id": "GnVJ5yIz6qFb",
        "outputId": "0f3f7c4b-493e-43be-d6b9-7568af8e6093",
        "colab": {
          "base_uri": "https://localhost:8080/"
        }
      },
      "execution_count": 194,
      "outputs": [
        {
          "output_type": "stream",
          "name": "stdout",
          "text": [
            "tf.Tensor(\n",
            "[-0.01698326 -0.0156287   0.00286455 ... -0.02589084  0.04701984\n",
            "  0.00807733], shape=(2400,), dtype=float32)\n"
          ]
        }
      ]
    },
    {
      "cell_type": "code",
      "source": [
        "query_text = [\"عباس محمود العقاد\"]\n",
        "query_sequence = tokenizer.texts_to_sequences(query_text)\n",
        "print(query_sequence)\n",
        "# Pad the query to match input shape\n",
        "query_padded = pad_sequences(query_sequence, maxlen=300, padding='post')\n",
        "\n",
        "# Convert query to embedding\n",
        "query_embedding = model(tf.constant(query_padded))\n",
        "# print(query_embedding)\n",
        "# # Print query shape\n",
        "print(\"Query Embedding Shape:\", query_embedding.shape)"
      ],
      "metadata": {
        "id": "P0DzJVYDGzZL",
        "outputId": "daef661f-4504-41c3-cdd4-218fadf4eed7",
        "colab": {
          "base_uri": "https://localhost:8080/"
        }
      },
      "execution_count": 186,
      "outputs": [
        {
          "output_type": "stream",
          "name": "stdout",
          "text": [
            "[[602, 130, 509]]\n",
            "Query Embedding Shape: (1, 2400)\n"
          ]
        }
      ]
    },
    {
      "cell_type": "markdown",
      "source": [
        "#Similarity"
      ],
      "metadata": {
        "id": "ORRBNlytPYQV"
      }
    },
    {
      "cell_type": "code",
      "source": [
        "cos_similarities = cosine_similarity(embedded_output, query_embedding)\n",
        "\n",
        "cos_similarities = cos_similarities.flatten()\n",
        "\n",
        "most_similar_index = np.argmax(cos_similarities)\n",
        "\n",
        "print(f\"Most Similar Index: {most_similar_index}\")\n",
        "print(f\"Highest Cosine Similarity Score: {cos_similarities[most_similar_index]}\")\n"
      ],
      "metadata": {
        "id": "FZ0B6iZOPaYf",
        "outputId": "f70e9d4f-51eb-4257-9889-7de8026b0032",
        "colab": {
          "base_uri": "https://localhost:8080/"
        }
      },
      "execution_count": 178,
      "outputs": [
        {
          "output_type": "stream",
          "name": "stdout",
          "text": [
            "Most Similar Index: 8331\n",
            "Highest Cosine Similarity Score: 0.9830659031867981\n"
          ]
        }
      ]
    },
    {
      "cell_type": "code",
      "source": [
        "top_n = 10\n",
        "top_n_indices = np.argsort(cos_similarities)[-top_n:][::-1]  # Sort in descending order\n",
        "\n",
        "# Print the top 10 most similar embeddings\n",
        "print(\"Top 10 most similar indices and their cosine similarity scores:\")\n",
        "for rank, idx in enumerate(top_n_indices, start=1):\n",
        "    print(f\"Rank {rank}: Index {idx}, Similarity: {cos_similarities[idx]:.4f}\")"
      ],
      "metadata": {
        "id": "mLdS_KzEPxIU",
        "outputId": "e609ced3-d915-4346-ef32-1d892cb50bc7",
        "colab": {
          "base_uri": "https://localhost:8080/"
        }
      },
      "execution_count": 179,
      "outputs": [
        {
          "output_type": "stream",
          "name": "stdout",
          "text": [
            "Top 10 most similar indices and their cosine similarity scores:\n",
            "Rank 1: Index 8331, Similarity: 0.9831\n",
            "Rank 2: Index 1631, Similarity: 0.9778\n",
            "Rank 3: Index 4464, Similarity: 0.9771\n",
            "Rank 4: Index 6427, Similarity: 0.9766\n",
            "Rank 5: Index 5932, Similarity: 0.9761\n",
            "Rank 6: Index 6425, Similarity: 0.9723\n",
            "Rank 7: Index 13519, Similarity: 0.9722\n",
            "Rank 8: Index 2539, Similarity: 0.9720\n",
            "Rank 9: Index 13753, Similarity: 0.9717\n",
            "Rank 10: Index 8989, Similarity: 0.9715\n"
          ]
        }
      ]
    },
    {
      "cell_type": "code",
      "source": [
        "all_texts[5932]"
      ],
      "metadata": {
        "id": "kCJYxriyQgHL",
        "outputId": "855ec246-808d-4b56-922f-7f462a832d53",
        "colab": {
          "base_uri": "https://localhost:8080/",
          "height": 35
        }
      },
      "execution_count": 180,
      "outputs": [
        {
          "output_type": "execute_result",
          "data": {
            "text/plain": [
              "'روايي مصري | Author:  محمد صادق | Genres: nan | title: هيبتنا|'"
            ],
            "application/vnd.google.colaboratory.intrinsic+json": {
              "type": "string"
            }
          },
          "metadata": {},
          "execution_count": 180
        }
      ]
    },
    {
      "cell_type": "code",
      "source": [
        "from numpy import dot\n",
        "from numpy.linalg import norm\n",
        "\n",
        "query_vec = query_embedding[0]  # shape (embedding_dim,)\n",
        "cosine_scores_np = []\n",
        "for emb in embedded_output:\n",
        "    # Cosine similarity = dot(a,b) / (norm(a)*norm(b))\n",
        "    sim = dot(query_vec, emb) / (norm(query_vec) * norm(emb))\n",
        "    cosine_scores_np.append(sim)\n",
        "\n",
        "cosine_scores_np = np.array(cosine_scores_np)  # shape: (num_books,)"
      ],
      "metadata": {
        "id": "EBIwpKuyRhHJ"
      },
      "execution_count": 181,
      "outputs": []
    },
    {
      "cell_type": "code",
      "source": [
        "# Get the top 5 indices\n",
        "top_5_indices = np.argsort(-cosine_scores_np)[:1]  # sort descending, take first 5\n",
        "top_5_indices = top_5_indices.flatten()  # flatten if needed\n",
        "# Retrieve corresponding rows from the DataFrame\n",
        "top_5_books = df.iloc[top_5_indices]\n",
        "\n",
        "# Print or return the results\n",
        "for i, idx in enumerate(top_5_indices):\n",
        "    score = cosine_scores_np[idx]\n",
        "    row = df.iloc[idx]\n",
        "    print(f\"Rank {i+1}\")\n",
        "    print(f\"Title: {row.get('Title', 'N/A')}\")  # or row[\"Title\"] if the column is \"Title\"\n",
        "    print(f\"Author: {row.get('Author', 'N/A')}\")\n",
        "    print(f\"Genres: {row.get('Genres', 'N/A')}\")\n",
        "    print(\"---\")"
      ],
      "metadata": {
        "id": "AtarjgWwTkxx",
        "outputId": "395109bd-84df-4c31-f055-2626916f0d0b",
        "colab": {
          "base_uri": "https://localhost:8080/"
        }
      },
      "execution_count": 182,
      "outputs": [
        {
          "output_type": "stream",
          "name": "stdout",
          "text": [
            "Rank 1\n",
            "Title: الحب والمطر\n",
            "Author:  ناديا نعامنه\n",
            "Genres: nan\n",
            "---\n"
          ]
        }
      ]
    },
    {
      "cell_type": "markdown",
      "source": [
        "#Skill issue"
      ],
      "metadata": {
        "id": "c6linLpWKBfc"
      }
    },
    {
      "cell_type": "code",
      "source": [
        "# query_embedding_flat = tf.reduce_mean(query_embedding, axis=1)  # Average over words\n",
        "# data_embeddings_flat = tf.reduce_mean(embedded_output, axis=1)  # Average over words\n",
        "# print(query_embedding_flat.shape)\n",
        "# print(data_embeddings_flat.shape)\n",
        "\n",
        "# # Convert to numpy\n",
        "# query_embedding_np = query_embedding_flat.numpy()\n",
        "# data_embeddings_np = data_embeddings_flat.numpy()\n",
        "\n",
        "# # Compute cosine similarity\n",
        "# cos_similarities = cosine_similarity(query_embedding, embedded_output)\n",
        "# cos_similarities = cos_similarities.ravel()  # Now it's (1000,)\n",
        "\n",
        "# # Print similarity scores\n",
        "# print(\"Cosine Similarities:\", cos_similarities.shape)\n"
      ],
      "metadata": {
        "id": "H4FqkkK6Hleb"
      },
      "execution_count": 74,
      "outputs": []
    },
    {
      "cell_type": "code",
      "source": [
        "# top_indices = np.argsort(cos_similarities)[::-1][:5]\n",
        "# print(\"Top 5 most similar sentences:\", top_indices)\n",
        "# print(\"Similarities:\", cos_similarities[top_indices])"
      ],
      "metadata": {
        "id": "rgKdGljIo_cB"
      },
      "execution_count": 104,
      "outputs": []
    },
    {
      "cell_type": "code",
      "source": [
        "# import numpy as np\n",
        "# from sklearn.metrics.pairwise import cosine_similarity\n",
        "\n",
        "# # Compute cosine similarity\n",
        "# # cos_similarities = cosine_similarity(query_embedding_np, data_embeddings_np)[0]\n",
        "\n",
        "# # Get the index of the most similar text\n",
        "# most_similar_index = np.argmax(cos_similarities)  # Single best match\n",
        "# most_similar_text = all_texts[most_similar_index]\n",
        "# print(f\"\\n🔹 **Most Similar Text:** {most_similar_text} - Similarity: {cos_similarities[most_similar_index]}\")\n",
        "\n",
        "# # Get indices of top 10 most similar sentences (sorted in descending order)\n",
        "# top_10_indices = np.argsort(-cos_similarities)[:10]  # Fix sorting issue\n",
        "# #\n",
        "# # Print top 10 most similar texts with their similarity scores\n",
        "# print(\"\\n🔹 **Top 10 Most Similar Sentences:**\")\n",
        "# for i, idx in enumerate(top_10_indices):\n",
        "#     print(f\"{i+1}. {idx} {all_texts[idx]} - Similarity: {cos_similarities[idx]:.4f}\")\n"
      ],
      "metadata": {
        "id": "6KKz9ir-H__L"
      },
      "execution_count": 105,
      "outputs": []
    },
    {
      "cell_type": "code",
      "source": [],
      "metadata": {
        "id": "6ULBs8cTvylk"
      },
      "execution_count": 69,
      "outputs": []
    }
  ]
}